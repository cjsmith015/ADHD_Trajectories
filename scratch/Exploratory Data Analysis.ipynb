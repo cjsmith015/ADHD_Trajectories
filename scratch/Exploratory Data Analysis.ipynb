{
 "cells": [
  {
   "cell_type": "code",
   "execution_count": 2,
   "metadata": {},
   "outputs": [
    {
     "name": "stderr",
     "output_type": "stream",
     "text": [
      "Using TensorFlow backend.\n"
     ]
    }
   ],
   "source": [
    "import pandas as pd\n",
    "import numpy as np\n",
    "import matplotlib.pyplot as plt\n",
    "%matplotlib inline\n",
    "plt.style.use('ggplot')\n",
    "from model_metrics import *\n",
    "from fancyimpute import *\n",
    "import pickle\n",
    "from sklearn.metrics import roc_curve, auc"
   ]
  },
  {
   "cell_type": "markdown",
   "metadata": {},
   "source": [
    "# Multiple Imputation Testing"
   ]
  },
  {
   "cell_type": "markdown",
   "metadata": {},
   "source": [
    "For information on algorithms, see [fancyimpute](https://pypi.python.org/pypi/fancyimpute)"
   ]
  },
  {
   "cell_type": "markdown",
   "metadata": {},
   "source": [
    "Make all the solver objects"
   ]
  },
  {
   "cell_type": "code",
   "execution_count": 5,
   "metadata": {
    "collapsed": true
   },
   "outputs": [],
   "source": [
    "train_data = pd.read_csv('data/train_data.csv')"
   ]
  },
  {
   "cell_type": "code",
   "execution_count": 6,
   "metadata": {
    "collapsed": true
   },
   "outputs": [],
   "source": [
    "KNN_solver = KNN(k=5)\n",
    "softimpute_solver = SoftImpute()\n",
    "MICE_solver = MICE()\n",
    "simple_solver = SimpleFill()\n",
    "iterativeSVD_solver = IterativeSVD()\n",
    "matrixfactorization_solver = MatrixFactorization()"
   ]
  },
  {
   "cell_type": "markdown",
   "metadata": {},
   "source": [
    "Create a dataframe from the complete data in `train_data`. Then, randomly insert some NaNs for MSE testing."
   ]
  },
  {
   "cell_type": "code",
   "execution_count": 7,
   "metadata": {
    "collapsed": true
   },
   "outputs": [],
   "source": [
    "# Drop NaNs\n",
    "complete_data = train_data.dropna()"
   ]
  },
  {
   "cell_type": "code",
   "execution_count": 8,
   "metadata": {},
   "outputs": [
    {
     "name": "stderr",
     "output_type": "stream",
     "text": [
      "/home/christie/anaconda2/envs/py36/lib/python3.6/site-packages/ipykernel_launcher.py:2: SettingWithCopyWarning: \n",
      "A value is trying to be set on a copy of a slice from a DataFrame\n",
      "\n",
      "See the caveats in the documentation: http://pandas.pydata.org/pandas-docs/stable/indexing.html#indexing-view-versus-copy\n",
      "  \n"
     ]
    }
   ],
   "source": [
    "# Drop DX and DXSUB\n",
    "complete_data.drop(columns=['DX', 'DXSUB'], inplace=True)"
   ]
  },
  {
   "cell_type": "code",
   "execution_count": 9,
   "metadata": {
    "collapsed": true
   },
   "outputs": [],
   "source": [
    "# Randomly insert NaNs\n",
    "nan_inserted_data = complete_data.copy()\n",
    "import random\n",
    "ix = [(row, col) for row in range(complete_data.shape[0]) for col in range(complete_data.shape[1])]\n",
    "for row, col in random.sample(ix, int(round(.1*len(ix)))):\n",
    "    nan_inserted_data.iat[row, col] = np.nan"
   ]
  },
  {
   "cell_type": "code",
   "execution_count": 10,
   "metadata": {
    "collapsed": true
   },
   "outputs": [],
   "source": [
    "missing_mask = nan_inserted_data.isna().any(axis=1)"
   ]
  },
  {
   "cell_type": "markdown",
   "metadata": {},
   "source": [
    "Complete those missing dataframes with the various solvers!"
   ]
  },
  {
   "cell_type": "code",
   "execution_count": 11,
   "metadata": {
    "collapsed": true
   },
   "outputs": [],
   "source": [
    "def test_imputation(solver, df):\n",
    "    \"\"\"Impute the data using imputation method\"\"\"\n",
    "    impute_data = df.values\n",
    "    data_index = df.index\n",
    "    data_cols = df.columns\n",
    "\n",
    "    impute_data_filled = solver.complete(impute_data)\n",
    "    impute_df = pd.DataFrame(impute_data_filled, index=data_index, columns=data_cols)\n",
    "    return impute_df"
   ]
  },
  {
   "cell_type": "code",
   "execution_count": 12,
   "metadata": {
    "collapsed": true
   },
   "outputs": [
    {
     "name": "stdout",
     "output_type": "stream",
     "text": [
      "Imputing row 1/429 with 4 missing, elapsed time: 0.066\n",
      "Imputing row 101/429 with 3 missing, elapsed time: 0.116\n",
      "Imputing row 201/429 with 2 missing, elapsed time: 0.126\n",
      "Imputing row 301/429 with 3 missing, elapsed time: 0.133\n",
      "Imputing row 401/429 with 4 missing, elapsed time: 0.138\n"
     ]
    }
   ],
   "source": [
    "KNN_df = test_imputation(KNN_solver, nan_inserted_data)"
   ]
  },
  {
   "cell_type": "code",
   "execution_count": 13,
   "metadata": {
    "collapsed": true
   },
   "outputs": [
    {
     "name": "stdout",
     "output_type": "stream",
     "text": [
      "[SoftImpute] Max Singular Value of X_init = 6080.899246\n",
      "[SoftImpute] Iter 1: observed MAE=1.583162 rank=7\n",
      "[SoftImpute] Iter 2: observed MAE=1.538878 rank=6\n",
      "[SoftImpute] Iter 3: observed MAE=1.542962 rank=6\n",
      "[SoftImpute] Iter 4: observed MAE=1.560024 rank=6\n",
      "[SoftImpute] Iter 5: observed MAE=1.573310 rank=6\n",
      "[SoftImpute] Iter 6: observed MAE=1.575051 rank=5\n",
      "[SoftImpute] Iter 7: observed MAE=1.576698 rank=5\n",
      "[SoftImpute] Iter 8: observed MAE=1.577989 rank=5\n",
      "[SoftImpute] Iter 9: observed MAE=1.578965 rank=5\n",
      "[SoftImpute] Iter 10: observed MAE=1.579651 rank=5\n",
      "[SoftImpute] Iter 11: observed MAE=1.580118 rank=5\n",
      "[SoftImpute] Iter 12: observed MAE=1.580455 rank=5\n",
      "[SoftImpute] Iter 13: observed MAE=1.580701 rank=5\n",
      "[SoftImpute] Iter 14: observed MAE=1.580884 rank=5\n",
      "[SoftImpute] Iter 15: observed MAE=1.581027 rank=5\n",
      "[SoftImpute] Iter 16: observed MAE=1.581135 rank=5\n",
      "[SoftImpute] Iter 17: observed MAE=1.581220 rank=5\n",
      "[SoftImpute] Iter 18: observed MAE=1.581285 rank=5\n",
      "[SoftImpute] Iter 19: observed MAE=1.581332 rank=5\n",
      "[SoftImpute] Iter 20: observed MAE=1.581368 rank=5\n",
      "[SoftImpute] Iter 21: observed MAE=1.581396 rank=5\n",
      "[SoftImpute] Iter 22: observed MAE=1.581417 rank=5\n",
      "[SoftImpute] Iter 23: observed MAE=1.581436 rank=5\n",
      "[SoftImpute] Iter 24: observed MAE=1.581451 rank=5\n",
      "[SoftImpute] Iter 25: observed MAE=1.581465 rank=5\n",
      "[SoftImpute] Iter 26: observed MAE=1.581474 rank=5\n",
      "[SoftImpute] Iter 27: observed MAE=1.581480 rank=5\n",
      "[SoftImpute] Iter 28: observed MAE=1.581484 rank=5\n",
      "[SoftImpute] Iter 29: observed MAE=1.581492 rank=5\n",
      "[SoftImpute] Iter 30: observed MAE=1.581497 rank=5\n",
      "[SoftImpute] Iter 31: observed MAE=1.581502 rank=5\n",
      "[SoftImpute] Iter 32: observed MAE=1.581505 rank=5\n",
      "[SoftImpute] Iter 33: observed MAE=1.581508 rank=5\n",
      "[SoftImpute] Iter 34: observed MAE=1.581508 rank=5\n",
      "[SoftImpute] Iter 35: observed MAE=1.581508 rank=5\n",
      "[SoftImpute] Iter 36: observed MAE=1.581508 rank=5\n",
      "[SoftImpute] Iter 37: observed MAE=1.581506 rank=5\n",
      "[SoftImpute] Iter 38: observed MAE=1.581502 rank=5\n",
      "[SoftImpute] Iter 39: observed MAE=1.581497 rank=5\n",
      "[SoftImpute] Iter 40: observed MAE=1.581491 rank=5\n",
      "[SoftImpute] Iter 41: observed MAE=1.581484 rank=5\n",
      "[SoftImpute] Iter 42: observed MAE=1.581475 rank=5\n",
      "[SoftImpute] Iter 43: observed MAE=1.581466 rank=5\n",
      "[SoftImpute] Iter 44: observed MAE=1.581457 rank=5\n",
      "[SoftImpute] Iter 45: observed MAE=1.581449 rank=5\n",
      "[SoftImpute] Iter 46: observed MAE=1.581441 rank=5\n",
      "[SoftImpute] Iter 47: observed MAE=1.581433 rank=5\n",
      "[SoftImpute] Iter 48: observed MAE=1.581424 rank=5\n",
      "[SoftImpute] Iter 49: observed MAE=1.581415 rank=5\n",
      "[SoftImpute] Iter 50: observed MAE=1.581405 rank=5\n",
      "[SoftImpute] Iter 51: observed MAE=1.581395 rank=5\n",
      "[SoftImpute] Iter 52: observed MAE=1.581385 rank=5\n",
      "[SoftImpute] Iter 53: observed MAE=1.581375 rank=5\n",
      "[SoftImpute] Iter 54: observed MAE=1.581364 rank=5\n",
      "[SoftImpute] Iter 55: observed MAE=1.581354 rank=5\n",
      "[SoftImpute] Iter 56: observed MAE=1.581344 rank=5\n",
      "[SoftImpute] Iter 57: observed MAE=1.581335 rank=5\n",
      "[SoftImpute] Iter 58: observed MAE=1.581326 rank=5\n",
      "[SoftImpute] Iter 59: observed MAE=1.581319 rank=5\n",
      "[SoftImpute] Iter 60: observed MAE=1.581311 rank=5\n",
      "[SoftImpute] Iter 61: observed MAE=1.581305 rank=5\n",
      "[SoftImpute] Iter 62: observed MAE=1.581299 rank=5\n",
      "[SoftImpute] Iter 63: observed MAE=1.581294 rank=5\n",
      "[SoftImpute] Iter 64: observed MAE=1.581288 rank=5\n",
      "[SoftImpute] Iter 65: observed MAE=1.581282 rank=5\n",
      "[SoftImpute] Iter 66: observed MAE=1.581278 rank=5\n",
      "[SoftImpute] Iter 67: observed MAE=1.581273 rank=5\n",
      "[SoftImpute] Iter 68: observed MAE=1.581269 rank=5\n",
      "[SoftImpute] Iter 69: observed MAE=1.581264 rank=5\n",
      "[SoftImpute] Iter 70: observed MAE=1.581260 rank=5\n",
      "[SoftImpute] Iter 71: observed MAE=1.581256 rank=5\n",
      "[SoftImpute] Iter 72: observed MAE=1.581251 rank=5\n",
      "[SoftImpute] Iter 73: observed MAE=1.581248 rank=5\n",
      "[SoftImpute] Iter 74: observed MAE=1.581244 rank=5\n",
      "[SoftImpute] Iter 75: observed MAE=1.581240 rank=5\n",
      "[SoftImpute] Iter 76: observed MAE=1.581236 rank=5\n",
      "[SoftImpute] Iter 77: observed MAE=1.581232 rank=5\n",
      "[SoftImpute] Iter 78: observed MAE=1.581230 rank=5\n",
      "[SoftImpute] Iter 79: observed MAE=1.581229 rank=5\n",
      "[SoftImpute] Iter 80: observed MAE=1.581227 rank=5\n",
      "[SoftImpute] Iter 81: observed MAE=1.581225 rank=5\n",
      "[SoftImpute] Iter 82: observed MAE=1.581223 rank=5\n",
      "[SoftImpute] Iter 83: observed MAE=1.581221 rank=5\n",
      "[SoftImpute] Iter 84: observed MAE=1.581218 rank=5\n",
      "[SoftImpute] Iter 85: observed MAE=1.581216 rank=5\n",
      "[SoftImpute] Iter 86: observed MAE=1.581214 rank=5\n",
      "[SoftImpute] Iter 87: observed MAE=1.581212 rank=5\n",
      "[SoftImpute] Iter 88: observed MAE=1.581210 rank=5\n",
      "[SoftImpute] Iter 89: observed MAE=1.581207 rank=5\n",
      "[SoftImpute] Iter 90: observed MAE=1.581205 rank=5\n",
      "[SoftImpute] Iter 91: observed MAE=1.581203 rank=5\n",
      "[SoftImpute] Iter 92: observed MAE=1.581201 rank=5\n",
      "[SoftImpute] Iter 93: observed MAE=1.581198 rank=5\n",
      "[SoftImpute] Iter 94: observed MAE=1.581196 rank=5\n",
      "[SoftImpute] Iter 95: observed MAE=1.581194 rank=5\n",
      "[SoftImpute] Iter 96: observed MAE=1.581191 rank=5\n",
      "[SoftImpute] Iter 97: observed MAE=1.581189 rank=5\n",
      "[SoftImpute] Iter 98: observed MAE=1.581187 rank=5\n",
      "[SoftImpute] Iter 99: observed MAE=1.581185 rank=5\n",
      "[SoftImpute] Iter 100: observed MAE=1.581182 rank=5\n",
      "[SoftImpute] Stopped after iteration 100 for lambda=121.617985\n"
     ]
    },
    {
     "name": "stderr",
     "output_type": "stream",
     "text": [
      "/home/christie/anaconda2/envs/py36/lib/python3.6/site-packages/fancyimpute/soft_impute.py:100: RuntimeWarning: divide by zero encountered in double_scalars\n",
      "  return (np.sqrt(ssd) / old_norm) < self.convergence_threshold\n"
     ]
    }
   ],
   "source": [
    "softimpute_df = test_imputation(softimpute_solver, nan_inserted_data)"
   ]
  },
  {
   "cell_type": "code",
   "execution_count": 14,
   "metadata": {
    "collapsed": true
   },
   "outputs": [
    {
     "name": "stdout",
     "output_type": "stream",
     "text": [
      "[MICE] Completing matrix with shape (429, 35)\n",
      "[MICE] Starting imputation round 1/110, elapsed time 0.001\n",
      "[MICE] Starting imputation round 2/110, elapsed time 0.022\n",
      "[MICE] Starting imputation round 3/110, elapsed time 0.033\n",
      "[MICE] Starting imputation round 4/110, elapsed time 0.044\n",
      "[MICE] Starting imputation round 5/110, elapsed time 0.055\n",
      "[MICE] Starting imputation round 6/110, elapsed time 0.066\n",
      "[MICE] Starting imputation round 7/110, elapsed time 0.077\n",
      "[MICE] Starting imputation round 8/110, elapsed time 0.089\n",
      "[MICE] Starting imputation round 9/110, elapsed time 0.101\n",
      "[MICE] Starting imputation round 10/110, elapsed time 0.112\n",
      "[MICE] Starting imputation round 11/110, elapsed time 0.122\n",
      "[MICE] Starting imputation round 12/110, elapsed time 0.131\n",
      "[MICE] Starting imputation round 13/110, elapsed time 0.139\n",
      "[MICE] Starting imputation round 14/110, elapsed time 0.148\n",
      "[MICE] Starting imputation round 15/110, elapsed time 0.157\n",
      "[MICE] Starting imputation round 16/110, elapsed time 0.165\n",
      "[MICE] Starting imputation round 17/110, elapsed time 0.174\n",
      "[MICE] Starting imputation round 18/110, elapsed time 0.183\n",
      "[MICE] Starting imputation round 19/110, elapsed time 0.191\n",
      "[MICE] Starting imputation round 20/110, elapsed time 0.200\n",
      "[MICE] Starting imputation round 21/110, elapsed time 0.213\n",
      "[MICE] Starting imputation round 22/110, elapsed time 0.225\n",
      "[MICE] Starting imputation round 23/110, elapsed time 0.238\n",
      "[MICE] Starting imputation round 24/110, elapsed time 0.251\n",
      "[MICE] Starting imputation round 25/110, elapsed time 0.260\n",
      "[MICE] Starting imputation round 26/110, elapsed time 0.269\n",
      "[MICE] Starting imputation round 27/110, elapsed time 0.278\n",
      "[MICE] Starting imputation round 28/110, elapsed time 0.286\n",
      "[MICE] Starting imputation round 29/110, elapsed time 0.295\n",
      "[MICE] Starting imputation round 30/110, elapsed time 0.304\n",
      "[MICE] Starting imputation round 31/110, elapsed time 0.313\n",
      "[MICE] Starting imputation round 32/110, elapsed time 0.322\n",
      "[MICE] Starting imputation round 33/110, elapsed time 0.331\n",
      "[MICE] Starting imputation round 34/110, elapsed time 0.339\n",
      "[MICE] Starting imputation round 35/110, elapsed time 0.348\n",
      "[MICE] Starting imputation round 36/110, elapsed time 0.357\n",
      "[MICE] Starting imputation round 37/110, elapsed time 0.366\n",
      "[MICE] Starting imputation round 38/110, elapsed time 0.374\n",
      "[MICE] Starting imputation round 39/110, elapsed time 0.384\n",
      "[MICE] Starting imputation round 40/110, elapsed time 0.393\n",
      "[MICE] Starting imputation round 41/110, elapsed time 0.405\n",
      "[MICE] Starting imputation round 42/110, elapsed time 0.419\n",
      "[MICE] Starting imputation round 43/110, elapsed time 0.433\n",
      "[MICE] Starting imputation round 44/110, elapsed time 0.448\n",
      "[MICE] Starting imputation round 45/110, elapsed time 0.460\n",
      "[MICE] Starting imputation round 46/110, elapsed time 0.470\n",
      "[MICE] Starting imputation round 47/110, elapsed time 0.480\n",
      "[MICE] Starting imputation round 48/110, elapsed time 0.490\n",
      "[MICE] Starting imputation round 49/110, elapsed time 0.500\n",
      "[MICE] Starting imputation round 50/110, elapsed time 0.511\n",
      "[MICE] Starting imputation round 51/110, elapsed time 0.522\n",
      "[MICE] Starting imputation round 52/110, elapsed time 0.532\n",
      "[MICE] Starting imputation round 53/110, elapsed time 0.544\n",
      "[MICE] Starting imputation round 54/110, elapsed time 0.558\n",
      "[MICE] Starting imputation round 55/110, elapsed time 0.568\n",
      "[MICE] Starting imputation round 56/110, elapsed time 0.579\n",
      "[MICE] Starting imputation round 57/110, elapsed time 0.589\n",
      "[MICE] Starting imputation round 58/110, elapsed time 0.599\n",
      "[MICE] Starting imputation round 59/110, elapsed time 0.610\n",
      "[MICE] Starting imputation round 60/110, elapsed time 0.621\n",
      "[MICE] Starting imputation round 61/110, elapsed time 0.634\n",
      "[MICE] Starting imputation round 62/110, elapsed time 0.647\n",
      "[MICE] Starting imputation round 63/110, elapsed time 0.660\n",
      "[MICE] Starting imputation round 64/110, elapsed time 0.673\n",
      "[MICE] Starting imputation round 65/110, elapsed time 0.683\n",
      "[MICE] Starting imputation round 66/110, elapsed time 0.692\n",
      "[MICE] Starting imputation round 67/110, elapsed time 0.702\n",
      "[MICE] Starting imputation round 68/110, elapsed time 0.711\n",
      "[MICE] Starting imputation round 69/110, elapsed time 0.720\n",
      "[MICE] Starting imputation round 70/110, elapsed time 0.729\n",
      "[MICE] Starting imputation round 71/110, elapsed time 0.737\n",
      "[MICE] Starting imputation round 72/110, elapsed time 0.746\n",
      "[MICE] Starting imputation round 73/110, elapsed time 0.755\n",
      "[MICE] Starting imputation round 74/110, elapsed time 0.763\n",
      "[MICE] Starting imputation round 75/110, elapsed time 0.772\n",
      "[MICE] Starting imputation round 76/110, elapsed time 0.781\n",
      "[MICE] Starting imputation round 77/110, elapsed time 0.789\n",
      "[MICE] Starting imputation round 78/110, elapsed time 0.798\n",
      "[MICE] Starting imputation round 79/110, elapsed time 0.806\n",
      "[MICE] Starting imputation round 80/110, elapsed time 0.818\n",
      "[MICE] Starting imputation round 81/110, elapsed time 0.830\n",
      "[MICE] Starting imputation round 82/110, elapsed time 0.843\n",
      "[MICE] Starting imputation round 83/110, elapsed time 0.856\n",
      "[MICE] Starting imputation round 84/110, elapsed time 0.867\n",
      "[MICE] Starting imputation round 85/110, elapsed time 0.876\n",
      "[MICE] Starting imputation round 86/110, elapsed time 0.885\n",
      "[MICE] Starting imputation round 87/110, elapsed time 0.893\n",
      "[MICE] Starting imputation round 88/110, elapsed time 0.902\n",
      "[MICE] Starting imputation round 89/110, elapsed time 0.910\n",
      "[MICE] Starting imputation round 90/110, elapsed time 0.919\n",
      "[MICE] Starting imputation round 91/110, elapsed time 0.928\n",
      "[MICE] Starting imputation round 92/110, elapsed time 0.936\n",
      "[MICE] Starting imputation round 93/110, elapsed time 0.945\n",
      "[MICE] Starting imputation round 94/110, elapsed time 0.954\n",
      "[MICE] Starting imputation round 95/110, elapsed time 0.962\n",
      "[MICE] Starting imputation round 96/110, elapsed time 0.971\n",
      "[MICE] Starting imputation round 97/110, elapsed time 0.980\n",
      "[MICE] Starting imputation round 98/110, elapsed time 0.989\n",
      "[MICE] Starting imputation round 99/110, elapsed time 0.997\n",
      "[MICE] Starting imputation round 100/110, elapsed time 1.006\n",
      "[MICE] Starting imputation round 101/110, elapsed time 1.015\n",
      "[MICE] Starting imputation round 102/110, elapsed time 1.026\n",
      "[MICE] Starting imputation round 103/110, elapsed time 1.039\n",
      "[MICE] Starting imputation round 104/110, elapsed time 1.052\n",
      "[MICE] Starting imputation round 105/110, elapsed time 1.065\n",
      "[MICE] Starting imputation round 106/110, elapsed time 1.076\n",
      "[MICE] Starting imputation round 107/110, elapsed time 1.085\n",
      "[MICE] Starting imputation round 108/110, elapsed time 1.095\n",
      "[MICE] Starting imputation round 109/110, elapsed time 1.104\n",
      "[MICE] Starting imputation round 110/110, elapsed time 1.112\n"
     ]
    }
   ],
   "source": [
    "MICE_df = test_imputation(MICE_solver, nan_inserted_data)"
   ]
  },
  {
   "cell_type": "code",
   "execution_count": 15,
   "metadata": {
    "collapsed": true
   },
   "outputs": [],
   "source": [
    "simple_df = test_imputation(simple_solver, nan_inserted_data)"
   ]
  },
  {
   "cell_type": "code",
   "execution_count": 16,
   "metadata": {
    "collapsed": true
   },
   "outputs": [
    {
     "name": "stdout",
     "output_type": "stream",
     "text": [
      "[IterativeSVD] Iter 1: observed MAE=4.208460\n",
      "[IterativeSVD] Iter 2: observed MAE=2.320813\n",
      "[IterativeSVD] Iter 3: observed MAE=1.347509\n",
      "[IterativeSVD] Iter 4: observed MAE=0.516247\n",
      "[IterativeSVD] Iter 5: observed MAE=0.401785\n",
      "[IterativeSVD] Iter 6: observed MAE=0.399566\n",
      "[IterativeSVD] Iter 7: observed MAE=0.399899\n",
      "[IterativeSVD] Iter 8: observed MAE=0.400381\n",
      "[IterativeSVD] Iter 9: observed MAE=0.400757\n",
      "[IterativeSVD] Iter 10: observed MAE=0.400961\n",
      "[IterativeSVD] Iter 11: observed MAE=0.401011\n",
      "[IterativeSVD] Iter 12: observed MAE=0.400916\n",
      "[IterativeSVD] Iter 13: observed MAE=0.400714\n",
      "[IterativeSVD] Iter 14: observed MAE=0.400447\n",
      "[IterativeSVD] Iter 15: observed MAE=0.400167\n"
     ]
    },
    {
     "name": "stderr",
     "output_type": "stream",
     "text": [
      "/home/christie/anaconda2/envs/py36/lib/python3.6/site-packages/fancyimpute/iterative_svd.py:53: RuntimeWarning: divide by zero encountered in double_scalars\n",
      "  return (ssd / old_norm_squared) < self.convergence_threshold\n"
     ]
    }
   ],
   "source": [
    "iterative_df = test_imputation(iterativeSVD_solver, nan_inserted_data)"
   ]
  },
  {
   "cell_type": "code",
   "execution_count": 17,
   "metadata": {
    "collapsed": true
   },
   "outputs": [
    {
     "name": "stdout",
     "output_type": "stream",
     "text": [
      "Train on 12161 samples, validate on 1352 samples\n",
      "Epoch 1/10000\n",
      " - 0s - loss: 1.1066 - val_loss: 1.0695\n",
      "Epoch 2/10000\n",
      " - 0s - loss: 1.1044 - val_loss: 1.0689\n",
      "Epoch 3/10000\n",
      " - 0s - loss: 1.1028 - val_loss: 1.0684\n",
      "Epoch 4/10000\n",
      " - 0s - loss: 1.1013 - val_loss: 1.0678\n",
      "Epoch 5/10000\n",
      " - 0s - loss: 1.0998 - val_loss: 1.0673\n",
      "Epoch 6/10000\n",
      " - 0s - loss: 1.0983 - val_loss: 1.0667\n",
      "Epoch 7/10000\n",
      " - 0s - loss: 1.0967 - val_loss: 1.0662\n",
      "Epoch 8/10000\n",
      " - 0s - loss: 1.0952 - val_loss: 1.0656\n",
      "Epoch 9/10000\n",
      " - 0s - loss: 1.0936 - val_loss: 1.0651\n",
      "Epoch 10/10000\n",
      " - 0s - loss: 1.0920 - val_loss: 1.0645\n",
      "Epoch 11/10000\n",
      " - 0s - loss: 1.0903 - val_loss: 1.0640\n",
      "Epoch 12/10000\n",
      " - 0s - loss: 1.0887 - val_loss: 1.0634\n",
      "Epoch 13/10000\n",
      " - 0s - loss: 1.0870 - val_loss: 1.0628\n",
      "Epoch 14/10000\n",
      " - 0s - loss: 1.0854 - val_loss: 1.0623\n",
      "Epoch 15/10000\n",
      " - 0s - loss: 1.0837 - val_loss: 1.0617\n",
      "Epoch 16/10000\n",
      " - 0s - loss: 1.0820 - val_loss: 1.0611\n",
      "Epoch 17/10000\n",
      " - 0s - loss: 1.0803 - val_loss: 1.0605\n",
      "Epoch 18/10000\n",
      " - 0s - loss: 1.0786 - val_loss: 1.0600\n",
      "Epoch 19/10000\n",
      " - 0s - loss: 1.0769 - val_loss: 1.0594\n",
      "Epoch 20/10000\n",
      " - 0s - loss: 1.0752 - val_loss: 1.0588\n",
      "Epoch 21/10000\n",
      " - 0s - loss: 1.0735 - val_loss: 1.0583\n",
      "Epoch 22/10000\n",
      " - 0s - loss: 1.0719 - val_loss: 1.0577\n",
      "Epoch 23/10000\n",
      " - 0s - loss: 1.0702 - val_loss: 1.0571\n",
      "Epoch 24/10000\n",
      " - 0s - loss: 1.0685 - val_loss: 1.0566\n",
      "Epoch 25/10000\n",
      " - 0s - loss: 1.0668 - val_loss: 1.0560\n",
      "Epoch 26/10000\n",
      " - 0s - loss: 1.0652 - val_loss: 1.0555\n",
      "Epoch 27/10000\n",
      " - 0s - loss: 1.0635 - val_loss: 1.0549\n",
      "Epoch 28/10000\n",
      " - 0s - loss: 1.0619 - val_loss: 1.0544\n",
      "Epoch 29/10000\n",
      " - 0s - loss: 1.0603 - val_loss: 1.0538\n",
      "Epoch 30/10000\n",
      " - 0s - loss: 1.0586 - val_loss: 1.0533\n",
      "Epoch 31/10000\n",
      " - 0s - loss: 1.0570 - val_loss: 1.0527\n",
      "Epoch 32/10000\n",
      " - 0s - loss: 1.0554 - val_loss: 1.0522\n",
      "Epoch 33/10000\n",
      " - 0s - loss: 1.0538 - val_loss: 1.0517\n",
      "Epoch 34/10000\n",
      " - 0s - loss: 1.0522 - val_loss: 1.0511\n",
      "Epoch 35/10000\n",
      " - 0s - loss: 1.0506 - val_loss: 1.0506\n",
      "Epoch 36/10000\n",
      " - 0s - loss: 1.0491 - val_loss: 1.0500\n",
      "Epoch 37/10000\n",
      " - 0s - loss: 1.0475 - val_loss: 1.0495\n",
      "Epoch 38/10000\n",
      " - 0s - loss: 1.0459 - val_loss: 1.0490\n",
      "Epoch 39/10000\n",
      " - 0s - loss: 1.0444 - val_loss: 1.0485\n",
      "Epoch 40/10000\n",
      " - 0s - loss: 1.0429 - val_loss: 1.0479\n",
      "Epoch 41/10000\n",
      " - 0s - loss: 1.0413 - val_loss: 1.0474\n",
      "Epoch 42/10000\n",
      " - 0s - loss: 1.0398 - val_loss: 1.0469\n",
      "Epoch 43/10000\n",
      " - 0s - loss: 1.0383 - val_loss: 1.0464\n",
      "Epoch 44/10000\n",
      " - 0s - loss: 1.0368 - val_loss: 1.0459\n",
      "Epoch 45/10000\n",
      " - 0s - loss: 1.0353 - val_loss: 1.0453\n",
      "Epoch 46/10000\n",
      " - 0s - loss: 1.0338 - val_loss: 1.0448\n",
      "Epoch 47/10000\n",
      " - 0s - loss: 1.0324 - val_loss: 1.0443\n",
      "Epoch 48/10000\n",
      " - 0s - loss: 1.0309 - val_loss: 1.0438\n",
      "Epoch 49/10000\n",
      " - 0s - loss: 1.0294 - val_loss: 1.0433\n",
      "Epoch 50/10000\n",
      " - 0s - loss: 1.0280 - val_loss: 1.0428\n",
      "Epoch 51/10000\n",
      " - 0s - loss: 1.0265 - val_loss: 1.0423\n",
      "Epoch 52/10000\n",
      " - 0s - loss: 1.0251 - val_loss: 1.0418\n",
      "Epoch 53/10000\n",
      " - 0s - loss: 1.0237 - val_loss: 1.0413\n",
      "Epoch 54/10000\n",
      " - 0s - loss: 1.0222 - val_loss: 1.0408\n",
      "Epoch 55/10000\n",
      " - 0s - loss: 1.0208 - val_loss: 1.0403\n",
      "Epoch 56/10000\n",
      " - 0s - loss: 1.0194 - val_loss: 1.0398\n",
      "Epoch 57/10000\n",
      " - 0s - loss: 1.0180 - val_loss: 1.0393\n",
      "Epoch 58/10000\n",
      " - 0s - loss: 1.0166 - val_loss: 1.0388\n",
      "Epoch 59/10000\n",
      " - 0s - loss: 1.0152 - val_loss: 1.0383\n",
      "Epoch 60/10000\n",
      " - 0s - loss: 1.0138 - val_loss: 1.0378\n",
      "Epoch 61/10000\n",
      " - 0s - loss: 1.0124 - val_loss: 1.0373\n",
      "Epoch 62/10000\n",
      " - 0s - loss: 1.0111 - val_loss: 1.0368\n",
      "Epoch 63/10000\n",
      " - 0s - loss: 1.0097 - val_loss: 1.0363\n",
      "Epoch 64/10000\n",
      " - 0s - loss: 1.0083 - val_loss: 1.0358\n",
      "Epoch 65/10000\n",
      " - 0s - loss: 1.0070 - val_loss: 1.0353\n",
      "Epoch 66/10000\n",
      " - 0s - loss: 1.0056 - val_loss: 1.0348\n",
      "Epoch 67/10000\n",
      " - 0s - loss: 1.0043 - val_loss: 1.0343\n",
      "Epoch 68/10000\n",
      " - 0s - loss: 1.0029 - val_loss: 1.0338\n",
      "Epoch 69/10000\n",
      " - 0s - loss: 1.0015 - val_loss: 1.0333\n",
      "Epoch 70/10000\n",
      " - 0s - loss: 1.0002 - val_loss: 1.0328\n",
      "Epoch 71/10000\n",
      " - 0s - loss: 0.9989 - val_loss: 1.0323\n",
      "Epoch 72/10000\n",
      " - 0s - loss: 0.9975 - val_loss: 1.0318\n",
      "Epoch 73/10000\n",
      " - 0s - loss: 0.9962 - val_loss: 1.0313\n",
      "Epoch 74/10000\n",
      " - 0s - loss: 0.9948 - val_loss: 1.0308\n",
      "Epoch 75/10000\n",
      " - 0s - loss: 0.9935 - val_loss: 1.0303\n",
      "Epoch 76/10000\n",
      " - 0s - loss: 0.9922 - val_loss: 1.0298\n",
      "Epoch 77/10000\n",
      " - 0s - loss: 0.9909 - val_loss: 1.0292\n",
      "Epoch 78/10000\n",
      " - 0s - loss: 0.9895 - val_loss: 1.0287\n",
      "Epoch 79/10000\n",
      " - 0s - loss: 0.9882 - val_loss: 1.0282\n",
      "Epoch 80/10000\n",
      " - 0s - loss: 0.9869 - val_loss: 1.0277\n",
      "Epoch 81/10000\n",
      " - 0s - loss: 0.9855 - val_loss: 1.0272\n",
      "Epoch 82/10000\n",
      " - 0s - loss: 0.9842 - val_loss: 1.0266\n",
      "Epoch 83/10000\n",
      " - 0s - loss: 0.9829 - val_loss: 1.0261\n",
      "Epoch 84/10000\n",
      " - 0s - loss: 0.9816 - val_loss: 1.0256\n",
      "Epoch 85/10000\n",
      " - 0s - loss: 0.9802 - val_loss: 1.0250\n",
      "Epoch 86/10000\n",
      " - 0s - loss: 0.9789 - val_loss: 1.0245\n",
      "Epoch 87/10000\n",
      " - 0s - loss: 0.9776 - val_loss: 1.0239\n",
      "Epoch 88/10000\n",
      " - 0s - loss: 0.9763 - val_loss: 1.0234\n",
      "Epoch 89/10000\n",
      " - 0s - loss: 0.9750 - val_loss: 1.0228\n",
      "Epoch 90/10000\n",
      " - 0s - loss: 0.9736 - val_loss: 1.0223\n",
      "Epoch 91/10000\n",
      " - 0s - loss: 0.9723 - val_loss: 1.0217\n",
      "Epoch 92/10000\n",
      " - 0s - loss: 0.9710 - val_loss: 1.0212\n",
      "Epoch 93/10000\n",
      " - 0s - loss: 0.9696 - val_loss: 1.0206\n",
      "Epoch 94/10000\n",
      " - 0s - loss: 0.9683 - val_loss: 1.0200\n",
      "Epoch 95/10000\n",
      " - 0s - loss: 0.9670 - val_loss: 1.0194\n",
      "Epoch 96/10000\n",
      " - 0s - loss: 0.9656 - val_loss: 1.0188\n",
      "Epoch 97/10000\n",
      " - 0s - loss: 0.9643 - val_loss: 1.0182\n",
      "Epoch 98/10000\n",
      " - 0s - loss: 0.9630 - val_loss: 1.0177\n",
      "Epoch 99/10000\n",
      " - 0s - loss: 0.9616 - val_loss: 1.0171\n",
      "Epoch 100/10000\n",
      " - 0s - loss: 0.9603 - val_loss: 1.0165\n",
      "Epoch 101/10000\n",
      " - 0s - loss: 0.9589 - val_loss: 1.0158\n",
      "Epoch 102/10000\n",
      " - 0s - loss: 0.9576 - val_loss: 1.0152\n",
      "Epoch 103/10000\n",
      " - 0s - loss: 0.9562 - val_loss: 1.0146\n",
      "Epoch 104/10000\n",
      " - 0s - loss: 0.9549 - val_loss: 1.0140\n",
      "Epoch 105/10000\n",
      " - 0s - loss: 0.9535 - val_loss: 1.0133\n",
      "Epoch 106/10000\n",
      " - 0s - loss: 0.9521 - val_loss: 1.0127\n",
      "Epoch 107/10000\n",
      " - 0s - loss: 0.9508 - val_loss: 1.0120\n",
      "Epoch 108/10000\n",
      " - 0s - loss: 0.9494 - val_loss: 1.0114\n",
      "Epoch 109/10000\n",
      " - 0s - loss: 0.9480 - val_loss: 1.0107\n",
      "Epoch 110/10000\n",
      " - 0s - loss: 0.9466 - val_loss: 1.0101\n",
      "Epoch 111/10000\n",
      " - 0s - loss: 0.9452 - val_loss: 1.0094\n",
      "Epoch 112/10000\n",
      " - 0s - loss: 0.9438 - val_loss: 1.0087\n",
      "Epoch 113/10000\n",
      " - 0s - loss: 0.9424 - val_loss: 1.0080\n",
      "Epoch 114/10000\n",
      " - 0s - loss: 0.9410 - val_loss: 1.0073\n",
      "Epoch 115/10000\n",
      " - 0s - loss: 0.9396 - val_loss: 1.0066\n",
      "Epoch 116/10000\n",
      " - 0s - loss: 0.9382 - val_loss: 1.0059\n",
      "Epoch 117/10000\n",
      " - 0s - loss: 0.9368 - val_loss: 1.0052\n",
      "Epoch 118/10000\n",
      " - 0s - loss: 0.9354 - val_loss: 1.0045\n",
      "Epoch 119/10000\n",
      " - 0s - loss: 0.9340 - val_loss: 1.0037\n",
      "Epoch 120/10000\n",
      " - 0s - loss: 0.9325 - val_loss: 1.0030\n",
      "Epoch 121/10000\n",
      " - 0s - loss: 0.9311 - val_loss: 1.0023\n",
      "Epoch 122/10000\n",
      " - 0s - loss: 0.9296 - val_loss: 1.0015\n",
      "Epoch 123/10000\n",
      " - 0s - loss: 0.9282 - val_loss: 1.0007\n",
      "Epoch 124/10000\n",
      " - 0s - loss: 0.9267 - val_loss: 1.0000\n",
      "Epoch 125/10000\n",
      " - 0s - loss: 0.9253 - val_loss: 0.9992\n",
      "Epoch 126/10000\n",
      " - 0s - loss: 0.9238 - val_loss: 0.9984\n",
      "Epoch 127/10000\n",
      " - 0s - loss: 0.9223 - val_loss: 0.9976\n",
      "Epoch 128/10000\n",
      " - 0s - loss: 0.9208 - val_loss: 0.9968\n",
      "Epoch 129/10000\n",
      " - 0s - loss: 0.9193 - val_loss: 0.9960\n",
      "Epoch 130/10000\n",
      " - 0s - loss: 0.9179 - val_loss: 0.9952\n",
      "Epoch 131/10000\n",
      " - 0s - loss: 0.9163 - val_loss: 0.9944\n",
      "Epoch 132/10000\n",
      " - 0s - loss: 0.9148 - val_loss: 0.9935\n",
      "Epoch 133/10000\n",
      " - 0s - loss: 0.9133 - val_loss: 0.9927\n",
      "Epoch 134/10000\n",
      " - 0s - loss: 0.9118 - val_loss: 0.9918\n",
      "Epoch 135/10000\n",
      " - 0s - loss: 0.9103 - val_loss: 0.9910\n",
      "Epoch 136/10000\n",
      " - 0s - loss: 0.9087 - val_loss: 0.9901\n",
      "Epoch 137/10000\n",
      " - 0s - loss: 0.9072 - val_loss: 0.9892\n",
      "Epoch 138/10000\n",
      " - 0s - loss: 0.9056 - val_loss: 0.9883\n",
      "Epoch 139/10000\n",
      " - 0s - loss: 0.9041 - val_loss: 0.9875\n",
      "Epoch 140/10000\n",
      " - 0s - loss: 0.9025 - val_loss: 0.9865\n",
      "Epoch 141/10000\n",
      " - 0s - loss: 0.9009 - val_loss: 0.9856\n",
      "Epoch 142/10000\n",
      " - 0s - loss: 0.8993 - val_loss: 0.9847\n",
      "Epoch 143/10000\n",
      " - 0s - loss: 0.8978 - val_loss: 0.9838\n",
      "Epoch 144/10000\n",
      " - 0s - loss: 0.8962 - val_loss: 0.9829\n",
      "Epoch 145/10000\n",
      " - 0s - loss: 0.8946 - val_loss: 0.9819\n",
      "Epoch 146/10000\n",
      " - 0s - loss: 0.8929 - val_loss: 0.9810\n",
      "Epoch 147/10000\n",
      " - 0s - loss: 0.8913 - val_loss: 0.9800\n",
      "Epoch 148/10000\n",
      " - 0s - loss: 0.8897 - val_loss: 0.9790\n"
     ]
    },
    {
     "name": "stdout",
     "output_type": "stream",
     "text": [
      "Epoch 149/10000\n",
      " - 0s - loss: 0.8881 - val_loss: 0.9781\n",
      "Epoch 150/10000\n",
      " - 0s - loss: 0.8864 - val_loss: 0.9771\n",
      "Epoch 151/10000\n",
      " - 0s - loss: 0.8848 - val_loss: 0.9761\n",
      "Epoch 152/10000\n",
      " - 0s - loss: 0.8831 - val_loss: 0.9751\n",
      "Epoch 153/10000\n",
      " - 0s - loss: 0.8815 - val_loss: 0.9741\n",
      "Epoch 154/10000\n",
      " - 0s - loss: 0.8798 - val_loss: 0.9730\n",
      "Epoch 155/10000\n",
      " - 0s - loss: 0.8781 - val_loss: 0.9720\n",
      "Epoch 156/10000\n",
      " - 0s - loss: 0.8764 - val_loss: 0.9710\n",
      "Epoch 157/10000\n",
      " - 0s - loss: 0.8748 - val_loss: 0.9699\n",
      "Epoch 158/10000\n",
      " - 0s - loss: 0.8731 - val_loss: 0.9689\n",
      "Epoch 159/10000\n",
      " - 0s - loss: 0.8714 - val_loss: 0.9678\n",
      "Epoch 160/10000\n",
      " - 0s - loss: 0.8697 - val_loss: 0.9668\n",
      "Epoch 161/10000\n",
      " - 0s - loss: 0.8679 - val_loss: 0.9657\n",
      "Epoch 162/10000\n",
      " - 0s - loss: 0.8662 - val_loss: 0.9646\n",
      "Epoch 163/10000\n",
      " - 0s - loss: 0.8645 - val_loss: 0.9635\n",
      "Epoch 164/10000\n",
      " - 0s - loss: 0.8628 - val_loss: 0.9624\n",
      "Epoch 165/10000\n",
      " - 0s - loss: 0.8610 - val_loss: 0.9613\n",
      "Epoch 166/10000\n",
      " - 0s - loss: 0.8593 - val_loss: 0.9602\n",
      "Epoch 167/10000\n",
      " - 0s - loss: 0.8575 - val_loss: 0.9590\n",
      "Epoch 168/10000\n",
      " - 0s - loss: 0.8557 - val_loss: 0.9579\n",
      "Epoch 169/10000\n",
      " - 0s - loss: 0.8540 - val_loss: 0.9568\n",
      "Epoch 170/10000\n",
      " - 0s - loss: 0.8522 - val_loss: 0.9556\n",
      "Epoch 171/10000\n",
      " - 0s - loss: 0.8504 - val_loss: 0.9545\n",
      "Epoch 172/10000\n",
      " - 0s - loss: 0.8486 - val_loss: 0.9533\n",
      "Epoch 173/10000\n",
      " - 0s - loss: 0.8469 - val_loss: 0.9522\n",
      "Epoch 174/10000\n",
      " - 0s - loss: 0.8451 - val_loss: 0.9510\n",
      "Epoch 175/10000\n",
      " - 0s - loss: 0.8433 - val_loss: 0.9498\n",
      "Epoch 176/10000\n",
      " - 0s - loss: 0.8414 - val_loss: 0.9486\n",
      "Epoch 177/10000\n",
      " - 0s - loss: 0.8396 - val_loss: 0.9474\n",
      "Epoch 178/10000\n",
      " - 0s - loss: 0.8378 - val_loss: 0.9462\n",
      "Epoch 179/10000\n",
      " - 0s - loss: 0.8360 - val_loss: 0.9450\n",
      "Epoch 180/10000\n",
      " - 0s - loss: 0.8342 - val_loss: 0.9438\n",
      "Epoch 181/10000\n",
      " - 0s - loss: 0.8323 - val_loss: 0.9426\n",
      "Epoch 182/10000\n",
      " - 0s - loss: 0.8305 - val_loss: 0.9413\n",
      "Epoch 183/10000\n",
      " - 0s - loss: 0.8287 - val_loss: 0.9401\n",
      "Epoch 184/10000\n",
      " - 0s - loss: 0.8268 - val_loss: 0.9389\n",
      "Epoch 185/10000\n",
      " - 0s - loss: 0.8250 - val_loss: 0.9376\n",
      "Epoch 186/10000\n",
      " - 0s - loss: 0.8231 - val_loss: 0.9364\n",
      "Epoch 187/10000\n",
      " - 0s - loss: 0.8212 - val_loss: 0.9351\n",
      "Epoch 188/10000\n",
      " - 0s - loss: 0.8194 - val_loss: 0.9339\n",
      "Epoch 189/10000\n",
      " - 0s - loss: 0.8175 - val_loss: 0.9326\n",
      "Epoch 190/10000\n",
      " - 0s - loss: 0.8156 - val_loss: 0.9313\n",
      "Epoch 191/10000\n",
      " - 0s - loss: 0.8138 - val_loss: 0.9301\n",
      "Epoch 192/10000\n",
      " - 0s - loss: 0.8119 - val_loss: 0.9288\n",
      "Epoch 193/10000\n",
      " - 0s - loss: 0.8100 - val_loss: 0.9275\n",
      "Epoch 194/10000\n",
      " - 0s - loss: 0.8081 - val_loss: 0.9262\n",
      "Epoch 195/10000\n",
      " - 0s - loss: 0.8062 - val_loss: 0.9249\n",
      "Epoch 196/10000\n",
      " - 0s - loss: 0.8043 - val_loss: 0.9236\n",
      "Epoch 197/10000\n",
      " - 0s - loss: 0.8024 - val_loss: 0.9223\n",
      "Epoch 198/10000\n",
      " - 0s - loss: 0.8006 - val_loss: 0.9210\n",
      "Epoch 199/10000\n",
      " - 0s - loss: 0.7987 - val_loss: 0.9197\n",
      "Epoch 200/10000\n",
      " - 0s - loss: 0.7968 - val_loss: 0.9184\n",
      "Epoch 201/10000\n",
      " - 0s - loss: 0.7948 - val_loss: 0.9171\n",
      "Epoch 202/10000\n",
      " - 0s - loss: 0.7929 - val_loss: 0.9158\n",
      "Epoch 203/10000\n",
      " - 0s - loss: 0.7910 - val_loss: 0.9144\n",
      "Epoch 204/10000\n",
      " - 0s - loss: 0.7891 - val_loss: 0.9131\n",
      "Epoch 205/10000\n",
      " - 0s - loss: 0.7872 - val_loss: 0.9118\n",
      "Epoch 206/10000\n",
      " - 0s - loss: 0.7853 - val_loss: 0.9105\n",
      "Epoch 207/10000\n",
      " - 0s - loss: 0.7834 - val_loss: 0.9091\n",
      "Epoch 208/10000\n",
      " - 0s - loss: 0.7815 - val_loss: 0.9078\n",
      "Epoch 209/10000\n",
      " - 0s - loss: 0.7796 - val_loss: 0.9065\n",
      "Epoch 210/10000\n",
      " - 0s - loss: 0.7777 - val_loss: 0.9051\n",
      "Epoch 211/10000\n",
      " - 0s - loss: 0.7758 - val_loss: 0.9038\n",
      "Epoch 212/10000\n",
      " - 0s - loss: 0.7738 - val_loss: 0.9024\n",
      "Epoch 213/10000\n",
      " - 0s - loss: 0.7719 - val_loss: 0.9011\n",
      "Epoch 214/10000\n",
      " - 0s - loss: 0.7700 - val_loss: 0.8997\n",
      "Epoch 215/10000\n",
      " - 0s - loss: 0.7681 - val_loss: 0.8984\n",
      "Epoch 216/10000\n",
      " - 0s - loss: 0.7662 - val_loss: 0.8971\n",
      "Epoch 217/10000\n",
      " - 0s - loss: 0.7643 - val_loss: 0.8957\n",
      "Epoch 218/10000\n",
      " - 0s - loss: 0.7624 - val_loss: 0.8944\n",
      "Epoch 219/10000\n",
      " - 0s - loss: 0.7605 - val_loss: 0.8930\n",
      "Epoch 220/10000\n",
      " - 0s - loss: 0.7585 - val_loss: 0.8917\n",
      "Epoch 221/10000\n",
      " - 0s - loss: 0.7566 - val_loss: 0.8903\n",
      "Epoch 222/10000\n",
      " - 0s - loss: 0.7547 - val_loss: 0.8890\n",
      "Epoch 223/10000\n",
      " - 0s - loss: 0.7528 - val_loss: 0.8876\n",
      "Epoch 224/10000\n",
      " - 0s - loss: 0.7509 - val_loss: 0.8863\n",
      "Epoch 225/10000\n",
      " - 0s - loss: 0.7490 - val_loss: 0.8849\n",
      "Epoch 226/10000\n",
      " - 0s - loss: 0.7471 - val_loss: 0.8836\n",
      "Epoch 227/10000\n",
      " - 0s - loss: 0.7452 - val_loss: 0.8823\n",
      "Epoch 228/10000\n",
      " - 0s - loss: 0.7433 - val_loss: 0.8809\n",
      "Epoch 229/10000\n",
      " - 0s - loss: 0.7414 - val_loss: 0.8796\n",
      "Epoch 230/10000\n",
      " - 0s - loss: 0.7395 - val_loss: 0.8782\n",
      "Epoch 231/10000\n",
      " - 0s - loss: 0.7376 - val_loss: 0.8769\n",
      "Epoch 232/10000\n",
      " - 0s - loss: 0.7357 - val_loss: 0.8756\n",
      "Epoch 233/10000\n",
      " - 0s - loss: 0.7339 - val_loss: 0.8742\n",
      "Epoch 234/10000\n",
      " - 0s - loss: 0.7320 - val_loss: 0.8729\n",
      "Epoch 235/10000\n",
      " - 0s - loss: 0.7301 - val_loss: 0.8716\n",
      "Epoch 236/10000\n",
      " - 0s - loss: 0.7282 - val_loss: 0.8702\n",
      "Epoch 237/10000\n",
      " - 0s - loss: 0.7264 - val_loss: 0.8689\n",
      "Epoch 238/10000\n",
      " - 0s - loss: 0.7245 - val_loss: 0.8676\n",
      "Epoch 239/10000\n",
      " - 0s - loss: 0.7226 - val_loss: 0.8663\n",
      "Epoch 240/10000\n",
      " - 0s - loss: 0.7208 - val_loss: 0.8649\n",
      "Epoch 241/10000\n",
      " - 0s - loss: 0.7189 - val_loss: 0.8636\n",
      "Epoch 242/10000\n",
      " - 0s - loss: 0.7171 - val_loss: 0.8623\n",
      "Epoch 243/10000\n",
      " - 0s - loss: 0.7152 - val_loss: 0.8610\n",
      "Epoch 244/10000\n",
      " - 0s - loss: 0.7134 - val_loss: 0.8597\n",
      "Epoch 245/10000\n",
      " - 0s - loss: 0.7115 - val_loss: 0.8584\n",
      "Epoch 246/10000\n",
      " - 0s - loss: 0.7097 - val_loss: 0.8571\n",
      "Epoch 247/10000\n",
      " - 0s - loss: 0.7079 - val_loss: 0.8558\n",
      "Epoch 248/10000\n",
      " - 0s - loss: 0.7060 - val_loss: 0.8545\n",
      "Epoch 249/10000\n",
      " - 0s - loss: 0.7042 - val_loss: 0.8532\n",
      "Epoch 250/10000\n",
      " - 0s - loss: 0.7024 - val_loss: 0.8519\n",
      "Epoch 251/10000\n",
      " - 0s - loss: 0.7006 - val_loss: 0.8506\n",
      "Epoch 252/10000\n",
      " - 0s - loss: 0.6988 - val_loss: 0.8494\n",
      "Epoch 253/10000\n",
      " - 0s - loss: 0.6970 - val_loss: 0.8481\n",
      "Epoch 254/10000\n",
      " - 0s - loss: 0.6952 - val_loss: 0.8468\n",
      "Epoch 255/10000\n",
      " - 0s - loss: 0.6934 - val_loss: 0.8455\n",
      "Epoch 256/10000\n",
      " - 0s - loss: 0.6916 - val_loss: 0.8443\n",
      "Epoch 257/10000\n",
      " - 0s - loss: 0.6898 - val_loss: 0.8430\n",
      "Epoch 258/10000\n",
      " - 0s - loss: 0.6880 - val_loss: 0.8418\n",
      "Epoch 259/10000\n",
      " - 0s - loss: 0.6863 - val_loss: 0.8405\n",
      "Epoch 260/10000\n",
      " - 0s - loss: 0.6845 - val_loss: 0.8393\n",
      "Epoch 261/10000\n",
      " - 0s - loss: 0.6827 - val_loss: 0.8380\n",
      "Epoch 262/10000\n",
      " - 0s - loss: 0.6810 - val_loss: 0.8368\n",
      "Epoch 263/10000\n",
      " - 0s - loss: 0.6792 - val_loss: 0.8356\n",
      "Epoch 264/10000\n",
      " - 0s - loss: 0.6775 - val_loss: 0.8343\n",
      "Epoch 265/10000\n",
      " - 0s - loss: 0.6758 - val_loss: 0.8331\n",
      "Epoch 266/10000\n",
      " - 0s - loss: 0.6740 - val_loss: 0.8319\n",
      "Epoch 267/10000\n",
      " - 0s - loss: 0.6723 - val_loss: 0.8307\n",
      "Epoch 268/10000\n",
      " - 0s - loss: 0.6706 - val_loss: 0.8295\n",
      "Epoch 269/10000\n",
      " - 0s - loss: 0.6689 - val_loss: 0.8283\n",
      "Epoch 270/10000\n",
      " - 0s - loss: 0.6672 - val_loss: 0.8271\n",
      "Epoch 271/10000\n",
      " - 0s - loss: 0.6655 - val_loss: 0.8259\n",
      "Epoch 272/10000\n",
      " - 0s - loss: 0.6638 - val_loss: 0.8247\n",
      "Epoch 273/10000\n",
      " - 0s - loss: 0.6621 - val_loss: 0.8235\n",
      "Epoch 274/10000\n",
      " - 0s - loss: 0.6604 - val_loss: 0.8223\n",
      "Epoch 275/10000\n",
      " - 0s - loss: 0.6587 - val_loss: 0.8212\n",
      "Epoch 276/10000\n",
      " - 0s - loss: 0.6571 - val_loss: 0.8200\n",
      "Epoch 277/10000\n",
      " - 0s - loss: 0.6554 - val_loss: 0.8188\n",
      "Epoch 278/10000\n",
      " - 0s - loss: 0.6538 - val_loss: 0.8177\n",
      "Epoch 279/10000\n",
      " - 0s - loss: 0.6521 - val_loss: 0.8165\n",
      "Epoch 280/10000\n",
      " - 0s - loss: 0.6505 - val_loss: 0.8154\n",
      "Epoch 281/10000\n",
      " - 0s - loss: 0.6488 - val_loss: 0.8142\n",
      "Epoch 282/10000\n",
      " - 0s - loss: 0.6472 - val_loss: 0.8131\n",
      "Epoch 283/10000\n",
      " - 0s - loss: 0.6456 - val_loss: 0.8120\n",
      "Epoch 284/10000\n",
      " - 0s - loss: 0.6440 - val_loss: 0.8109\n",
      "Epoch 285/10000\n",
      " - 0s - loss: 0.6424 - val_loss: 0.8097\n",
      "Epoch 286/10000\n",
      " - 0s - loss: 0.6408 - val_loss: 0.8086\n",
      "Epoch 287/10000\n",
      " - 0s - loss: 0.6392 - val_loss: 0.8075\n",
      "Epoch 288/10000\n",
      " - 0s - loss: 0.6376 - val_loss: 0.8064\n",
      "Epoch 289/10000\n",
      " - 0s - loss: 0.6360 - val_loss: 0.8053\n",
      "Epoch 290/10000\n",
      " - 0s - loss: 0.6345 - val_loss: 0.8042\n",
      "Epoch 291/10000\n",
      " - 0s - loss: 0.6329 - val_loss: 0.8031\n",
      "Epoch 292/10000\n",
      " - 0s - loss: 0.6313 - val_loss: 0.8021\n",
      "Epoch 293/10000\n",
      " - 0s - loss: 0.6298 - val_loss: 0.8010\n",
      "Epoch 294/10000\n",
      " - 0s - loss: 0.6282 - val_loss: 0.7999\n",
      "Epoch 295/10000\n",
      " - 0s - loss: 0.6267 - val_loss: 0.7989\n"
     ]
    },
    {
     "name": "stdout",
     "output_type": "stream",
     "text": [
      "Epoch 296/10000\n",
      " - 0s - loss: 0.6252 - val_loss: 0.7978\n",
      "Epoch 297/10000\n",
      " - 0s - loss: 0.6237 - val_loss: 0.7968\n",
      "Epoch 298/10000\n",
      " - 0s - loss: 0.6221 - val_loss: 0.7957\n",
      "Epoch 299/10000\n",
      " - 0s - loss: 0.6206 - val_loss: 0.7947\n",
      "Epoch 300/10000\n",
      " - 0s - loss: 0.6191 - val_loss: 0.7936\n",
      "Epoch 301/10000\n",
      " - 0s - loss: 0.6176 - val_loss: 0.7926\n",
      "Epoch 302/10000\n",
      " - 0s - loss: 0.6162 - val_loss: 0.7916\n",
      "Epoch 303/10000\n",
      " - 0s - loss: 0.6147 - val_loss: 0.7906\n",
      "Epoch 304/10000\n",
      " - 0s - loss: 0.6132 - val_loss: 0.7896\n",
      "Epoch 305/10000\n",
      " - 0s - loss: 0.6117 - val_loss: 0.7886\n",
      "Epoch 306/10000\n",
      " - 0s - loss: 0.6103 - val_loss: 0.7876\n",
      "Epoch 307/10000\n",
      " - 0s - loss: 0.6088 - val_loss: 0.7866\n",
      "Epoch 308/10000\n",
      " - 0s - loss: 0.6074 - val_loss: 0.7856\n",
      "Epoch 309/10000\n",
      " - 0s - loss: 0.6060 - val_loss: 0.7846\n",
      "Epoch 310/10000\n",
      " - 0s - loss: 0.6045 - val_loss: 0.7836\n",
      "Epoch 311/10000\n",
      " - 0s - loss: 0.6031 - val_loss: 0.7827\n",
      "Epoch 312/10000\n",
      " - 0s - loss: 0.6017 - val_loss: 0.7817\n",
      "Epoch 313/10000\n",
      " - 0s - loss: 0.6003 - val_loss: 0.7807\n",
      "Epoch 314/10000\n",
      " - 0s - loss: 0.5989 - val_loss: 0.7798\n",
      "Epoch 315/10000\n",
      " - 0s - loss: 0.5975 - val_loss: 0.7788\n",
      "Epoch 316/10000\n",
      " - 0s - loss: 0.5961 - val_loss: 0.7779\n",
      "Epoch 317/10000\n",
      " - 0s - loss: 0.5947 - val_loss: 0.7770\n",
      "Epoch 318/10000\n",
      " - 0s - loss: 0.5933 - val_loss: 0.7760\n",
      "Epoch 319/10000\n",
      " - 0s - loss: 0.5920 - val_loss: 0.7751\n",
      "Epoch 320/10000\n",
      " - 0s - loss: 0.5906 - val_loss: 0.7742\n",
      "Epoch 321/10000\n",
      " - 0s - loss: 0.5893 - val_loss: 0.7733\n",
      "Epoch 322/10000\n",
      " - 0s - loss: 0.5879 - val_loss: 0.7724\n",
      "Epoch 323/10000\n",
      " - 0s - loss: 0.5866 - val_loss: 0.7715\n",
      "Epoch 324/10000\n",
      " - 0s - loss: 0.5852 - val_loss: 0.7706\n",
      "Epoch 325/10000\n",
      " - 0s - loss: 0.5839 - val_loss: 0.7697\n",
      "Epoch 326/10000\n",
      " - 0s - loss: 0.5826 - val_loss: 0.7688\n",
      "Epoch 327/10000\n",
      " - 0s - loss: 0.5813 - val_loss: 0.7679\n",
      "Epoch 328/10000\n",
      " - 0s - loss: 0.5800 - val_loss: 0.7670\n",
      "Epoch 329/10000\n",
      " - 0s - loss: 0.5787 - val_loss: 0.7662\n",
      "Epoch 330/10000\n",
      " - 0s - loss: 0.5774 - val_loss: 0.7653\n",
      "Epoch 331/10000\n",
      " - 0s - loss: 0.5761 - val_loss: 0.7644\n",
      "Epoch 332/10000\n",
      " - 0s - loss: 0.5748 - val_loss: 0.7636\n",
      "Epoch 333/10000\n",
      " - 0s - loss: 0.5735 - val_loss: 0.7627\n",
      "Epoch 334/10000\n",
      " - 0s - loss: 0.5723 - val_loss: 0.7619\n",
      "Epoch 335/10000\n",
      " - 0s - loss: 0.5710 - val_loss: 0.7610\n",
      "Epoch 336/10000\n",
      " - 0s - loss: 0.5698 - val_loss: 0.7602\n",
      "Epoch 337/10000\n",
      " - 0s - loss: 0.5685 - val_loss: 0.7594\n",
      "Epoch 338/10000\n",
      " - 0s - loss: 0.5673 - val_loss: 0.7586\n",
      "Epoch 339/10000\n",
      " - 0s - loss: 0.5660 - val_loss: 0.7578\n",
      "Epoch 340/10000\n",
      " - 0s - loss: 0.5648 - val_loss: 0.7569\n",
      "Epoch 341/10000\n",
      " - 0s - loss: 0.5636 - val_loss: 0.7561\n",
      "Epoch 342/10000\n",
      " - 0s - loss: 0.5624 - val_loss: 0.7553\n",
      "Epoch 343/10000\n",
      " - 0s - loss: 0.5612 - val_loss: 0.7545\n",
      "Epoch 344/10000\n",
      " - 0s - loss: 0.5600 - val_loss: 0.7538\n",
      "Epoch 345/10000\n",
      " - 0s - loss: 0.5588 - val_loss: 0.7530\n",
      "Epoch 346/10000\n",
      " - 0s - loss: 0.5576 - val_loss: 0.7522\n",
      "Epoch 347/10000\n",
      " - 0s - loss: 0.5564 - val_loss: 0.7514\n",
      "Epoch 348/10000\n",
      " - 0s - loss: 0.5552 - val_loss: 0.7506\n",
      "Epoch 349/10000\n",
      " - 0s - loss: 0.5540 - val_loss: 0.7499\n",
      "Epoch 350/10000\n",
      " - 0s - loss: 0.5529 - val_loss: 0.7491\n",
      "Epoch 351/10000\n",
      " - 0s - loss: 0.5517 - val_loss: 0.7484\n",
      "Epoch 352/10000\n",
      " - 0s - loss: 0.5505 - val_loss: 0.7476\n",
      "Epoch 353/10000\n",
      " - 0s - loss: 0.5494 - val_loss: 0.7469\n",
      "Epoch 354/10000\n",
      " - 0s - loss: 0.5483 - val_loss: 0.7461\n",
      "Epoch 355/10000\n",
      " - 0s - loss: 0.5471 - val_loss: 0.7454\n",
      "Epoch 356/10000\n",
      " - 0s - loss: 0.5460 - val_loss: 0.7447\n",
      "Epoch 357/10000\n",
      " - 0s - loss: 0.5449 - val_loss: 0.7440\n",
      "Epoch 358/10000\n",
      " - 0s - loss: 0.5437 - val_loss: 0.7432\n",
      "Epoch 359/10000\n",
      " - 0s - loss: 0.5426 - val_loss: 0.7425\n",
      "Epoch 360/10000\n",
      " - 0s - loss: 0.5415 - val_loss: 0.7418\n",
      "Epoch 361/10000\n",
      " - 0s - loss: 0.5404 - val_loss: 0.7411\n",
      "Epoch 362/10000\n",
      " - 0s - loss: 0.5393 - val_loss: 0.7404\n",
      "Epoch 363/10000\n",
      " - 0s - loss: 0.5382 - val_loss: 0.7397\n",
      "Epoch 364/10000\n",
      " - 0s - loss: 0.5371 - val_loss: 0.7390\n",
      "Epoch 365/10000\n",
      " - 0s - loss: 0.5360 - val_loss: 0.7384\n",
      "Epoch 366/10000\n",
      " - 0s - loss: 0.5350 - val_loss: 0.7377\n",
      "Epoch 367/10000\n",
      " - 0s - loss: 0.5339 - val_loss: 0.7370\n",
      "Epoch 368/10000\n",
      " - 0s - loss: 0.5328 - val_loss: 0.7363\n",
      "Epoch 369/10000\n",
      " - 0s - loss: 0.5318 - val_loss: 0.7357\n",
      "Epoch 370/10000\n",
      " - 0s - loss: 0.5307 - val_loss: 0.7350\n",
      "Epoch 371/10000\n",
      " - 0s - loss: 0.5297 - val_loss: 0.7344\n",
      "Epoch 372/10000\n",
      " - 0s - loss: 0.5286 - val_loss: 0.7337\n",
      "Epoch 373/10000\n",
      " - 0s - loss: 0.5276 - val_loss: 0.7331\n",
      "Epoch 374/10000\n",
      " - 0s - loss: 0.5265 - val_loss: 0.7324\n",
      "Epoch 375/10000\n",
      " - 0s - loss: 0.5255 - val_loss: 0.7318\n",
      "Epoch 376/10000\n",
      " - 0s - loss: 0.5245 - val_loss: 0.7311\n",
      "Epoch 377/10000\n",
      " - 0s - loss: 0.5235 - val_loss: 0.7305\n",
      "Epoch 378/10000\n",
      " - 0s - loss: 0.5225 - val_loss: 0.7299\n",
      "Epoch 379/10000\n",
      " - 0s - loss: 0.5214 - val_loss: 0.7293\n",
      "Epoch 380/10000\n",
      " - 0s - loss: 0.5204 - val_loss: 0.7286\n",
      "Epoch 381/10000\n",
      " - 0s - loss: 0.5194 - val_loss: 0.7280\n",
      "Epoch 382/10000\n",
      " - 0s - loss: 0.5184 - val_loss: 0.7274\n",
      "Epoch 383/10000\n",
      " - 0s - loss: 0.5175 - val_loss: 0.7268\n",
      "Epoch 384/10000\n",
      " - 0s - loss: 0.5165 - val_loss: 0.7262\n",
      "Epoch 385/10000\n",
      " - 0s - loss: 0.5155 - val_loss: 0.7256\n",
      "Epoch 386/10000\n",
      " - 0s - loss: 0.5145 - val_loss: 0.7250\n",
      "Epoch 387/10000\n",
      " - 0s - loss: 0.5135 - val_loss: 0.7245\n",
      "Epoch 388/10000\n",
      " - 0s - loss: 0.5126 - val_loss: 0.7239\n",
      "Epoch 389/10000\n",
      " - 0s - loss: 0.5116 - val_loss: 0.7233\n",
      "Epoch 390/10000\n",
      " - 0s - loss: 0.5106 - val_loss: 0.7227\n",
      "Epoch 391/10000\n",
      " - 0s - loss: 0.5097 - val_loss: 0.7222\n",
      "Epoch 392/10000\n",
      " - 0s - loss: 0.5087 - val_loss: 0.7216\n",
      "Epoch 393/10000\n",
      " - 0s - loss: 0.5078 - val_loss: 0.7210\n",
      "Epoch 394/10000\n",
      " - 0s - loss: 0.5068 - val_loss: 0.7205\n",
      "Epoch 395/10000\n",
      " - 0s - loss: 0.5059 - val_loss: 0.7199\n",
      "Epoch 396/10000\n",
      " - 0s - loss: 0.5050 - val_loss: 0.7194\n",
      "Epoch 397/10000\n",
      " - 0s - loss: 0.5040 - val_loss: 0.7188\n",
      "Epoch 398/10000\n",
      " - 0s - loss: 0.5031 - val_loss: 0.7183\n",
      "Epoch 399/10000\n",
      " - 0s - loss: 0.5022 - val_loss: 0.7178\n",
      "Epoch 400/10000\n",
      " - 0s - loss: 0.5013 - val_loss: 0.7172\n",
      "Epoch 401/10000\n",
      " - 0s - loss: 0.5004 - val_loss: 0.7167\n",
      "Epoch 402/10000\n",
      " - 0s - loss: 0.4995 - val_loss: 0.7162\n",
      "Epoch 403/10000\n",
      " - 0s - loss: 0.4985 - val_loss: 0.7157\n",
      "Epoch 404/10000\n",
      " - 0s - loss: 0.4976 - val_loss: 0.7151\n",
      "Epoch 405/10000\n",
      " - 0s - loss: 0.4967 - val_loss: 0.7146\n",
      "Epoch 406/10000\n",
      " - 0s - loss: 0.4959 - val_loss: 0.7141\n",
      "Epoch 407/10000\n",
      " - 0s - loss: 0.4950 - val_loss: 0.7136\n",
      "Epoch 408/10000\n",
      " - 0s - loss: 0.4941 - val_loss: 0.7131\n",
      "Epoch 409/10000\n",
      " - 0s - loss: 0.4932 - val_loss: 0.7126\n",
      "Epoch 410/10000\n",
      " - 0s - loss: 0.4923 - val_loss: 0.7121\n",
      "Epoch 411/10000\n",
      " - 0s - loss: 0.4914 - val_loss: 0.7116\n",
      "Epoch 412/10000\n",
      " - 0s - loss: 0.4906 - val_loss: 0.7111\n",
      "Epoch 413/10000\n",
      " - 0s - loss: 0.4897 - val_loss: 0.7107\n",
      "Epoch 414/10000\n",
      " - 0s - loss: 0.4888 - val_loss: 0.7102\n",
      "Epoch 415/10000\n",
      " - 0s - loss: 0.4880 - val_loss: 0.7097\n",
      "Epoch 416/10000\n",
      " - 0s - loss: 0.4871 - val_loss: 0.7092\n",
      "Epoch 417/10000\n",
      " - 0s - loss: 0.4863 - val_loss: 0.7088\n",
      "Epoch 418/10000\n",
      " - 0s - loss: 0.4854 - val_loss: 0.7083\n",
      "Epoch 419/10000\n",
      " - 0s - loss: 0.4846 - val_loss: 0.7078\n",
      "Epoch 420/10000\n",
      " - 0s - loss: 0.4837 - val_loss: 0.7074\n",
      "Epoch 421/10000\n",
      " - 0s - loss: 0.4829 - val_loss: 0.7069\n",
      "Epoch 422/10000\n",
      " - 0s - loss: 0.4820 - val_loss: 0.7065\n",
      "Epoch 423/10000\n",
      " - 0s - loss: 0.4812 - val_loss: 0.7060\n",
      "Epoch 424/10000\n",
      " - 0s - loss: 0.4804 - val_loss: 0.7056\n",
      "Epoch 425/10000\n",
      " - 0s - loss: 0.4795 - val_loss: 0.7051\n",
      "Epoch 426/10000\n",
      " - 0s - loss: 0.4787 - val_loss: 0.7047\n",
      "Epoch 427/10000\n",
      " - 0s - loss: 0.4779 - val_loss: 0.7043\n",
      "Epoch 428/10000\n",
      " - 0s - loss: 0.4771 - val_loss: 0.7038\n",
      "Epoch 429/10000\n",
      " - 0s - loss: 0.4763 - val_loss: 0.7034\n",
      "Epoch 430/10000\n",
      " - 0s - loss: 0.4754 - val_loss: 0.7030\n",
      "Epoch 431/10000\n",
      " - 0s - loss: 0.4746 - val_loss: 0.7026\n",
      "Epoch 432/10000\n",
      " - 0s - loss: 0.4738 - val_loss: 0.7021\n",
      "Epoch 433/10000\n",
      " - 0s - loss: 0.4730 - val_loss: 0.7017\n",
      "Epoch 434/10000\n",
      " - 0s - loss: 0.4722 - val_loss: 0.7013\n",
      "Epoch 435/10000\n",
      " - 0s - loss: 0.4714 - val_loss: 0.7009\n",
      "Epoch 436/10000\n",
      " - 0s - loss: 0.4706 - val_loss: 0.7005\n",
      "Epoch 437/10000\n",
      " - 0s - loss: 0.4698 - val_loss: 0.7001\n",
      "Epoch 438/10000\n",
      " - 0s - loss: 0.4691 - val_loss: 0.6997\n",
      "Epoch 439/10000\n",
      " - 0s - loss: 0.4683 - val_loss: 0.6993\n",
      "Epoch 440/10000\n",
      " - 0s - loss: 0.4675 - val_loss: 0.6989\n",
      "Epoch 441/10000\n",
      " - 0s - loss: 0.4667 - val_loss: 0.6985\n",
      "Epoch 442/10000\n",
      " - 0s - loss: 0.4659 - val_loss: 0.6981\n"
     ]
    },
    {
     "name": "stdout",
     "output_type": "stream",
     "text": [
      "Epoch 443/10000\n",
      " - 0s - loss: 0.4652 - val_loss: 0.6978\n",
      "Epoch 444/10000\n",
      " - 0s - loss: 0.4644 - val_loss: 0.6974\n",
      "Epoch 445/10000\n",
      " - 0s - loss: 0.4636 - val_loss: 0.6970\n",
      "Epoch 446/10000\n",
      " - 0s - loss: 0.4628 - val_loss: 0.6966\n",
      "Epoch 447/10000\n",
      " - 0s - loss: 0.4621 - val_loss: 0.6963\n",
      "Epoch 448/10000\n",
      " - 0s - loss: 0.4613 - val_loss: 0.6959\n",
      "Epoch 449/10000\n",
      " - 0s - loss: 0.4606 - val_loss: 0.6955\n",
      "Epoch 450/10000\n",
      " - 0s - loss: 0.4598 - val_loss: 0.6952\n",
      "Epoch 451/10000\n",
      " - 0s - loss: 0.4591 - val_loss: 0.6948\n",
      "Epoch 452/10000\n",
      " - 0s - loss: 0.4583 - val_loss: 0.6944\n",
      "Epoch 453/10000\n",
      " - 0s - loss: 0.4576 - val_loss: 0.6941\n",
      "Epoch 454/10000\n",
      " - 0s - loss: 0.4568 - val_loss: 0.6937\n",
      "Epoch 455/10000\n",
      " - 0s - loss: 0.4561 - val_loss: 0.6934\n",
      "Epoch 456/10000\n",
      " - 0s - loss: 0.4553 - val_loss: 0.6930\n",
      "Epoch 457/10000\n",
      " - 0s - loss: 0.4546 - val_loss: 0.6927\n",
      "Epoch 458/10000\n",
      " - 0s - loss: 0.4538 - val_loss: 0.6924\n",
      "Epoch 459/10000\n",
      " - 0s - loss: 0.4531 - val_loss: 0.6920\n",
      "Epoch 460/10000\n",
      " - 0s - loss: 0.4524 - val_loss: 0.6917\n",
      "Epoch 461/10000\n",
      " - 0s - loss: 0.4517 - val_loss: 0.6914\n",
      "Epoch 462/10000\n",
      " - 0s - loss: 0.4509 - val_loss: 0.6910\n",
      "Epoch 463/10000\n",
      " - 0s - loss: 0.4502 - val_loss: 0.6907\n",
      "Epoch 464/10000\n",
      " - 0s - loss: 0.4495 - val_loss: 0.6904\n",
      "Epoch 465/10000\n",
      " - 0s - loss: 0.4488 - val_loss: 0.6901\n",
      "Epoch 466/10000\n",
      " - 0s - loss: 0.4480 - val_loss: 0.6897\n",
      "Epoch 467/10000\n",
      " - 0s - loss: 0.4473 - val_loss: 0.6894\n",
      "Epoch 468/10000\n",
      " - 0s - loss: 0.4466 - val_loss: 0.6891\n",
      "Epoch 469/10000\n",
      " - 0s - loss: 0.4459 - val_loss: 0.6888\n",
      "Epoch 470/10000\n",
      " - 0s - loss: 0.4452 - val_loss: 0.6885\n",
      "Epoch 471/10000\n",
      " - 0s - loss: 0.4445 - val_loss: 0.6882\n",
      "Epoch 472/10000\n",
      " - 0s - loss: 0.4438 - val_loss: 0.6879\n",
      "Epoch 473/10000\n",
      " - 0s - loss: 0.4431 - val_loss: 0.6876\n",
      "Epoch 474/10000\n",
      " - 0s - loss: 0.4424 - val_loss: 0.6873\n",
      "Epoch 475/10000\n",
      " - 0s - loss: 0.4417 - val_loss: 0.6870\n",
      "Epoch 476/10000\n",
      " - 0s - loss: 0.4410 - val_loss: 0.6867\n",
      "Epoch 477/10000\n",
      " - 0s - loss: 0.4403 - val_loss: 0.6864\n",
      "Epoch 478/10000\n",
      " - 0s - loss: 0.4396 - val_loss: 0.6861\n",
      "Epoch 479/10000\n",
      " - 0s - loss: 0.4389 - val_loss: 0.6859\n",
      "Epoch 480/10000\n",
      " - 0s - loss: 0.4382 - val_loss: 0.6856\n",
      "Epoch 481/10000\n",
      " - 0s - loss: 0.4375 - val_loss: 0.6853\n",
      "Epoch 482/10000\n",
      " - 0s - loss: 0.4369 - val_loss: 0.6850\n",
      "Epoch 483/10000\n",
      " - 0s - loss: 0.4362 - val_loss: 0.6847\n",
      "Epoch 484/10000\n",
      " - 0s - loss: 0.4355 - val_loss: 0.6845\n",
      "Epoch 485/10000\n",
      " - 0s - loss: 0.4348 - val_loss: 0.6842\n",
      "Epoch 486/10000\n",
      " - 0s - loss: 0.4342 - val_loss: 0.6839\n",
      "Epoch 487/10000\n",
      " - 0s - loss: 0.4335 - val_loss: 0.6837\n",
      "Epoch 488/10000\n",
      " - 0s - loss: 0.4328 - val_loss: 0.6834\n",
      "Epoch 489/10000\n",
      " - 0s - loss: 0.4321 - val_loss: 0.6831\n",
      "Epoch 490/10000\n",
      " - 0s - loss: 0.4315 - val_loss: 0.6829\n",
      "Epoch 491/10000\n",
      " - 0s - loss: 0.4308 - val_loss: 0.6826\n",
      "Epoch 492/10000\n",
      " - 0s - loss: 0.4301 - val_loss: 0.6824\n",
      "Epoch 493/10000\n",
      " - 0s - loss: 0.4295 - val_loss: 0.6821\n",
      "Epoch 494/10000\n",
      " - 0s - loss: 0.4288 - val_loss: 0.6819\n",
      "Epoch 495/10000\n",
      " - 0s - loss: 0.4282 - val_loss: 0.6816\n",
      "Epoch 496/10000\n",
      " - 0s - loss: 0.4275 - val_loss: 0.6814\n",
      "Epoch 497/10000\n",
      " - 0s - loss: 0.4269 - val_loss: 0.6811\n",
      "Epoch 498/10000\n",
      " - 0s - loss: 0.4262 - val_loss: 0.6809\n",
      "Epoch 499/10000\n",
      " - 0s - loss: 0.4256 - val_loss: 0.6807\n",
      "Epoch 500/10000\n",
      " - 0s - loss: 0.4249 - val_loss: 0.6804\n",
      "Epoch 501/10000\n",
      " - 0s - loss: 0.4243 - val_loss: 0.6802\n",
      "Epoch 502/10000\n",
      " - 0s - loss: 0.4236 - val_loss: 0.6800\n",
      "Epoch 503/10000\n",
      " - 0s - loss: 0.4230 - val_loss: 0.6797\n",
      "Epoch 504/10000\n",
      " - 0s - loss: 0.4223 - val_loss: 0.6795\n",
      "Epoch 505/10000\n",
      " - 0s - loss: 0.4217 - val_loss: 0.6793\n",
      "Epoch 506/10000\n",
      " - 0s - loss: 0.4211 - val_loss: 0.6791\n",
      "Epoch 507/10000\n",
      " - 0s - loss: 0.4204 - val_loss: 0.6789\n",
      "Epoch 508/10000\n",
      " - 0s - loss: 0.4198 - val_loss: 0.6786\n",
      "Epoch 509/10000\n",
      " - 0s - loss: 0.4192 - val_loss: 0.6784\n",
      "Epoch 510/10000\n",
      " - 0s - loss: 0.4185 - val_loss: 0.6782\n",
      "Epoch 511/10000\n",
      " - 0s - loss: 0.4179 - val_loss: 0.6780\n",
      "Epoch 512/10000\n",
      " - 0s - loss: 0.4173 - val_loss: 0.6778\n",
      "Epoch 513/10000\n",
      " - 0s - loss: 0.4167 - val_loss: 0.6776\n",
      "Epoch 514/10000\n",
      " - 0s - loss: 0.4160 - val_loss: 0.6774\n",
      "Epoch 515/10000\n",
      " - 0s - loss: 0.4154 - val_loss: 0.6772\n",
      "Epoch 516/10000\n",
      " - 0s - loss: 0.4148 - val_loss: 0.6770\n",
      "Epoch 517/10000\n",
      " - 0s - loss: 0.4142 - val_loss: 0.6768\n",
      "Epoch 518/10000\n",
      " - 0s - loss: 0.4136 - val_loss: 0.6766\n",
      "Epoch 519/10000\n",
      " - 0s - loss: 0.4130 - val_loss: 0.6764\n"
     ]
    }
   ],
   "source": [
    "matrixfact_df = test_imputation(matrixfactorization_solver, nan_inserted_data)"
   ]
  },
  {
   "cell_type": "markdown",
   "metadata": {},
   "source": [
    "### Now cast as ints"
   ]
  },
  {
   "cell_type": "code",
   "execution_count": 18,
   "metadata": {
    "collapsed": true
   },
   "outputs": [],
   "source": [
    "solver_list = [KNN_df, softimpute_df, MICE_df,\n",
    "               simple_df, iterative_df, matrixfact_df]\n",
    "solver_names = ['KNN', 'SoftImpute', 'MICE', 'SimpleFill',\n",
    "                   'IterativeSVD', 'MatrixFactorization']"
   ]
  },
  {
   "cell_type": "code",
   "execution_count": 19,
   "metadata": {
    "collapsed": true
   },
   "outputs": [],
   "source": [
    "KNN_df_round = KNN_df.copy()\n",
    "softimpute_df_round = softimpute_df.copy()\n",
    "MICE_df_round = MICE_df.copy()\n",
    "simple_df_round = simple_df.copy()\n",
    "iterative_df_round = iterative_df.copy()\n",
    "matrixfact_df_round = matrixfact_df.copy()"
   ]
  },
  {
   "cell_type": "code",
   "execution_count": 20,
   "metadata": {
    "collapsed": true
   },
   "outputs": [],
   "source": [
    "round_list = [KNN_df_round, softimpute_df_round, MICE_df_round,\n",
    "              simple_df_round, iterative_df_round, matrixfact_df_round]\n",
    "round_names = ['KNN_round', 'SoftImpute_round', 'MICE_round',\n",
    "            'SimpleFill_round', 'IterativeSVD_round', 'MatrixFact_round']"
   ]
  },
  {
   "cell_type": "code",
   "execution_count": 21,
   "metadata": {
    "collapsed": true
   },
   "outputs": [],
   "source": [
    "int_cols = ['SSBK_NUMCOMPLETE_Y1', 'SSFD_NUMCOMPLETE_Y1',\n",
    "            'Y1_CLWRD_COND1', 'Y1_CLWRD_COND2', 'Y1_DIGITS_BKWD_RS',\n",
    "            'Y1_DIGITS_FRWD_RS', 'Y1_TRAILS_COND2', 'Y1_TRAILS_COND3']\n",
    "for df in round_list:\n",
    "    for col in int_cols:\n",
    "        df[col] = df[col].astype('int')"
   ]
  },
  {
   "cell_type": "markdown",
   "metadata": {},
   "source": [
    "### Create MSEs for each"
   ]
  },
  {
   "cell_type": "code",
   "execution_count": 22,
   "metadata": {
    "collapsed": true
   },
   "outputs": [],
   "source": [
    "total_df_list = solver_list + round_list\n",
    "total_df_names = solver_names + round_names"
   ]
  },
  {
   "cell_type": "code",
   "execution_count": 23,
   "metadata": {
    "collapsed": true
   },
   "outputs": [],
   "source": [
    "mse_df = pd.DataFrame(index=total_df_names, columns=complete_data.columns)"
   ]
  },
  {
   "cell_type": "code",
   "execution_count": 24,
   "metadata": {
    "collapsed": true
   },
   "outputs": [],
   "source": [
    "i = 0\n",
    "for df, name in zip(total_df_list, total_df_names):\n",
    "    mse = ((df[missing_mask] - complete_data[missing_mask]) ** 2).mean()\n",
    "    mse_df.loc[name] = mse\n",
    "    i += 1"
   ]
  },
  {
   "cell_type": "code",
   "execution_count": 25,
   "metadata": {},
   "outputs": [
    {
     "data": {
      "text/html": [
       "<div>\n",
       "<style scoped>\n",
       "    .dataframe tbody tr th:only-of-type {\n",
       "        vertical-align: middle;\n",
       "    }\n",
       "\n",
       "    .dataframe tbody tr th {\n",
       "        vertical-align: top;\n",
       "    }\n",
       "\n",
       "    .dataframe thead th {\n",
       "        text-align: right;\n",
       "    }\n",
       "</style>\n",
       "<table border=\"1\" class=\"dataframe\">\n",
       "  <thead>\n",
       "    <tr style=\"text-align: right;\">\n",
       "      <th></th>\n",
       "      <th>STOP_SSRTAVE_Y1</th>\n",
       "      <th>DPRIME1_Y1</th>\n",
       "      <th>DPRIME2_Y1</th>\n",
       "      <th>SSBK_NUMCOMPLETE_Y1</th>\n",
       "      <th>SSFD_NUMCOMPLETE_Y1</th>\n",
       "      <th>V_Y1</th>\n",
       "      <th>Y1_CLWRD_COND1</th>\n",
       "      <th>Y1_CLWRD_COND2</th>\n",
       "      <th>Y1_DIGITS_BKWD_RS</th>\n",
       "      <th>Y1_DIGITS_FRWD_RS</th>\n",
       "      <th>...</th>\n",
       "      <th>Y1_P_TMCQ_SOOTHE</th>\n",
       "      <th>Y1_P_TMCQ_ASSERT</th>\n",
       "      <th>Y1_P_TMCQ_ATTFOCUS</th>\n",
       "      <th>Y1_P_TMCQ_LIP</th>\n",
       "      <th>Y1_P_TMCQ_PERCEPT</th>\n",
       "      <th>Y1_P_TMCQ_DISCOMF</th>\n",
       "      <th>Y1_P_TMCQ_OPENNESS</th>\n",
       "      <th>Y1_P_TMCQ_SURGENCY</th>\n",
       "      <th>Y1_P_TMCQ_EFFCONT</th>\n",
       "      <th>Y1_P_TMCQ_NEGAFFECT</th>\n",
       "    </tr>\n",
       "  </thead>\n",
       "  <tbody>\n",
       "    <tr>\n",
       "      <th>KNN</th>\n",
       "      <td>1692.93</td>\n",
       "      <td>0.0332995</td>\n",
       "      <td>0.0393322</td>\n",
       "      <td>0.953592</td>\n",
       "      <td>0.507797</td>\n",
       "      <td>0.0406269</td>\n",
       "      <td>15.8956</td>\n",
       "      <td>4.20788</td>\n",
       "      <td>0.438927</td>\n",
       "      <td>0.558573</td>\n",
       "      <td>...</td>\n",
       "      <td>0.0829188</td>\n",
       "      <td>0.0383403</td>\n",
       "      <td>0.175969</td>\n",
       "      <td>0.0252375</td>\n",
       "      <td>0.0570308</td>\n",
       "      <td>0.0632523</td>\n",
       "      <td>0.0282452</td>\n",
       "      <td>0.0447257</td>\n",
       "      <td>0.0200182</td>\n",
       "      <td>0.0215296</td>\n",
       "    </tr>\n",
       "    <tr>\n",
       "      <th>SoftImpute</th>\n",
       "      <td>3918.77</td>\n",
       "      <td>0.0690016</td>\n",
       "      <td>0.100824</td>\n",
       "      <td>1.5714</td>\n",
       "      <td>1.56099</td>\n",
       "      <td>0.108418</td>\n",
       "      <td>13.9343</td>\n",
       "      <td>3.00175</td>\n",
       "      <td>0.771189</td>\n",
       "      <td>1.25317</td>\n",
       "      <td>...</td>\n",
       "      <td>0.131643</td>\n",
       "      <td>0.113785</td>\n",
       "      <td>0.206361</td>\n",
       "      <td>0.109146</td>\n",
       "      <td>0.0925645</td>\n",
       "      <td>0.0672386</td>\n",
       "      <td>0.0847141</td>\n",
       "      <td>0.125527</td>\n",
       "      <td>0.0992259</td>\n",
       "      <td>0.0330514</td>\n",
       "    </tr>\n",
       "    <tr>\n",
       "      <th>MICE</th>\n",
       "      <td>1259.84</td>\n",
       "      <td>0.03645</td>\n",
       "      <td>0.0358659</td>\n",
       "      <td>0.763442</td>\n",
       "      <td>0.640531</td>\n",
       "      <td>0.0359388</td>\n",
       "      <td>12.2544</td>\n",
       "      <td>2.91361</td>\n",
       "      <td>0.41862</td>\n",
       "      <td>0.535761</td>\n",
       "      <td>...</td>\n",
       "      <td>0.0620709</td>\n",
       "      <td>0.0358974</td>\n",
       "      <td>0.116804</td>\n",
       "      <td>0.0302898</td>\n",
       "      <td>0.0437095</td>\n",
       "      <td>0.0418762</td>\n",
       "      <td>0.0256708</td>\n",
       "      <td>0.0405498</td>\n",
       "      <td>0.0150929</td>\n",
       "      <td>0.0185244</td>\n",
       "    </tr>\n",
       "    <tr>\n",
       "      <th>SimpleFill</th>\n",
       "      <td>1484.93</td>\n",
       "      <td>0.0522512</td>\n",
       "      <td>0.0583506</td>\n",
       "      <td>0.899629</td>\n",
       "      <td>0.689608</td>\n",
       "      <td>0.0477081</td>\n",
       "      <td>16.5572</td>\n",
       "      <td>5.9683</td>\n",
       "      <td>0.45258</td>\n",
       "      <td>0.667103</td>\n",
       "      <td>...</td>\n",
       "      <td>0.0641693</td>\n",
       "      <td>0.038189</td>\n",
       "      <td>0.124899</td>\n",
       "      <td>0.0308146</td>\n",
       "      <td>0.045697</td>\n",
       "      <td>0.046992</td>\n",
       "      <td>0.0280636</td>\n",
       "      <td>0.0376272</td>\n",
       "      <td>0.017678</td>\n",
       "      <td>0.0178367</td>\n",
       "    </tr>\n",
       "    <tr>\n",
       "      <th>IterativeSVD</th>\n",
       "      <td>7372.97</td>\n",
       "      <td>0.0293732</td>\n",
       "      <td>0.0334537</td>\n",
       "      <td>1.33936</td>\n",
       "      <td>0.848333</td>\n",
       "      <td>0.05205</td>\n",
       "      <td>14.8816</td>\n",
       "      <td>3.69057</td>\n",
       "      <td>0.477076</td>\n",
       "      <td>0.603639</td>\n",
       "      <td>...</td>\n",
       "      <td>0.0462509</td>\n",
       "      <td>0.0465756</td>\n",
       "      <td>0.0748318</td>\n",
       "      <td>0.0279538</td>\n",
       "      <td>0.0504384</td>\n",
       "      <td>0.0259348</td>\n",
       "      <td>0.0338978</td>\n",
       "      <td>0.0500156</td>\n",
       "      <td>0.0232668</td>\n",
       "      <td>0.00824457</td>\n",
       "    </tr>\n",
       "    <tr>\n",
       "      <th>MatrixFactorization</th>\n",
       "      <td>1398.71</td>\n",
       "      <td>0.0236747</td>\n",
       "      <td>0.0391589</td>\n",
       "      <td>0.60515</td>\n",
       "      <td>0.733518</td>\n",
       "      <td>0.0385387</td>\n",
       "      <td>12.3965</td>\n",
       "      <td>3.3146</td>\n",
       "      <td>0.36721</td>\n",
       "      <td>0.406933</td>\n",
       "      <td>...</td>\n",
       "      <td>0.0580877</td>\n",
       "      <td>0.0391018</td>\n",
       "      <td>0.0818113</td>\n",
       "      <td>0.0201365</td>\n",
       "      <td>0.038836</td>\n",
       "      <td>0.0245927</td>\n",
       "      <td>0.0309999</td>\n",
       "      <td>0.0167686</td>\n",
       "      <td>0.00623255</td>\n",
       "      <td>0.00357768</td>\n",
       "    </tr>\n",
       "    <tr>\n",
       "      <th>KNN_round</th>\n",
       "      <td>1692.93</td>\n",
       "      <td>0.0332995</td>\n",
       "      <td>0.0393322</td>\n",
       "      <td>0.992908</td>\n",
       "      <td>0.513002</td>\n",
       "      <td>0.0406269</td>\n",
       "      <td>15.8652</td>\n",
       "      <td>4.40662</td>\n",
       "      <td>0.420804</td>\n",
       "      <td>0.635934</td>\n",
       "      <td>...</td>\n",
       "      <td>0.0829188</td>\n",
       "      <td>0.0383403</td>\n",
       "      <td>0.175969</td>\n",
       "      <td>0.0252375</td>\n",
       "      <td>0.0570308</td>\n",
       "      <td>0.0632523</td>\n",
       "      <td>0.0282452</td>\n",
       "      <td>0.0447257</td>\n",
       "      <td>0.0200182</td>\n",
       "      <td>0.0215296</td>\n",
       "    </tr>\n",
       "    <tr>\n",
       "      <th>SoftImpute_round</th>\n",
       "      <td>3918.77</td>\n",
       "      <td>0.0690016</td>\n",
       "      <td>0.100824</td>\n",
       "      <td>1.67376</td>\n",
       "      <td>1.83215</td>\n",
       "      <td>0.108418</td>\n",
       "      <td>14.3239</td>\n",
       "      <td>2.96217</td>\n",
       "      <td>0.926714</td>\n",
       "      <td>1.40426</td>\n",
       "      <td>...</td>\n",
       "      <td>0.131643</td>\n",
       "      <td>0.113785</td>\n",
       "      <td>0.206361</td>\n",
       "      <td>0.109146</td>\n",
       "      <td>0.0925645</td>\n",
       "      <td>0.0672386</td>\n",
       "      <td>0.0847141</td>\n",
       "      <td>0.125527</td>\n",
       "      <td>0.0992259</td>\n",
       "      <td>0.0330514</td>\n",
       "    </tr>\n",
       "    <tr>\n",
       "      <th>MICE_round</th>\n",
       "      <td>1259.84</td>\n",
       "      <td>0.03645</td>\n",
       "      <td>0.0358659</td>\n",
       "      <td>0.867612</td>\n",
       "      <td>0.794326</td>\n",
       "      <td>0.0359388</td>\n",
       "      <td>12.3215</td>\n",
       "      <td>2.82033</td>\n",
       "      <td>0.416076</td>\n",
       "      <td>0.617021</td>\n",
       "      <td>...</td>\n",
       "      <td>0.0620709</td>\n",
       "      <td>0.0358974</td>\n",
       "      <td>0.116804</td>\n",
       "      <td>0.0302898</td>\n",
       "      <td>0.0437095</td>\n",
       "      <td>0.0418762</td>\n",
       "      <td>0.0256708</td>\n",
       "      <td>0.0405498</td>\n",
       "      <td>0.0150929</td>\n",
       "      <td>0.0185244</td>\n",
       "    </tr>\n",
       "    <tr>\n",
       "      <th>SimpleFill_round</th>\n",
       "      <td>1484.93</td>\n",
       "      <td>0.0522512</td>\n",
       "      <td>0.0583506</td>\n",
       "      <td>0.917258</td>\n",
       "      <td>0.728132</td>\n",
       "      <td>0.0477081</td>\n",
       "      <td>16.6359</td>\n",
       "      <td>5.88416</td>\n",
       "      <td>0.524823</td>\n",
       "      <td>0.685579</td>\n",
       "      <td>...</td>\n",
       "      <td>0.0641693</td>\n",
       "      <td>0.038189</td>\n",
       "      <td>0.124899</td>\n",
       "      <td>0.0308146</td>\n",
       "      <td>0.045697</td>\n",
       "      <td>0.046992</td>\n",
       "      <td>0.0280636</td>\n",
       "      <td>0.0376272</td>\n",
       "      <td>0.017678</td>\n",
       "      <td>0.0178367</td>\n",
       "    </tr>\n",
       "    <tr>\n",
       "      <th>IterativeSVD_round</th>\n",
       "      <td>7372.97</td>\n",
       "      <td>0.0293732</td>\n",
       "      <td>0.0334537</td>\n",
       "      <td>1.40426</td>\n",
       "      <td>0.931442</td>\n",
       "      <td>0.05205</td>\n",
       "      <td>14.9905</td>\n",
       "      <td>3.56265</td>\n",
       "      <td>0.489362</td>\n",
       "      <td>0.617021</td>\n",
       "      <td>...</td>\n",
       "      <td>0.0462509</td>\n",
       "      <td>0.0465756</td>\n",
       "      <td>0.0748318</td>\n",
       "      <td>0.0279538</td>\n",
       "      <td>0.0504384</td>\n",
       "      <td>0.0259348</td>\n",
       "      <td>0.0338978</td>\n",
       "      <td>0.0500156</td>\n",
       "      <td>0.0232668</td>\n",
       "      <td>0.00824457</td>\n",
       "    </tr>\n",
       "    <tr>\n",
       "      <th>MatrixFact_round</th>\n",
       "      <td>1398.71</td>\n",
       "      <td>0.0236747</td>\n",
       "      <td>0.0391589</td>\n",
       "      <td>0.652482</td>\n",
       "      <td>0.817967</td>\n",
       "      <td>0.0385387</td>\n",
       "      <td>12.6714</td>\n",
       "      <td>3.24586</td>\n",
       "      <td>0.371158</td>\n",
       "      <td>0.458629</td>\n",
       "      <td>...</td>\n",
       "      <td>0.0580877</td>\n",
       "      <td>0.0391018</td>\n",
       "      <td>0.0818113</td>\n",
       "      <td>0.0201365</td>\n",
       "      <td>0.038836</td>\n",
       "      <td>0.0245927</td>\n",
       "      <td>0.0309999</td>\n",
       "      <td>0.0167686</td>\n",
       "      <td>0.00623255</td>\n",
       "      <td>0.00357768</td>\n",
       "    </tr>\n",
       "  </tbody>\n",
       "</table>\n",
       "<p>12 rows × 35 columns</p>\n",
       "</div>"
      ],
      "text/plain": [
       "                    STOP_SSRTAVE_Y1 DPRIME1_Y1 DPRIME2_Y1 SSBK_NUMCOMPLETE_Y1  \\\n",
       "KNN                         1692.93  0.0332995  0.0393322            0.953592   \n",
       "SoftImpute                  3918.77  0.0690016   0.100824              1.5714   \n",
       "MICE                        1259.84    0.03645  0.0358659            0.763442   \n",
       "SimpleFill                  1484.93  0.0522512  0.0583506            0.899629   \n",
       "IterativeSVD                7372.97  0.0293732  0.0334537             1.33936   \n",
       "MatrixFactorization         1398.71  0.0236747  0.0391589             0.60515   \n",
       "KNN_round                   1692.93  0.0332995  0.0393322            0.992908   \n",
       "SoftImpute_round            3918.77  0.0690016   0.100824             1.67376   \n",
       "MICE_round                  1259.84    0.03645  0.0358659            0.867612   \n",
       "SimpleFill_round            1484.93  0.0522512  0.0583506            0.917258   \n",
       "IterativeSVD_round          7372.97  0.0293732  0.0334537             1.40426   \n",
       "MatrixFact_round            1398.71  0.0236747  0.0391589            0.652482   \n",
       "\n",
       "                    SSFD_NUMCOMPLETE_Y1       V_Y1 Y1_CLWRD_COND1  \\\n",
       "KNN                            0.507797  0.0406269        15.8956   \n",
       "SoftImpute                      1.56099   0.108418        13.9343   \n",
       "MICE                           0.640531  0.0359388        12.2544   \n",
       "SimpleFill                     0.689608  0.0477081        16.5572   \n",
       "IterativeSVD                   0.848333    0.05205        14.8816   \n",
       "MatrixFactorization            0.733518  0.0385387        12.3965   \n",
       "KNN_round                      0.513002  0.0406269        15.8652   \n",
       "SoftImpute_round                1.83215   0.108418        14.3239   \n",
       "MICE_round                     0.794326  0.0359388        12.3215   \n",
       "SimpleFill_round               0.728132  0.0477081        16.6359   \n",
       "IterativeSVD_round             0.931442    0.05205        14.9905   \n",
       "MatrixFact_round               0.817967  0.0385387        12.6714   \n",
       "\n",
       "                    Y1_CLWRD_COND2 Y1_DIGITS_BKWD_RS Y1_DIGITS_FRWD_RS  \\\n",
       "KNN                        4.20788          0.438927          0.558573   \n",
       "SoftImpute                 3.00175          0.771189           1.25317   \n",
       "MICE                       2.91361           0.41862          0.535761   \n",
       "SimpleFill                  5.9683           0.45258          0.667103   \n",
       "IterativeSVD               3.69057          0.477076          0.603639   \n",
       "MatrixFactorization         3.3146           0.36721          0.406933   \n",
       "KNN_round                  4.40662          0.420804          0.635934   \n",
       "SoftImpute_round           2.96217          0.926714           1.40426   \n",
       "MICE_round                 2.82033          0.416076          0.617021   \n",
       "SimpleFill_round           5.88416          0.524823          0.685579   \n",
       "IterativeSVD_round         3.56265          0.489362          0.617021   \n",
       "MatrixFact_round           3.24586          0.371158          0.458629   \n",
       "\n",
       "                            ...         Y1_P_TMCQ_SOOTHE Y1_P_TMCQ_ASSERT  \\\n",
       "KNN                         ...                0.0829188        0.0383403   \n",
       "SoftImpute                  ...                 0.131643         0.113785   \n",
       "MICE                        ...                0.0620709        0.0358974   \n",
       "SimpleFill                  ...                0.0641693         0.038189   \n",
       "IterativeSVD                ...                0.0462509        0.0465756   \n",
       "MatrixFactorization         ...                0.0580877        0.0391018   \n",
       "KNN_round                   ...                0.0829188        0.0383403   \n",
       "SoftImpute_round            ...                 0.131643         0.113785   \n",
       "MICE_round                  ...                0.0620709        0.0358974   \n",
       "SimpleFill_round            ...                0.0641693         0.038189   \n",
       "IterativeSVD_round          ...                0.0462509        0.0465756   \n",
       "MatrixFact_round            ...                0.0580877        0.0391018   \n",
       "\n",
       "                    Y1_P_TMCQ_ATTFOCUS Y1_P_TMCQ_LIP Y1_P_TMCQ_PERCEPT  \\\n",
       "KNN                           0.175969     0.0252375         0.0570308   \n",
       "SoftImpute                    0.206361      0.109146         0.0925645   \n",
       "MICE                          0.116804     0.0302898         0.0437095   \n",
       "SimpleFill                    0.124899     0.0308146          0.045697   \n",
       "IterativeSVD                 0.0748318     0.0279538         0.0504384   \n",
       "MatrixFactorization          0.0818113     0.0201365          0.038836   \n",
       "KNN_round                     0.175969     0.0252375         0.0570308   \n",
       "SoftImpute_round              0.206361      0.109146         0.0925645   \n",
       "MICE_round                    0.116804     0.0302898         0.0437095   \n",
       "SimpleFill_round              0.124899     0.0308146          0.045697   \n",
       "IterativeSVD_round           0.0748318     0.0279538         0.0504384   \n",
       "MatrixFact_round             0.0818113     0.0201365          0.038836   \n",
       "\n",
       "                    Y1_P_TMCQ_DISCOMF Y1_P_TMCQ_OPENNESS Y1_P_TMCQ_SURGENCY  \\\n",
       "KNN                         0.0632523          0.0282452          0.0447257   \n",
       "SoftImpute                  0.0672386          0.0847141           0.125527   \n",
       "MICE                        0.0418762          0.0256708          0.0405498   \n",
       "SimpleFill                   0.046992          0.0280636          0.0376272   \n",
       "IterativeSVD                0.0259348          0.0338978          0.0500156   \n",
       "MatrixFactorization         0.0245927          0.0309999          0.0167686   \n",
       "KNN_round                   0.0632523          0.0282452          0.0447257   \n",
       "SoftImpute_round            0.0672386          0.0847141           0.125527   \n",
       "MICE_round                  0.0418762          0.0256708          0.0405498   \n",
       "SimpleFill_round             0.046992          0.0280636          0.0376272   \n",
       "IterativeSVD_round          0.0259348          0.0338978          0.0500156   \n",
       "MatrixFact_round            0.0245927          0.0309999          0.0167686   \n",
       "\n",
       "                    Y1_P_TMCQ_EFFCONT Y1_P_TMCQ_NEGAFFECT  \n",
       "KNN                         0.0200182           0.0215296  \n",
       "SoftImpute                  0.0992259           0.0330514  \n",
       "MICE                        0.0150929           0.0185244  \n",
       "SimpleFill                   0.017678           0.0178367  \n",
       "IterativeSVD                0.0232668          0.00824457  \n",
       "MatrixFactorization        0.00623255          0.00357768  \n",
       "KNN_round                   0.0200182           0.0215296  \n",
       "SoftImpute_round            0.0992259           0.0330514  \n",
       "MICE_round                  0.0150929           0.0185244  \n",
       "SimpleFill_round             0.017678           0.0178367  \n",
       "IterativeSVD_round          0.0232668          0.00824457  \n",
       "MatrixFact_round           0.00623255          0.00357768  \n",
       "\n",
       "[12 rows x 35 columns]"
      ]
     },
     "execution_count": 25,
     "metadata": {},
     "output_type": "execute_result"
    }
   ],
   "source": [
    "mse_df"
   ]
  },
  {
   "cell_type": "markdown",
   "metadata": {},
   "source": [
    "### Which method has the lowest MSEs?"
   ]
  },
  {
   "cell_type": "markdown",
   "metadata": {},
   "source": [
    "Write `true` for minimums in each col"
   ]
  },
  {
   "cell_type": "code",
   "execution_count": 26,
   "metadata": {
    "collapsed": true
   },
   "outputs": [],
   "source": [
    "mse_df_bool = mse_df.copy()\n",
    "for col in mse_df.columns:\n",
    "    mse_df_bool[col] = (mse_df_bool[col] == np.min(mse_df_bool[col]))"
   ]
  },
  {
   "cell_type": "code",
   "execution_count": 32,
   "metadata": {},
   "outputs": [
    {
     "data": {
      "text/plain": [
       "(12, 35)"
      ]
     },
     "execution_count": 32,
     "metadata": {},
     "output_type": "execute_result"
    }
   ],
   "source": [
    "mse_df_bool.shape"
   ]
  },
  {
   "cell_type": "code",
   "execution_count": 31,
   "metadata": {
    "scrolled": false
   },
   "outputs": [
    {
     "data": {
      "text/plain": [
       "[2, 1, 8, 1, 3, 19, 0, 1, 7, 1, 3, 16]"
      ]
     },
     "execution_count": 31,
     "metadata": {},
     "output_type": "execute_result"
    }
   ],
   "source": [
    "list(mse_df_bool.sum(axis=1).values)"
   ]
  },
  {
   "cell_type": "code",
   "execution_count": 28,
   "metadata": {
    "collapsed": true
   },
   "outputs": [],
   "source": [
    "int_cols_nodx = ['SSBK_NUMCOMPLETE_Y1',\n",
    " 'SSFD_NUMCOMPLETE_Y1',\n",
    " 'Y1_CLWRD_COND1',\n",
    " 'Y1_CLWRD_COND2',\n",
    " 'Y1_DIGITS_BKWD_RS',\n",
    " 'Y1_DIGITS_FRWD_RS',\n",
    " 'Y1_TRAILS_COND2',\n",
    " 'Y1_TRAILS_COND3']"
   ]
  },
  {
   "cell_type": "code",
   "execution_count": 29,
   "metadata": {},
   "outputs": [
    {
     "data": {
      "text/plain": [
       "KNN                    2\n",
       "SoftImpute             0\n",
       "MICE                   2\n",
       "SimpleFill             0\n",
       "IterativeSVD           0\n",
       "MatrixFactorization    3\n",
       "KNN_round              0\n",
       "SoftImpute_round       0\n",
       "MICE_round             1\n",
       "SimpleFill_round       0\n",
       "IterativeSVD_round     0\n",
       "MatrixFact_round       0\n",
       "dtype: int64"
      ]
     },
     "execution_count": 29,
     "metadata": {},
     "output_type": "execute_result"
    }
   ],
   "source": [
    "mse_df_bool[int_cols_nodx].sum(axis=1)"
   ]
  },
  {
   "cell_type": "markdown",
   "metadata": {},
   "source": [
    "However, MICE seems to do the best for columns that are technically integers (3 out of 8)"
   ]
  },
  {
   "cell_type": "markdown",
   "metadata": {},
   "source": [
    "### Conclusions"
   ]
  },
  {
   "cell_type": "markdown",
   "metadata": {},
   "source": [
    "Looks like MatrixFactorization is the best option. (out of 38 cols, 24 went to MatrixFactorization for the lowest MSE)\n",
    "\n",
    "Rounding does not improve the MSE. "
   ]
  },
  {
   "cell_type": "markdown",
   "metadata": {},
   "source": [
    "# Testing for leaky data!"
   ]
  },
  {
   "cell_type": "markdown",
   "metadata": {},
   "source": [
    "I had really high accuracy on my first logistic regression model (91% test accuracy on smaller train/test split, and 92% accuracy on cross-validated log models).\n",
    "\n",
    "So, I want to investigate if I have any leaky data columns."
   ]
  },
  {
   "cell_type": "code",
   "execution_count": null,
   "metadata": {
    "collapsed": true
   },
   "outputs": [],
   "source": [
    "X_train = train_data.drop(columns=['DX','DXSUB'])\n",
    "y_train = train_data['DX']"
   ]
  },
  {
   "cell_type": "raw",
   "metadata": {
    "collapsed": true
   },
   "source": [
    "X_train_small, X_test_small, y_train_small, y_test_small = train_test_split(\n",
    "                    X_train, y_train, test_size=0.2, random_state=56)"
   ]
  },
  {
   "cell_type": "code",
   "execution_count": null,
   "metadata": {
    "collapsed": true
   },
   "outputs": [],
   "source": [
    "accuracy_list = []\n",
    "for col in X_train_small.columns:\n",
    "    # Drop the column\n",
    "    X_train_dataset = X_train_small.drop(columns=col).values\n",
    "    X_test_dataset = X_test_small.drop(columns=col).values\n",
    "    \n",
    "    # Impute the data if missing numbers\n",
    "    if np.sum(np.isnan(X_train_dataset)) > 0:\n",
    "        X_train_final = impute_data(X_train_dataset)\n",
    "    else:\n",
    "        X_train_final = X_train_dataset.copy()\n",
    "\n",
    "    if np.sum(np.isnan(X_test_dataset)) > 0:\n",
    "        X_test_final = impute_data(X_test_dataset)\n",
    "    else:\n",
    "        X_test_final = X_test_dataset.copy()\n",
    "        \n",
    "    # Fit model\n",
    "    model = LogisticRegression()\n",
    "    model.fit(X_train_final, y_train_small)\n",
    "    \n",
    "    # Score model\n",
    "    accuracy = model.score(y_test_final, y_test_small)\n",
    "    accuracy_list.append((col, accuracy))"
   ]
  },
  {
   "cell_type": "code",
   "execution_count": null,
   "metadata": {
    "collapsed": true
   },
   "outputs": [],
   "source": [
    "accuracy_list\n",
    "for col, acc in accuracy_list:\n",
    "    print(\"Accuracy removing {}: \\t \\t {:2.2f}\".format(col, acc).expandtabs(10))"
   ]
  },
  {
   "cell_type": "code",
   "execution_count": null,
   "metadata": {
    "collapsed": true
   },
   "outputs": [],
   "source": [
    "X_train_small_impute = impute_data(X_train_small.values)"
   ]
  },
  {
   "cell_type": "code",
   "execution_count": null,
   "metadata": {
    "collapsed": true
   },
   "outputs": [],
   "source": [
    "logreg.fit(X_train_small_impute, y_train_small.values)"
   ]
  },
  {
   "cell_type": "code",
   "execution_count": null,
   "metadata": {
    "collapsed": true
   },
   "outputs": [],
   "source": [
    "logreg.score(impute_data(X_test_small.values), y_test_small.values)"
   ]
  },
  {
   "cell_type": "markdown",
   "metadata": {},
   "source": [
    "Looks like there aren't any leaky variables. I just have high accuracy.\n",
    "\n",
    "This makes sense - the lab wouldn't administer tests or behavioral questionnaires that don't have something to do with ADHD. So a straight logistical model is pretty accurate."
   ]
  },
  {
   "cell_type": "markdown",
   "metadata": {},
   "source": [
    "Going forward, I want to do a few things:\n",
    "\n",
    "- How high can I get the accuracy? Test out a few different models (RF, Gradient Boosting)\n",
    "- What's the spread of the predicted probas like?\n",
    "- Test out on DXSUB"
   ]
  },
  {
   "cell_type": "markdown",
   "metadata": {},
   "source": [
    "# Logistic Model Metrics Visualization"
   ]
  },
  {
   "cell_type": "code",
   "execution_count": null,
   "metadata": {
    "collapsed": true
   },
   "outputs": [],
   "source": [
    "X_train_DX = train_data.drop(columns=['DX','DXSUB'])\n",
    "y_train_DX = train_data['DX']"
   ]
  },
  {
   "cell_type": "code",
   "execution_count": null,
   "metadata": {
    "collapsed": true
   },
   "outputs": [],
   "source": [
    "X_train_small, X_test_small, y_train_small, y_test_small = train_test_split(\n",
    "                    X_train_DX, y_train_DX, test_size=0.2, random_state=56)"
   ]
  },
  {
   "cell_type": "code",
   "execution_count": null,
   "metadata": {
    "collapsed": true
   },
   "outputs": [],
   "source": [
    "logmod = LogisticRegression()\n",
    "logmod.fit(impute_data(X_train_small.values), y_train_small)"
   ]
  },
  {
   "cell_type": "code",
   "execution_count": null,
   "metadata": {
    "collapsed": true
   },
   "outputs": [],
   "source": [
    "pred_prob_dx = logmod.predict_proba(impute_data(X_test_small.values))"
   ]
  },
  {
   "cell_type": "code",
   "execution_count": null,
   "metadata": {
    "collapsed": true
   },
   "outputs": [],
   "source": [
    "prob_dx = logmod.predict(impute_data(X_test_small.values))"
   ]
  },
  {
   "cell_type": "code",
   "execution_count": null,
   "metadata": {
    "collapsed": true,
    "scrolled": true
   },
   "outputs": [],
   "source": [
    "len(pred_prob_dx[:,0])"
   ]
  },
  {
   "cell_type": "code",
   "execution_count": null,
   "metadata": {
    "collapsed": true
   },
   "outputs": [],
   "source": [
    "def make_jitter(data, jitter=0.1):\n",
    "    return np.random.uniform(-jitter, jitter, size=data.shape)"
   ]
  },
  {
   "cell_type": "code",
   "execution_count": null,
   "metadata": {
    "collapsed": true,
    "scrolled": true
   },
   "outputs": [],
   "source": [
    "fig, ax = plt.subplots(figsize=(10,2))\n",
    "\n",
    "_ = ax.scatter(pred_prob_dx[:,0], make_jitter(pred_prob_dx[:,0]), c=np.vectorize(dx_dict.get)(y_test_small),\n",
    "           s=40, alpha=0.5)\n",
    "_ = ax.set_xlim(0,1)\n",
    "_ = ax.set_title('Predicted Probability of Positive vs Negative Classes')"
   ]
  },
  {
   "cell_type": "code",
   "execution_count": null,
   "metadata": {
    "collapsed": true,
    "scrolled": true
   },
   "outputs": [],
   "source": [
    "fpr, tpr, thresholds = roc_curve(y_test_small, prob_dx, pos_label=3, drop_intermediate=False)\n",
    "roc_auc = auc(fpr, tpr)"
   ]
  },
  {
   "cell_type": "code",
   "execution_count": null,
   "metadata": {
    "collapsed": true,
    "scrolled": true
   },
   "outputs": [],
   "source": [
    "plt.plot(fpr, tpr)"
   ]
  },
  {
   "cell_type": "markdown",
   "metadata": {},
   "source": [
    "# Classification Metrics"
   ]
  },
  {
   "cell_type": "markdown",
   "metadata": {},
   "source": [
    "I created logistic regression, random forest, and gradient boosting models. I want to see the MSE and accuracy on train/test, cross-validated (k-fold=10), when predicting DX, and when predicting DXSUB."
   ]
  },
  {
   "cell_type": "code",
   "execution_count": null,
   "metadata": {
    "collapsed": true
   },
   "outputs": [],
   "source": [
    "#train_data = pd.read_csv('data/train_data.csv')"
   ]
  },
  {
   "cell_type": "code",
   "execution_count": null,
   "metadata": {
    "collapsed": true
   },
   "outputs": [],
   "source": [
    "#%%capture\n",
    "#classifier_metrics = run_classifiers(train_data)"
   ]
  },
  {
   "cell_type": "code",
   "execution_count": null,
   "metadata": {
    "collapsed": true
   },
   "outputs": [],
   "source": [
    "#with open('classifier_metrics.pkl', 'wb') as f:\n",
    "    #pickle.dump(classifier_metrics, f)"
   ]
  },
  {
   "cell_type": "code",
   "execution_count": null,
   "metadata": {
    "collapsed": true
   },
   "outputs": [],
   "source": [
    "classification_metrics = pickle.load(open(\"classifier_metrics.pkl\", \"rb\"))"
   ]
  },
  {
   "cell_type": "code",
   "execution_count": null,
   "metadata": {
    "collapsed": true
   },
   "outputs": [],
   "source": [
    "#[clf][pred][metric][train/test]\n",
    "# Logistic Regression\n",
    "lr_dx_mse_train = np.mean(classification_metrics[0][0][0][0])\n",
    "lr_dx_mse_test = np.mean(classification_metrics[0][0][0][1])\n",
    "lr_dx_acc_train = np.mean(classification_metrics[0][0][1][0])\n",
    "lr_dx_acc_test = np.mean(classification_metrics[0][0][1][1])\n",
    "\n",
    "lr_dxsub_mse_train = np.mean(classification_metrics[0][1][0][0])\n",
    "lr_dxsub_mse_test = np.mean(classification_metrics[0][1][0][1])\n",
    "lr_dxsub_acc_train = np.mean(classification_metrics[0][1][1][0])\n",
    "lr_dxsub_acc_test = np.mean(classification_metrics[0][1][1][1])\n",
    "\n",
    "# Random Forest\n",
    "rf_dx_mse_train = np.mean(classification_metrics[1][0][0][0])\n",
    "rf_dx_mse_test = np.mean(classification_metrics[1][0][0][1])\n",
    "rf_dx_acc_train = np.mean(classification_metrics[1][0][1][0])\n",
    "rf_dx_acc_test = np.mean(classification_metrics[1][0][1][1])\n",
    "\n",
    "rf_dxsub_mse_train = np.mean(classification_metrics[1][1][0][0])\n",
    "rf_dxsub_mse_test = np.mean(classification_metrics[1][1][0][1])\n",
    "rf_dxsub_acc_train = np.mean(classification_metrics[1][1][1][0])\n",
    "rf_dxsub_acc_test = np.mean(classification_metrics[1][1][1][1])\n",
    "\n",
    "# Gradient Boosting\n",
    "gb_dx_mse_train = np.mean(classification_metrics[2][0][0][0])\n",
    "gb_dx_mse_test = np.mean(classification_metrics[2][0][0][1])\n",
    "gb_dx_acc_train = np.mean(classification_metrics[2][0][1][0])\n",
    "gb_dx_acc_test = np.mean(classification_metrics[2][0][1][1])\n",
    "\n",
    "gb_dxsub_mse_train = np.mean(classification_metrics[2][1][0][0])\n",
    "gb_dxsub_mse_test = np.mean(classification_metrics[2][1][0][1])\n",
    "gb_dxsub_acc_train = np.mean(classification_metrics[2][1][1][0])\n",
    "gb_dxsub_acc_test = np.mean(classification_metrics[2][1][1][1])"
   ]
  },
  {
   "cell_type": "code",
   "execution_count": null,
   "metadata": {
    "collapsed": true
   },
   "outputs": [],
   "source": [
    "# Make dataframes\n",
    "metrics_dx_dict = {'DX_acc_train': [lr_dx_acc_train, rf_dx_acc_train, gb_dx_acc_train],\n",
    "                   'DX_acc_test': [lr_dx_acc_test, rf_dx_acc_test, gb_dx_acc_test],\n",
    "                   'DX_mse_train': [lr_dx_mse_train, rf_dx_mse_train, gb_dx_mse_train],\n",
    "                   'DX_mse_test': [lr_dx_mse_test, rf_dx_mse_test, gb_dx_mse_test]}\n",
    "\n",
    "metrics_DX = pd.DataFrame(data=metrics_dx_dict,\n",
    "                          columns=['DX_acc_train', 'DX_acc_test', 'DX_mse_train', 'DX_mse_test'],\n",
    "                          index=['LogReg', 'RandomForest', 'GradBoost'])"
   ]
  },
  {
   "cell_type": "code",
   "execution_count": null,
   "metadata": {
    "collapsed": true
   },
   "outputs": [],
   "source": [
    "metrics_dxsub_dict = {'DXSUB_acc_train': [lr_dxsub_acc_train, rf_dxsub_acc_train, gb_dxsub_acc_train],\n",
    "                   'DXSUB_acc_test': [lr_dxsub_acc_test, rf_dxsub_acc_test, gb_dxsub_acc_test],\n",
    "                   'DXSUB_mse_train': [lr_dxsub_mse_train, rf_dxsub_mse_train, gb_dxsub_mse_train],\n",
    "                   'DXSUB_mse_test': [lr_dxsub_mse_test, rf_dxsub_mse_test, gb_dxsub_mse_test]}\n",
    "\n",
    "metrics_DXSUB = pd.DataFrame(data=metrics_dxsub_dict,\n",
    "                             columns=['DXSUB_acc_train', 'DXSUB_acc_test', 'DXSUB_mse_train', 'DXSUB_mse_test'],\n",
    "                             index=['LogReg', 'RandomForest', 'GradBoost'])"
   ]
  },
  {
   "cell_type": "code",
   "execution_count": null,
   "metadata": {
    "collapsed": true
   },
   "outputs": [],
   "source": [
    "metrics_DX.round(3)"
   ]
  },
  {
   "cell_type": "code",
   "execution_count": null,
   "metadata": {
    "collapsed": true
   },
   "outputs": [],
   "source": [
    "metrics_DXSUB.round(3)"
   ]
  },
  {
   "cell_type": "markdown",
   "metadata": {},
   "source": [
    "# Neuropsych vs TMCQ"
   ]
  },
  {
   "cell_type": "markdown",
   "metadata": {},
   "source": [
    "Now that I've evaluated models on all the data, I want to check out what accuracy and mse looks like for models run JUST on neuropsych, and JUST on TMCQ.\n",
    "\n",
    "I'll use the same exact procedure as above, just with different X matrices."
   ]
  },
  {
   "cell_type": "code",
   "execution_count": null,
   "metadata": {
    "collapsed": true
   },
   "outputs": [],
   "source": [
    "train_data = pd.read_csv('data/train_data.csv')"
   ]
  },
  {
   "cell_type": "code",
   "execution_count": null,
   "metadata": {
    "collapsed": true
   },
   "outputs": [],
   "source": [
    "X_TMCQ = train_data[['Y1_P_TMCQ_ACTIVCONT', 'Y1_P_TMCQ_ACTIVITY', 'Y1_P_TMCQ_AFFIL',\n",
    "       'Y1_P_TMCQ_ANGER', 'Y1_P_TMCQ_FEAR', 'Y1_P_TMCQ_HIP',\n",
    "       'Y1_P_TMCQ_IMPULS', 'Y1_P_TMCQ_INHIBIT', 'Y1_P_TMCQ_SAD',\n",
    "       'Y1_P_TMCQ_SHY', 'Y1_P_TMCQ_SOOTHE', 'Y1_P_TMCQ_ASSERT',\n",
    "       'Y1_P_TMCQ_ATTFOCUS', 'Y1_P_TMCQ_LIP', 'Y1_P_TMCQ_PERCEPT',\n",
    "       'Y1_P_TMCQ_DISCOMF', 'Y1_P_TMCQ_OPENNESS', 'Y1_P_TMCQ_SURGENCY',\n",
    "       'Y1_P_TMCQ_EFFCONT', 'Y1_P_TMCQ_NEGAFFECT']]"
   ]
  },
  {
   "cell_type": "code",
   "execution_count": null,
   "metadata": {
    "collapsed": true
   },
   "outputs": [],
   "source": [
    "X_TMCQ.shape"
   ]
  },
  {
   "cell_type": "code",
   "execution_count": null,
   "metadata": {
    "collapsed": true,
    "scrolled": true
   },
   "outputs": [],
   "source": [
    "X_neuro = train_data[['STOP_SSRTAVE_Y1', 'DPRIME1_Y1', 'DPRIME2_Y1', 'SSBK_NUMCOMPLETE_Y1',\n",
    "       'SSFD_NUMCOMPLETE_Y1', 'V_Y1', 'Y1_CLWRD_COND1', 'Y1_CLWRD_COND2',\n",
    "       'Y1_DIGITS_BKWD_RS', 'Y1_DIGITS_FRWD_RS', 'Y1_TRAILS_COND2',\n",
    "       'Y1_TRAILS_COND3', 'CW_RES', 'TR_RES', 'Y1_TAP_SD_TOT_CLOCK']]"
   ]
  },
  {
   "cell_type": "code",
   "execution_count": null,
   "metadata": {
    "collapsed": true
   },
   "outputs": [],
   "source": [
    "y_all = train_data[['DX', 'DXSUB']]"
   ]
  },
  {
   "cell_type": "code",
   "execution_count": null,
   "metadata": {
    "collapsed": true
   },
   "outputs": [],
   "source": [
    "# Must drop subjects where ALL data is missing, due to matrix factorixation imputation\n",
    "X_TMCQ_nonull = X_TMCQ.dropna(how='all')\n",
    "X_neuro_nonull = X_neuro.dropna(how='all')"
   ]
  },
  {
   "cell_type": "code",
   "execution_count": null,
   "metadata": {
    "collapsed": true
   },
   "outputs": [],
   "source": [
    "%%capture\n",
    "TMCQ_dx, TMCQ_dxsub = run_classifiers(X_TMCQ_nonull, y_all)"
   ]
  },
  {
   "cell_type": "code",
   "execution_count": null,
   "metadata": {
    "collapsed": true
   },
   "outputs": [],
   "source": [
    "TMCQ_dx"
   ]
  },
  {
   "cell_type": "code",
   "execution_count": null,
   "metadata": {
    "collapsed": true
   },
   "outputs": [],
   "source": [
    "TMCQ_dxsub"
   ]
  },
  {
   "cell_type": "code",
   "execution_count": null,
   "metadata": {
    "collapsed": true
   },
   "outputs": [],
   "source": [
    "\n",
    "neuro_dx, neuro_dxsub = run_classifiers(X_neuro_nonull, y_all)"
   ]
  },
  {
   "cell_type": "code",
   "execution_count": null,
   "metadata": {
    "collapsed": true
   },
   "outputs": [],
   "source": [
    "neuro_dx"
   ]
  },
  {
   "cell_type": "code",
   "execution_count": null,
   "metadata": {
    "collapsed": true
   },
   "outputs": [],
   "source": [
    "neuro_dxsub"
   ]
  },
  {
   "cell_type": "markdown",
   "metadata": {},
   "source": [
    "# Building Pipeline for CV "
   ]
  },
  {
   "cell_type": "markdown",
   "metadata": {},
   "source": [
    "I just remembered that sklearn.pipeline is a thing.\n",
    "So, I'm going to build that so cross-validation and multiple metrics are easier!"
   ]
  },
  {
   "cell_type": "markdown",
   "metadata": {},
   "source": [
    "From sklearn:\n",
    "```\n",
    "from sklearn.pipeline import make_pipeline\n",
    "clf = make_pipeline(preprocessing.StandardScaler(), svm.SVC(C=1))\n",
    "cross_val_score(clf, iris.data, iris.target, cv=cv)\n",
    "...                                                 \n",
    "array([ 0.97...,  0.93...,  0.95...])\n",
    "```"
   ]
  },
  {
   "cell_type": "code",
   "execution_count": null,
   "metadata": {
    "collapsed": true
   },
   "outputs": [],
   "source": [
    "from sklearn.pipeline import make_pipeline\n",
    "from sklearn.linear_model import LogisticRegression\n",
    "from sklearn.model_selection import cross_validate\n",
    "from fancyimpute import MICE\n",
    "from impute_transform import ImputeTransform"
   ]
  },
  {
   "cell_type": "code",
   "execution_count": null,
   "metadata": {
    "collapsed": true
   },
   "outputs": [],
   "source": [
    "train_data = pd.read_csv('data/train_data.csv')\n",
    "train_data_small = train_data.sample(n=100)\n",
    "X = train_data_small.drop(columns=['DX','DXSUB'])\n",
    "y = train_data_small['DX'].map({3:1,1:0})"
   ]
  },
  {
   "cell_type": "code",
   "execution_count": null,
   "metadata": {
    "collapsed": true,
    "scrolled": true
   },
   "outputs": [],
   "source": [
    "clf = make_pipeline(ImputeTransform(strategy=MatrixFactorization()), LogisticRegression(random_state=56))"
   ]
  },
  {
   "cell_type": "code",
   "execution_count": null,
   "metadata": {
    "collapsed": true
   },
   "outputs": [],
   "source": [
    "scoring = ['accuracy', 'roc_auc', 'neg_log_loss']"
   ]
  },
  {
   "cell_type": "code",
   "execution_count": null,
   "metadata": {
    "collapsed": true
   },
   "outputs": [],
   "source": [
    "scores = cross_validate(clf, X, y, scoring=scoring, cv=2, return_train_score=True)"
   ]
  },
  {
   "cell_type": "code",
   "execution_count": null,
   "metadata": {
    "collapsed": true
   },
   "outputs": [],
   "source": [
    "scores"
   ]
  },
  {
   "cell_type": "markdown",
   "metadata": {},
   "source": [
    "### Final Thoughts for the day\n"
   ]
  },
  {
   "cell_type": "markdown",
   "metadata": {},
   "source": [
    "My brain is pretty fried, so I'm gonna call it a night.\n",
    "\n",
    "But here's next steps for tomorrow:\n",
    "- Get this cross_validate function working for log_reg, rf, gb, and xgb\n",
    "- Get this cross_validate function working for DXSUB\n",
    " - cause of the multiclass problem and all that\n",
    "- Explore TMCQ and neuropsych more\n",
    " - The metrics were quite bad on these! And logistic regression actually performed better test-wise than RF and GB!\n",
    "- Discuss next steps with Matt\n",
    " - Clustering ideas\n",
    " - How to approach hyperparam tuning"
   ]
  },
  {
   "cell_type": "markdown",
   "metadata": {},
   "source": [
    "#### Clustering Ideas"
   ]
  },
  {
   "cell_type": "markdown",
   "metadata": {},
   "source": [
    "[Subtyping ADHD Using Tempermant Dimensions](https://jamanetwork.com/journals/jamapsychiatry/fullarticle/1885709)\n",
    "\n",
    "The above is a paper written by my boss (Dr. Karalunas) that utilized community detection analysis on the Temperment in Middle Childhood Questionnaire (TMCQ).\n",
    "They had 437 children and used the TMCQ from year 1. \n",
    "They specifically used the [Fast Greedy algorithm](https://arxiv.org/abs/cond-mat/0408187) and found 3 profiles of children, which they labeled as \"mild\", \"surgent\", and \"irritable\".\n",
    "\n",
    "I was thinking of trying to replicate this analysis on the full 901 dataset ([community detection in python](https://yoyoinwanderland.github.io/2017/08/08/Community-Detection-in-Python/)).\n",
    "Then, I was thinking of trying different clustering algorithms to see if the same profiles seem to exist.\n",
    "\n",
    "It'd basically be a study in reproducability.\n",
    "\n",
    "They used physiological and MRI data to externally validate these profiles, which I don't really have. But I might be able to glean something interesting from the neuropsych data? Maybe? IDK. Focus on \"are the profiles there\"."
   ]
  },
  {
   "cell_type": "markdown",
   "metadata": {
    "collapsed": true
   },
   "source": [
    "# Pipeline Continuing"
   ]
  },
  {
   "cell_type": "markdown",
   "metadata": {},
   "source": [
    "I want to test the following models:\n",
    "- Logistic Regression\n",
    "- Random Forest\n",
    "- Gradient Boosting\n",
    "- XGBoost\n",
    "\n",
    "With the following metrics:\n",
    "- ROC AUC\n",
    "- Accuracy\n",
    "- Log Loss\n",
    "\n",
    "On the following data:\n",
    "- DX\n",
    "- DXSUB\n",
    "- Neuropsych\n",
    "- TMCQ"
   ]
  },
  {
   "cell_type": "code",
   "execution_count": null,
   "metadata": {
    "collapsed": true
   },
   "outputs": [],
   "source": [
    "from sklearn.ensemble import RandomForestClassifier, GradientBoostingClassifier\n",
    "from collections import defaultdict\n",
    "from sklearn.metrics import make_scorer, accuracy_score, log_loss\n",
    "from sklearn.pipeline import make_pipeline\n",
    "from sklearn.model_selection import cross_validate\n",
    "from impute_transform import ImputeTransform\n",
    "from xgboost import XGBClassifier"
   ]
  },
  {
   "cell_type": "markdown",
   "metadata": {},
   "source": [
    "# Running the models for real"
   ]
  },
  {
   "cell_type": "code",
   "execution_count": null,
   "metadata": {
    "collapsed": true
   },
   "outputs": [],
   "source": [
    "train_data = pd.read_csv('data/train_data.csv')\n",
    "X = train_data.drop(columns=['DX','DXSUB'])\n",
    "y = train_data['DX'].map({3:1,1:0})"
   ]
  },
  {
   "cell_type": "code",
   "execution_count": null,
   "metadata": {
    "collapsed": true
   },
   "outputs": [],
   "source": [
    "log_reg_clf = make_pipeline(ImputeTransform(strategy=MatrixFactorization()),\n",
    "                        LogisticRegression(random_state=56))\n",
    "\n",
    "rf_clf = make_pipeline(ImputeTransform(strategy=MatrixFactorization()),\n",
    "                       RandomForestClassifier(n_jobs=-1, random_state=56))\n",
    "\n",
    "gb_clf = make_pipeline(ImputeTransform(strategy=MatrixFactorization()),\n",
    "                       GradientBoostingClassifier(random_state=56))\n",
    "\n",
    "xgb_clf = make_pipeline(ImputeTransform(strategy=MatrixFactorization()),\n",
    "                        XGBClassifier(max_depth=3, learning_rate=0.1,\n",
    "                        random_state=56))"
   ]
  },
  {
   "cell_type": "code",
   "execution_count": null,
   "metadata": {
    "collapsed": true
   },
   "outputs": [],
   "source": [
    "scoring = ['accuracy', 'roc_auc', 'neg_log_loss']"
   ]
  },
  {
   "cell_type": "code",
   "execution_count": null,
   "metadata": {
    "collapsed": true
   },
   "outputs": [],
   "source": [
    "classifier_list = [log_reg_clf, rf_clf, gb_clf, xgb_clf]\n",
    "classifier_name = ['LogReg', 'RandomForest', 'GradientBoosting', 'XGB']"
   ]
  },
  {
   "cell_type": "code",
   "execution_count": null,
   "metadata": {
    "collapsed": true
   },
   "outputs": [],
   "source": [
    "%%capture\n",
    "classifier_metrics = {}\n",
    "for clf, name in zip(classifier_list, classifier_name):\n",
    "    scores = cross_validate(clf, X, y, scoring=scoring, cv=5, return_train_score=False)\n",
    "    classifier_metrics[name] = scores"
   ]
  },
  {
   "cell_type": "code",
   "execution_count": null,
   "metadata": {
    "collapsed": true
   },
   "outputs": [],
   "source": [
    "classifier_metrics"
   ]
  },
  {
   "cell_type": "code",
   "execution_count": null,
   "metadata": {
    "collapsed": true
   },
   "outputs": [],
   "source": [
    "for classifier, dictionary in classifier_metrics.items():\n",
    "    for metric, score in classifier_metrics[classifier].items():\n",
    "        classifier_metrics[classifier][metric] = np.mean(score)"
   ]
  },
  {
   "cell_type": "code",
   "execution_count": null,
   "metadata": {
    "collapsed": true,
    "scrolled": true
   },
   "outputs": [],
   "source": [
    "name_of_metrics = ['fit_time', 'score_time', 'test_accuracy',\n",
    "                   'test_neg_log_loss', 'test_roc_auc']"
   ]
  },
  {
   "cell_type": "code",
   "execution_count": null,
   "metadata": {
    "collapsed": true
   },
   "outputs": [],
   "source": [
    "metrics_df = pd.DataFrame(data=None,\n",
    "                          index=classifier_name,\n",
    "                          columns=name_of_metrics)"
   ]
  },
  {
   "cell_type": "code",
   "execution_count": null,
   "metadata": {
    "collapsed": true
   },
   "outputs": [],
   "source": [
    "for clf in classifier_name:\n",
    "    for metric in name_of_metrics:\n",
    "        metrics_df[metric].loc[clf] = classifier_metrics[clf][metric]"
   ]
  },
  {
   "cell_type": "code",
   "execution_count": null,
   "metadata": {
    "collapsed": true
   },
   "outputs": [],
   "source": [
    "metrics_df"
   ]
  },
  {
   "cell_type": "code",
   "execution_count": null,
   "metadata": {
    "collapsed": true
   },
   "outputs": [],
   "source": [
    "# testing on holdout to see if its somewhat similar or\n",
    "# super off like it was for tmcq...\n",
    "holdout_data = pd.read_csv('data/holdout_data.csv')\n",
    "X_test = holdout_data.drop(columns=['DX','DXSUB'])\n",
    "y_test = holdout_data['DX'].map({3:1,1:0})\n",
    "# yep, it worked there..."
   ]
  },
  {
   "cell_type": "markdown",
   "metadata": {},
   "source": [
    "XGB and LogReg have the best AUC scores, and log_loss scores. Even though GB had the highest test accuracy, I think XGB and LogReg are the models to explore."
   ]
  },
  {
   "cell_type": "markdown",
   "metadata": {},
   "source": [
    "### TMCQ"
   ]
  },
  {
   "cell_type": "markdown",
   "metadata": {},
   "source": [
    "I also want to run this on Neuropsych and TMCQ data. It seemed like last time, RF and GB overfit - but XGBoost has regularization so this might mediate that problem."
   ]
  },
  {
   "cell_type": "code",
   "execution_count": null,
   "metadata": {
    "collapsed": true
   },
   "outputs": [],
   "source": [
    "X_TMCQ = train_data[['Y1_P_TMCQ_ACTIVCONT', 'Y1_P_TMCQ_ACTIVITY', 'Y1_P_TMCQ_AFFIL',\n",
    "       'Y1_P_TMCQ_ANGER', 'Y1_P_TMCQ_FEAR', 'Y1_P_TMCQ_HIP',\n",
    "       'Y1_P_TMCQ_IMPULS', 'Y1_P_TMCQ_INHIBIT', 'Y1_P_TMCQ_SAD',\n",
    "       'Y1_P_TMCQ_SHY', 'Y1_P_TMCQ_SOOTHE', 'Y1_P_TMCQ_ASSERT',\n",
    "       'Y1_P_TMCQ_ATTFOCUS', 'Y1_P_TMCQ_LIP', 'Y1_P_TMCQ_PERCEPT',\n",
    "       'Y1_P_TMCQ_DISCOMF', 'Y1_P_TMCQ_OPENNESS', 'Y1_P_TMCQ_SURGENCY',\n",
    "       'Y1_P_TMCQ_EFFCONT', 'Y1_P_TMCQ_NEGAFFECT']]"
   ]
  },
  {
   "cell_type": "code",
   "execution_count": null,
   "metadata": {
    "collapsed": true
   },
   "outputs": [],
   "source": [
    "X_TMCQ_nonull = X_TMCQ[X_TMCQ.isnull().sum(axis=1) == 0]\n",
    "y_TMCQ_nonull = y[X_TMCQ.isnull().sum(axis=1) == 0]"
   ]
  },
  {
   "cell_type": "code",
   "execution_count": null,
   "metadata": {
    "collapsed": true
   },
   "outputs": [],
   "source": [
    "# Don't need imputation for TMCQ because I removed NaNs\n",
    "log_reg_clf = LogisticRegression(random_state=56)\n",
    "\n",
    "rf_clf = RandomForestClassifier(n_jobs=-1, random_state=56)\n",
    "\n",
    "gb_clf = GradientBoostingClassifier(random_state=56)\n",
    "\n",
    "xgb_clf = XGBClassifier(max_depth=3, learning_rate=0.1,\n",
    "                        random_state=56)"
   ]
  },
  {
   "cell_type": "code",
   "execution_count": null,
   "metadata": {
    "collapsed": true
   },
   "outputs": [],
   "source": [
    "classifier_list = [log_reg_clf, rf_clf, gb_clf, xgb_clf]\n",
    "classifier_name = ['LogReg', 'RandomForest', 'GradientBoosting', 'XGB']"
   ]
  },
  {
   "cell_type": "code",
   "execution_count": null,
   "metadata": {
    "collapsed": true
   },
   "outputs": [],
   "source": [
    "%%capture\n",
    "classifier_metrics_TMCQ = {}\n",
    "for clf, name in zip(classifier_list, classifier_name):\n",
    "    scores = cross_validate(clf, X_TMCQ_nonull, y_TMCQ_nonull, scoring=scoring, cv=5, return_train_score=True)\n",
    "    classifier_metrics_TMCQ[name] = scores"
   ]
  },
  {
   "cell_type": "code",
   "execution_count": null,
   "metadata": {
    "collapsed": true
   },
   "outputs": [],
   "source": [
    "for classifier, dictionary in classifier_metrics_TMCQ.items():\n",
    "    for metric, score in classifier_metrics_TMCQ[classifier].items():\n",
    "        classifier_metrics_TMCQ[classifier][metric] = np.mean(score)"
   ]
  },
  {
   "cell_type": "code",
   "execution_count": null,
   "metadata": {
    "collapsed": true,
    "scrolled": true
   },
   "outputs": [],
   "source": [
    "name_of_metrics = ['fit_time', 'score_time', 'test_accuracy',\n",
    "                   'test_neg_log_loss', 'test_roc_auc']"
   ]
  },
  {
   "cell_type": "code",
   "execution_count": null,
   "metadata": {
    "collapsed": true
   },
   "outputs": [],
   "source": [
    "metrics_df_TMCQ = pd.DataFrame(data=None,\n",
    "                          index=classifier_name,\n",
    "                          columns=name_of_metrics)"
   ]
  },
  {
   "cell_type": "code",
   "execution_count": null,
   "metadata": {
    "collapsed": true
   },
   "outputs": [],
   "source": [
    "for clf in classifier_name:\n",
    "    for metric in name_of_metrics:\n",
    "        metrics_df_TMCQ[metric].loc[clf] = classifier_metrics_TMCQ[clf][metric]"
   ]
  },
  {
   "cell_type": "code",
   "execution_count": null,
   "metadata": {
    "collapsed": true,
    "scrolled": true
   },
   "outputs": [],
   "source": [
    "metrics_df_TMCQ"
   ]
  },
  {
   "cell_type": "code",
   "execution_count": null,
   "metadata": {
    "collapsed": true
   },
   "outputs": [],
   "source": [
    "# testing on holdout to see if its somewhat similar\n",
    "X_test_TMCQ = holdout_data[['Y1_P_TMCQ_ACTIVCONT', 'Y1_P_TMCQ_ACTIVITY', 'Y1_P_TMCQ_AFFIL',\n",
    "       'Y1_P_TMCQ_ANGER', 'Y1_P_TMCQ_FEAR', 'Y1_P_TMCQ_HIP',\n",
    "       'Y1_P_TMCQ_IMPULS', 'Y1_P_TMCQ_INHIBIT', 'Y1_P_TMCQ_SAD',\n",
    "       'Y1_P_TMCQ_SHY', 'Y1_P_TMCQ_SOOTHE', 'Y1_P_TMCQ_ASSERT',\n",
    "       'Y1_P_TMCQ_ATTFOCUS', 'Y1_P_TMCQ_LIP', 'Y1_P_TMCQ_PERCEPT',\n",
    "       'Y1_P_TMCQ_DISCOMF', 'Y1_P_TMCQ_OPENNESS', 'Y1_P_TMCQ_SURGENCY',\n",
    "       'Y1_P_TMCQ_EFFCONT', 'Y1_P_TMCQ_NEGAFFECT']]\n",
    "y_test_TMCQ = holdout_data['DX'].map({3:1,1:0})\n",
    "\n",
    "X_test_TMCQ_nonull = X_test_TMCQ[X_test_TMCQ.isnull().sum(axis=1) == 0]\n",
    "y_test_TMCQ_nonull = y_test[X_test_TMCQ.isnull().sum(axis=1) == 0]\n",
    "# also get similar results! yay!"
   ]
  },
  {
   "cell_type": "markdown",
   "metadata": {
    "collapsed": true
   },
   "source": [
    "### Neuropsych"
   ]
  },
  {
   "cell_type": "code",
   "execution_count": null,
   "metadata": {
    "collapsed": true
   },
   "outputs": [],
   "source": [
    "X_neuro = train_data[['STOP_SSRTAVE_Y1', 'DPRIME1_Y1', 'DPRIME2_Y1', 'SSBK_NUMCOMPLETE_Y1',\n",
    "       'SSFD_NUMCOMPLETE_Y1', 'V_Y1', 'Y1_CLWRD_COND1', 'Y1_CLWRD_COND2',\n",
    "       'Y1_DIGITS_BKWD_RS', 'Y1_DIGITS_FRWD_RS', 'Y1_TRAILS_COND2',\n",
    "       'Y1_TRAILS_COND3', 'CW_RES', 'TR_RES', 'Y1_TAP_SD_TOT_CLOCK']]"
   ]
  },
  {
   "cell_type": "code",
   "execution_count": null,
   "metadata": {
    "collapsed": true
   },
   "outputs": [],
   "source": [
    "X_neuro_nonull = X_neuro[X_neuro.isnull().sum(axis=1) != X_neuro.shape[1]]\n",
    "y_neuro_nonull = y[X_neuro.isnull().sum(axis=1) != X_neuro.shape[1]]"
   ]
  },
  {
   "cell_type": "code",
   "execution_count": null,
   "metadata": {
    "collapsed": true
   },
   "outputs": [],
   "source": [
    "log_reg_clf = make_pipeline(ImputeTransform(strategy=MatrixFactorization()),\n",
    "                        LogisticRegression(random_state=56))\n",
    "\n",
    "rf_clf = make_pipeline(ImputeTransform(strategy=MatrixFactorization()),\n",
    "                       RandomForestClassifier(n_jobs=-1, random_state=56))\n",
    "\n",
    "gb_clf = make_pipeline(ImputeTransform(strategy=MatrixFactorization()),\n",
    "                       GradientBoostingClassifier(random_state=56))\n",
    "\n",
    "xgb_clf = make_pipeline(ImputeTransform(strategy=MatrixFactorization()),\n",
    "                        XGBClassifier(max_depth=3, learning_rate=0.1,\n",
    "                        random_state=56))"
   ]
  },
  {
   "cell_type": "code",
   "execution_count": null,
   "metadata": {
    "collapsed": true
   },
   "outputs": [],
   "source": [
    "classifier_list = [log_reg_clf, rf_clf, gb_clf, xgb_clf]\n",
    "classifier_name = ['LogReg', 'RandomForest', 'GradientBoosting', 'XGB']"
   ]
  },
  {
   "cell_type": "code",
   "execution_count": null,
   "metadata": {
    "collapsed": true
   },
   "outputs": [],
   "source": [
    "%%capture\n",
    "classifier_metrics_neuro = {}\n",
    "for clf, name in zip(classifier_list, classifier_name):\n",
    "    scores = cross_validate(clf,\n",
    "                            X_neuro_nonull, y_neuro_nonull,\n",
    "                            scoring=scoring, cv=5,\n",
    "                            return_train_score=True)\n",
    "    classifier_metrics_neuro[name] = scores"
   ]
  },
  {
   "cell_type": "code",
   "execution_count": null,
   "metadata": {
    "collapsed": true
   },
   "outputs": [],
   "source": [
    "for classifier, dictionary in classifier_metrics_neuro.items():\n",
    "    for metric, score in classifier_metrics_neuro[classifier].items():\n",
    "        classifier_metrics_neuro[classifier][metric] = np.mean(score)"
   ]
  },
  {
   "cell_type": "code",
   "execution_count": null,
   "metadata": {
    "collapsed": true,
    "scrolled": true
   },
   "outputs": [],
   "source": [
    "name_of_metrics = ['fit_time', 'score_time', 'test_accuracy',\n",
    "                   'test_neg_log_loss', 'test_roc_auc']"
   ]
  },
  {
   "cell_type": "code",
   "execution_count": null,
   "metadata": {
    "collapsed": true
   },
   "outputs": [],
   "source": [
    "metrics_df_neuro = pd.DataFrame(data=None,\n",
    "                          index=classifier_name,\n",
    "                          columns=name_of_metrics)"
   ]
  },
  {
   "cell_type": "code",
   "execution_count": null,
   "metadata": {
    "collapsed": true
   },
   "outputs": [],
   "source": [
    "for clf in classifier_name:\n",
    "    for metric in name_of_metrics:\n",
    "        metrics_df_neuro[metric].loc[clf] = classifier_metrics_neuro[clf][metric]"
   ]
  },
  {
   "cell_type": "code",
   "execution_count": null,
   "metadata": {
    "collapsed": true,
    "scrolled": false
   },
   "outputs": [],
   "source": [
    "metrics_df_neuro"
   ]
  },
  {
   "cell_type": "code",
   "execution_count": null,
   "metadata": {
    "collapsed": true
   },
   "outputs": [],
   "source": [
    "# testing on holdout to see if its somewhat similar\n",
    "X_test_neuro = holdout_data[['STOP_SSRTAVE_Y1', 'DPRIME1_Y1', 'DPRIME2_Y1', 'SSBK_NUMCOMPLETE_Y1',\n",
    "       'SSFD_NUMCOMPLETE_Y1', 'V_Y1', 'Y1_CLWRD_COND1', 'Y1_CLWRD_COND2',\n",
    "       'Y1_DIGITS_BKWD_RS', 'Y1_DIGITS_FRWD_RS', 'Y1_TRAILS_COND2',\n",
    "       'Y1_TRAILS_COND3', 'CW_RES', 'TR_RES', 'Y1_TAP_SD_TOT_CLOCK']]\n",
    "y_test_neuro = holdout_data['DX'].map({3:1,1:0})\n",
    "\n",
    "X_test_neuro_nonull = X_test_neuro[X_test_neuro.isnull().sum(axis=1) != X_test_neuro.shape[1]]\n",
    "y_test_neuro_nonull = y_test_neuro[X_test_neuro.isnull().sum(axis=1) != X_test_neuro.shape[1]]\n",
    "# yep, looks good"
   ]
  },
  {
   "cell_type": "markdown",
   "metadata": {},
   "source": [
    "# Conclusions"
   ]
  },
  {
   "cell_type": "markdown",
   "metadata": {},
   "source": [
    "Log Reg and XGB are the most robust and accurate models. RF and GB can be prone to overfitting, but XGB fixes this problem with regularization.\n",
    "\n",
    "So, I will focus on parameter optimization of LogisticRegression and XGB."
   ]
  },
  {
   "cell_type": "markdown",
   "metadata": {},
   "source": [
    "# Parameter Tuning for XGBoost"
   ]
  },
  {
   "cell_type": "markdown",
   "metadata": {},
   "source": [
    "Following the guidelines set out here: [Complete Guide to Parameter Tuning in XGBoost](https://www.analyticsvidhya.com/blog/2016/03/complete-guide-parameter-tuning-xgboost-with-codes-python/)"
   ]
  },
  {
   "cell_type": "code",
   "execution_count": 10,
   "metadata": {
    "collapsed": true
   },
   "outputs": [],
   "source": [
    "import pandas as pd\n",
    "import numpy as np\n",
    "import matplotlib.pyplot as plt\n",
    "%matplotlib inline\n",
    "plt.style.use('ggplot')\n",
    "from model_metrics import *\n",
    "from fancyimpute import *\n",
    "from sklearn.metrics import roc_curve, auc\n",
    "from xgboost import XGBClassifier\n",
    "from sklearn.model_selection import GridSearchCV\n",
    "from impute_transform import ImputeTransform\n",
    "from sklearn.pipeline import Pipeline"
   ]
  },
  {
   "cell_type": "code",
   "execution_count": 2,
   "metadata": {
    "collapsed": true
   },
   "outputs": [],
   "source": [
    "train_data = pd.read_csv('data/train_data.csv')\n",
    "train_data_small = train_data.sample(n=400)\n",
    "X = train_data_small.drop(columns=['DX','DXSUB'])\n",
    "y = train_data_small['DX'].map({3:1,1:0})"
   ]
  },
  {
   "cell_type": "code",
   "execution_count": 20,
   "metadata": {
    "collapsed": true
   },
   "outputs": [],
   "source": [
    "impute = ImputeTransform(strategy=MICE())\n",
    "clf = XGBClassifier(\n",
    "                  learning_rate = 0.1,\n",
    "                  n_estimators = 1000,\n",
    "                  max_depth = 5,\n",
    "                  min_child_weight = 1,\n",
    "                  gamma = 0,\n",
    "                  subsample = 0.8,\n",
    "                  colsample_bytree = 0.8,\n",
    "                  scale_pos_weight=1,\n",
    "                  objective = 'binary:logistic',\n",
    "                  n_jobs = -1,\n",
    "                  random_state=56)"
   ]
  },
  {
   "cell_type": "code",
   "execution_count": 21,
   "metadata": {
    "collapsed": true
   },
   "outputs": [],
   "source": [
    "steps = [('impute_transform', impute),\n",
    "         ('xgboost', clf)]\n",
    "\n",
    "pipeline = Pipeline(steps)"
   ]
  },
  {
   "cell_type": "markdown",
   "metadata": {},
   "source": [
    "## Step 1: Fix learning rate and number of estimators for tuning tree-based parameters"
   ]
  },
  {
   "cell_type": "code",
   "execution_count": 22,
   "metadata": {
    "collapsed": true
   },
   "outputs": [],
   "source": [
    "param_test1 = {'xgboost__n_estimators': range(20,101,10)}\n",
    "\n",
    "gsearch1 = GridSearchCV(pipeline,\n",
    "                        param_grid=param_test1,\n",
    "                        scoring='roc_auc',\n",
    "                        iid=False, cv=3)"
   ]
  },
  {
   "cell_type": "code",
   "execution_count": 23,
   "metadata": {
    "collapsed": true,
    "scrolled": false
   },
   "outputs": [],
   "source": [
    "%%capture\n",
    "gsearch1.fit(X, y)"
   ]
  },
  {
   "cell_type": "code",
   "execution_count": 38,
   "metadata": {},
   "outputs": [
    {
     "name": "stdout",
     "output_type": "stream",
     "text": [
      "{'xgboost__n_estimators': 70} 0.974950783526\n"
     ]
    }
   ],
   "source": [
    "print(gsearch1.best_params_, gsearch1.best_score_)\n",
    "best_n_estimators = gsearch1.best_params_['xgboost__n_estimators']\n",
    "_ = pipeline.set_params(xgboost__n_estimators=best_n_estimators)"
   ]
  },
  {
   "cell_type": "markdown",
   "metadata": {},
   "source": [
    "## Step 2: Tune max_depth and min_child_weight"
   ]
  },
  {
   "cell_type": "code",
   "execution_count": 39,
   "metadata": {
    "collapsed": true
   },
   "outputs": [],
   "source": [
    "param_test2 = {'xgboost__max_depth': range(3,10,2),\n",
    "               'xgboost__min_child_weight': range(1,6,2)}\n",
    "\n",
    "gsearch2 = GridSearchCV(pipeline,\n",
    "                        param_grid=param_test2,\n",
    "                        scoring='roc_auc',\n",
    "                        iid=False, cv=3)"
   ]
  },
  {
   "cell_type": "code",
   "execution_count": 40,
   "metadata": {
    "collapsed": true
   },
   "outputs": [],
   "source": [
    "%%capture\n",
    "gsearch2.fit(X, y)"
   ]
  },
  {
   "cell_type": "code",
   "execution_count": 41,
   "metadata": {},
   "outputs": [
    {
     "name": "stdout",
     "output_type": "stream",
     "text": [
      "{'xgboost__max_depth': 3, 'xgboost__min_child_weight': 1} 0.97619655091\n"
     ]
    }
   ],
   "source": [
    "print(gsearch2.best_params_, gsearch2.best_score_)"
   ]
  },
  {
   "cell_type": "markdown",
   "metadata": {},
   "source": [
    "### Step 2b: Find optimum values"
   ]
  },
  {
   "cell_type": "code",
   "execution_count": 45,
   "metadata": {
    "collapsed": true
   },
   "outputs": [],
   "source": [
    "param_test2a = {'xgboost__max_depth': [1,2,3,4],\n",
    "                'xgboost__min_child_weight': [1,2,3]}\n",
    "gsearch2a = GridSearchCV(pipeline,\n",
    "                         param_grid=param_test2a,\n",
    "                         scoring='roc_auc',\n",
    "                         iid=False, cv=3)"
   ]
  },
  {
   "cell_type": "code",
   "execution_count": 46,
   "metadata": {
    "collapsed": true
   },
   "outputs": [],
   "source": [
    "%%capture\n",
    "gsearch2a.fit(X, y)"
   ]
  },
  {
   "cell_type": "code",
   "execution_count": 47,
   "metadata": {
    "scrolled": true
   },
   "outputs": [
    {
     "name": "stdout",
     "output_type": "stream",
     "text": [
      "{'xgboost__max_depth': 1, 'xgboost__min_child_weight': 2} 0.975966611544\n"
     ]
    }
   ],
   "source": [
    "print(gsearch2a.best_params_, gsearch2a.best_score_)"
   ]
  },
  {
   "cell_type": "code",
   "execution_count": 49,
   "metadata": {
    "collapsed": true
   },
   "outputs": [],
   "source": [
    "# Set the new parameters\n",
    "best_max_depth = gsearch2a.best_params_['xgboost__max_depth']\n",
    "best_child_weight = gsearch2a.best_params_['xgboost__min_child_weight']\n",
    "_ = pipeline.set_params(xgboost__max_depth=best_max_depth,\n",
    "                        xgboost__min_child_weight=best_child_weight)"
   ]
  },
  {
   "cell_type": "markdown",
   "metadata": {},
   "source": [
    "## Step 3: Tune gamma"
   ]
  },
  {
   "cell_type": "code",
   "execution_count": 50,
   "metadata": {
    "collapsed": true
   },
   "outputs": [],
   "source": [
    "param_test3 = {'xgboost__gamma': [i/10.0 for i in range(0,5)]}\n",
    "gsearch3 = GridSearchCV(pipeline,\n",
    "                        param_grid=param_test3,\n",
    "                        scoring='roc_auc',\n",
    "                        iid=False, cv=3)"
   ]
  },
  {
   "cell_type": "code",
   "execution_count": 51,
   "metadata": {
    "collapsed": true
   },
   "outputs": [],
   "source": [
    "%%capture\n",
    "gsearch3.fit(X, y)"
   ]
  },
  {
   "cell_type": "code",
   "execution_count": 52,
   "metadata": {},
   "outputs": [
    {
     "name": "stdout",
     "output_type": "stream",
     "text": [
      "{'xgboost__gamma': 0.3} 0.977002913615\n"
     ]
    }
   ],
   "source": [
    "print(gsearch3.best_params_, gsearch3.best_score_)"
   ]
  },
  {
   "cell_type": "code",
   "execution_count": 54,
   "metadata": {
    "collapsed": true
   },
   "outputs": [],
   "source": [
    "# Set the new parameters\n",
    "best_gamma = gsearch3.best_params_['xgboost__gamma']\n",
    "_ = pipeline.set_params(xgboost__gamma=best_max_depth)"
   ]
  },
  {
   "cell_type": "markdown",
   "metadata": {},
   "source": [
    "### Step 3b: Re-calibrate n_estimators for updated parameters"
   ]
  },
  {
   "cell_type": "code",
   "execution_count": 55,
   "metadata": {
    "collapsed": true
   },
   "outputs": [],
   "source": [
    "param_test3b = {'xgboost__n_estimators': range(20,101,10)}\n",
    "\n",
    "gsearch3b = GridSearchCV(pipeline,\n",
    "                         param_grid=param_test3b,\n",
    "                         scoring='roc_auc',\n",
    "                         iid=False, cv=3)"
   ]
  },
  {
   "cell_type": "code",
   "execution_count": 56,
   "metadata": {
    "collapsed": true
   },
   "outputs": [],
   "source": [
    "%%capture\n",
    "gsearch3b.fit(X, y)"
   ]
  },
  {
   "cell_type": "code",
   "execution_count": 57,
   "metadata": {},
   "outputs": [
    {
     "name": "stdout",
     "output_type": "stream",
     "text": [
      "{'xgboost__n_estimators': 90} 0.97613512875\n"
     ]
    }
   ],
   "source": [
    "print(gsearch3b.best_params_, gsearch3b.best_score_)"
   ]
  },
  {
   "cell_type": "code",
   "execution_count": 58,
   "metadata": {
    "collapsed": true
   },
   "outputs": [],
   "source": [
    "best_n_estimators = gsearch3b.best_params_['xgboost__n_estimators']\n",
    "_ = pipeline.set_params(xgboost__n_estimators=best_n_estimators)"
   ]
  },
  {
   "cell_type": "markdown",
   "metadata": {},
   "source": [
    "## Step 4: Tune subsample and colsample_bytree"
   ]
  },
  {
   "cell_type": "code",
   "execution_count": null,
   "metadata": {
    "collapsed": true
   },
   "outputs": [],
   "source": [
    "# probably skippable"
   ]
  },
  {
   "cell_type": "markdown",
   "metadata": {},
   "source": [
    "## Step 5: Tuning Regularization Parameters"
   ]
  },
  {
   "cell_type": "code",
   "execution_count": null,
   "metadata": {
    "collapsed": true
   },
   "outputs": [],
   "source": [
    "# probably skippable"
   ]
  },
  {
   "cell_type": "markdown",
   "metadata": {},
   "source": [
    "## Step 6: Reducing Learning Rate, Add Trees"
   ]
  },
  {
   "cell_type": "code",
   "execution_count": 59,
   "metadata": {
    "collapsed": true
   },
   "outputs": [],
   "source": [
    "_ = pipeline.set_params(xgboost__learning_rate=0.01)"
   ]
  },
  {
   "cell_type": "code",
   "execution_count": 61,
   "metadata": {
    "collapsed": true
   },
   "outputs": [],
   "source": [
    "param_test6 = {'xgboost__n_estimators': range(60,200,10)}\n",
    "\n",
    "gsearch6 = GridSearchCV(pipeline,\n",
    "                        param_grid=param_test6,\n",
    "                        scoring='roc_auc',\n",
    "                        iid=False, cv=3)"
   ]
  },
  {
   "cell_type": "code",
   "execution_count": 62,
   "metadata": {
    "collapsed": true
   },
   "outputs": [],
   "source": [
    "%%capture\n",
    "gsearch6.fit(X, y)"
   ]
  },
  {
   "cell_type": "code",
   "execution_count": 63,
   "metadata": {},
   "outputs": [
    {
     "name": "stdout",
     "output_type": "stream",
     "text": [
      "{'xgboost__n_estimators': 190} 0.976920229939\n"
     ]
    }
   ],
   "source": [
    "print(gsearch6.best_params_, gsearch6.best_score_)"
   ]
  },
  {
   "cell_type": "code",
   "execution_count": 71,
   "metadata": {
    "collapsed": true
   },
   "outputs": [],
   "source": [
    "best_n_estimators = gsearch6.best_params_['xgboost__n_estimators']\n",
    "_ = pipeline.set_params(xgboost__n_estimators=best_n_estimators)"
   ]
  },
  {
   "cell_type": "markdown",
   "metadata": {},
   "source": [
    "## Step 7: Fit full model, examine feature importances"
   ]
  },
  {
   "cell_type": "code",
   "execution_count": 72,
   "metadata": {
    "collapsed": true
   },
   "outputs": [
    {
     "name": "stdout",
     "output_type": "stream",
     "text": [
      "[MICE] Completing matrix with shape (400, 35)\n",
      "[MICE] Starting imputation round 1/110, elapsed time 0.001\n",
      "[MICE] Starting imputation round 2/110, elapsed time 0.011\n",
      "[MICE] Starting imputation round 3/110, elapsed time 0.021\n",
      "[MICE] Starting imputation round 4/110, elapsed time 0.032\n",
      "[MICE] Starting imputation round 5/110, elapsed time 0.042\n",
      "[MICE] Starting imputation round 6/110, elapsed time 0.052\n",
      "[MICE] Starting imputation round 7/110, elapsed time 0.063\n",
      "[MICE] Starting imputation round 8/110, elapsed time 0.073\n",
      "[MICE] Starting imputation round 9/110, elapsed time 0.083\n",
      "[MICE] Starting imputation round 10/110, elapsed time 0.093\n",
      "[MICE] Starting imputation round 11/110, elapsed time 0.105\n",
      "[MICE] Starting imputation round 12/110, elapsed time 0.115\n",
      "[MICE] Starting imputation round 13/110, elapsed time 0.126\n",
      "[MICE] Starting imputation round 14/110, elapsed time 0.136\n",
      "[MICE] Starting imputation round 15/110, elapsed time 0.146\n",
      "[MICE] Starting imputation round 16/110, elapsed time 0.157\n",
      "[MICE] Starting imputation round 17/110, elapsed time 0.166\n",
      "[MICE] Starting imputation round 18/110, elapsed time 0.175\n",
      "[MICE] Starting imputation round 19/110, elapsed time 0.183\n",
      "[MICE] Starting imputation round 20/110, elapsed time 0.191\n",
      "[MICE] Starting imputation round 21/110, elapsed time 0.199\n",
      "[MICE] Starting imputation round 22/110, elapsed time 0.211\n",
      "[MICE] Starting imputation round 23/110, elapsed time 0.223\n",
      "[MICE] Starting imputation round 24/110, elapsed time 0.235\n",
      "[MICE] Starting imputation round 25/110, elapsed time 0.247\n",
      "[MICE] Starting imputation round 26/110, elapsed time 0.260\n",
      "[MICE] Starting imputation round 27/110, elapsed time 0.268\n",
      "[MICE] Starting imputation round 28/110, elapsed time 0.277\n",
      "[MICE] Starting imputation round 29/110, elapsed time 0.285\n",
      "[MICE] Starting imputation round 30/110, elapsed time 0.293\n",
      "[MICE] Starting imputation round 31/110, elapsed time 0.302\n",
      "[MICE] Starting imputation round 32/110, elapsed time 0.310\n",
      "[MICE] Starting imputation round 33/110, elapsed time 0.319\n",
      "[MICE] Starting imputation round 34/110, elapsed time 0.327\n",
      "[MICE] Starting imputation round 35/110, elapsed time 0.336\n",
      "[MICE] Starting imputation round 36/110, elapsed time 0.344\n",
      "[MICE] Starting imputation round 37/110, elapsed time 0.352\n",
      "[MICE] Starting imputation round 38/110, elapsed time 0.360\n",
      "[MICE] Starting imputation round 39/110, elapsed time 0.368\n",
      "[MICE] Starting imputation round 40/110, elapsed time 0.376\n",
      "[MICE] Starting imputation round 41/110, elapsed time 0.384\n",
      "[MICE] Starting imputation round 42/110, elapsed time 0.392\n",
      "[MICE] Starting imputation round 43/110, elapsed time 0.400\n",
      "[MICE] Starting imputation round 44/110, elapsed time 0.409\n",
      "[MICE] Starting imputation round 45/110, elapsed time 0.420\n",
      "[MICE] Starting imputation round 46/110, elapsed time 0.432\n",
      "[MICE] Starting imputation round 47/110, elapsed time 0.444\n",
      "[MICE] Starting imputation round 48/110, elapsed time 0.456\n",
      "[MICE] Starting imputation round 49/110, elapsed time 0.467\n",
      "[MICE] Starting imputation round 50/110, elapsed time 0.475\n",
      "[MICE] Starting imputation round 51/110, elapsed time 0.484\n",
      "[MICE] Starting imputation round 52/110, elapsed time 0.494\n",
      "[MICE] Starting imputation round 53/110, elapsed time 0.504\n",
      "[MICE] Starting imputation round 54/110, elapsed time 0.513\n",
      "[MICE] Starting imputation round 55/110, elapsed time 0.522\n",
      "[MICE] Starting imputation round 56/110, elapsed time 0.530\n",
      "[MICE] Starting imputation round 57/110, elapsed time 0.538\n",
      "[MICE] Starting imputation round 58/110, elapsed time 0.546\n",
      "[MICE] Starting imputation round 59/110, elapsed time 0.554\n",
      "[MICE] Starting imputation round 60/110, elapsed time 0.563\n",
      "[MICE] Starting imputation round 61/110, elapsed time 0.571\n",
      "[MICE] Starting imputation round 62/110, elapsed time 0.579\n",
      "[MICE] Starting imputation round 63/110, elapsed time 0.587\n",
      "[MICE] Starting imputation round 64/110, elapsed time 0.595\n",
      "[MICE] Starting imputation round 65/110, elapsed time 0.603\n",
      "[MICE] Starting imputation round 66/110, elapsed time 0.612\n",
      "[MICE] Starting imputation round 67/110, elapsed time 0.620\n",
      "[MICE] Starting imputation round 68/110, elapsed time 0.632\n",
      "[MICE] Starting imputation round 69/110, elapsed time 0.644\n",
      "[MICE] Starting imputation round 70/110, elapsed time 0.656\n",
      "[MICE] Starting imputation round 71/110, elapsed time 0.668\n",
      "[MICE] Starting imputation round 72/110, elapsed time 0.678\n",
      "[MICE] Starting imputation round 73/110, elapsed time 0.687\n",
      "[MICE] Starting imputation round 74/110, elapsed time 0.695\n",
      "[MICE] Starting imputation round 75/110, elapsed time 0.704\n",
      "[MICE] Starting imputation round 76/110, elapsed time 0.712\n",
      "[MICE] Starting imputation round 77/110, elapsed time 0.720\n",
      "[MICE] Starting imputation round 78/110, elapsed time 0.728\n",
      "[MICE] Starting imputation round 79/110, elapsed time 0.736\n",
      "[MICE] Starting imputation round 80/110, elapsed time 0.744\n",
      "[MICE] Starting imputation round 81/110, elapsed time 0.753\n",
      "[MICE] Starting imputation round 82/110, elapsed time 0.761\n",
      "[MICE] Starting imputation round 83/110, elapsed time 0.769\n",
      "[MICE] Starting imputation round 84/110, elapsed time 0.777\n",
      "[MICE] Starting imputation round 85/110, elapsed time 0.785\n",
      "[MICE] Starting imputation round 86/110, elapsed time 0.793\n",
      "[MICE] Starting imputation round 87/110, elapsed time 0.802\n",
      "[MICE] Starting imputation round 88/110, elapsed time 0.810\n",
      "[MICE] Starting imputation round 89/110, elapsed time 0.818\n",
      "[MICE] Starting imputation round 90/110, elapsed time 0.829\n",
      "[MICE] Starting imputation round 91/110, elapsed time 0.841\n",
      "[MICE] Starting imputation round 92/110, elapsed time 0.854\n",
      "[MICE] Starting imputation round 93/110, elapsed time 0.866\n",
      "[MICE] Starting imputation round 94/110, elapsed time 0.877\n",
      "[MICE] Starting imputation round 95/110, elapsed time 0.886\n",
      "[MICE] Starting imputation round 96/110, elapsed time 0.894\n",
      "[MICE] Starting imputation round 97/110, elapsed time 0.903\n",
      "[MICE] Starting imputation round 98/110, elapsed time 0.911\n",
      "[MICE] Starting imputation round 99/110, elapsed time 0.919\n",
      "[MICE] Starting imputation round 100/110, elapsed time 0.927\n",
      "[MICE] Starting imputation round 101/110, elapsed time 0.936\n",
      "[MICE] Starting imputation round 102/110, elapsed time 0.944\n",
      "[MICE] Starting imputation round 103/110, elapsed time 0.952\n",
      "[MICE] Starting imputation round 104/110, elapsed time 0.960\n",
      "[MICE] Starting imputation round 105/110, elapsed time 0.968\n",
      "[MICE] Starting imputation round 106/110, elapsed time 0.976\n",
      "[MICE] Starting imputation round 107/110, elapsed time 0.984\n",
      "[MICE] Starting imputation round 108/110, elapsed time 0.993\n",
      "[MICE] Starting imputation round 109/110, elapsed time 1.001\n",
      "[MICE] Starting imputation round 110/110, elapsed time 1.009\n"
     ]
    },
    {
     "data": {
      "text/plain": [
       "Pipeline(memory=None,\n",
       "     steps=[('impute_transform', <impute_transform.ImputeTransform object at 0x7f42ec34f7f0>), ('xgboost', XGBClassifier(base_score=0.5, booster='gbtree', colsample_bylevel=1,\n",
       "       colsample_bytree=0.8, gamma=1, learning_rate=0.01, max_delta_step=0,\n",
       "       max_depth=1, min_child_weight=2, missing=None, n_estimators=190,\n",
       "       n_jobs=-1, nthread=None, objective='binary:logistic',\n",
       "       random_state=56, reg_alpha=0, reg_lambda=1, scale_pos_weight=1,\n",
       "       seed=None, silent=True, subsample=0.8))])"
      ]
     },
     "execution_count": 72,
     "metadata": {},
     "output_type": "execute_result"
    }
   ],
   "source": [
    "pipeline.fit(X, y)"
   ]
  },
  {
   "cell_type": "code",
   "execution_count": 93,
   "metadata": {},
   "outputs": [
    {
     "data": {
      "text/plain": [
       "<matplotlib.axes._subplots.AxesSubplot at 0x7f42edd2f5f8>"
      ]
     },
     "execution_count": 93,
     "metadata": {},
     "output_type": "execute_result"
    },
    {
     "data": {
      "image/png": "[encoded data removed]",
      "text/plain": [
       "<matplotlib.figure.Figure at 0x7f42edd03c50>"
      ]
     },
     "metadata": {},
     "output_type": "display_data"
    }
   ],
   "source": [
    "feat_imp = pd.Series(pipeline.steps[1][1].feature_importances_,index=X.columns).sort_values(ascending=False)\n",
    "feat_imp.plot(kind='bar', title='Feature Importances')"
   ]
  },
  {
   "cell_type": "code",
   "execution_count": null,
   "metadata": {
    "collapsed": true
   },
   "outputs": [],
   "source": []
  }
 ],
 "metadata": {
  "kernelspec": {
   "display_name": "Python 3",
   "language": "python",
   "name": "python3"
  },
  "language_info": {
   "codemirror_mode": {
    "name": "ipython",
    "version": 3
   },
   "file_extension": ".py",
   "mimetype": "text/x-python",
   "name": "python",
   "nbconvert_exporter": "python",
   "pygments_lexer": "ipython3",
   "version": "3.6.3"
  }
 },
 "nbformat": 4,
 "nbformat_minor": 2
}
