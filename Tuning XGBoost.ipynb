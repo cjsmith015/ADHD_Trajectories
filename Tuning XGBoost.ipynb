{
 "cells": [
  {
   "cell_type": "code",
   "execution_count": 3,
   "metadata": {},
   "outputs": [
    {
     "name": "stderr",
     "output_type": "stream",
     "text": [
      "/home/ubuntu/anaconda3/lib/python3.6/site-packages/h5py/__init__.py:34: FutureWarning: Conversion of the second argument of issubdtype from `float` to `np.floating` is deprecated. In future, it will be treated as `np.float64 == np.dtype(float).type`.\n",
      "  from ._conv import register_converters as _register_converters\n",
      "Using TensorFlow backend.\n"
     ]
    }
   ],
   "source": [
    "# imports\n",
    "import pandas as pd\n",
    "import numpy as np\n",
    "\n",
    "from impute_transform import ImputeTransform\n",
    "#import model_metrics\n",
    "\n",
    "from xgboost import XGBClassifier\n",
    "\n",
    "from sklearn.linear_model import LogisticRegression\n",
    "from sklearn.ensemble import RandomForestClassifier, GradientBoostingClassifier\n",
    "from sklearn.pipeline import make_pipeline, Pipeline\n",
    "from sklearn.model_selection import GridSearchCV\n",
    "\n",
    "from fancyimpute import *\n",
    "\n",
    "import matplotlib.pyplot as plt\n",
    "%matplotlib inline\n",
    "plt.style.use('ggplot')"
   ]
  },
  {
   "cell_type": "code",
   "execution_count": 4,
   "metadata": {
    "collapsed": true
   },
   "outputs": [],
   "source": [
    "train_data = pd.read_csv('data/train_data.csv')"
   ]
  },
  {
   "cell_type": "code",
   "execution_count": 5,
   "metadata": {
    "collapsed": true
   },
   "outputs": [],
   "source": [
    "X = train_data.drop(columns=['DX','DXSUB'])\n",
    "y = train_data['DX'].map({3:1, 1:0})\n",
    "#X = train_data.drop(columns=['DX','DXSUB'])\n",
    "#y = train_data['DX'].map({3:1, 1:0})"
   ]
  },
  {
   "cell_type": "markdown",
   "metadata": {},
   "source": [
    "## Metrics\n",
    "The metrics for a default, cross validated XGBoost model are as follows:\n",
    "\n",
    "Test Accuracy: 0.932  \n",
    "Test Log Loss: -0.204  \n",
    "Test ROC AUC: 0.971  \n",
    "\n",
    "The code for such classifier is here:  \n",
    "```xgb_clf = make_pipeline(ImputeTransform(strategy=MatrixFactorization()),\n",
    "                           XGBClassifier(max_depth=3, learning_rate=0.1,\n",
    "                           n_estimators=100,\n",
    "                           random_state=56, n_jobs=-1))```"
   ]
  },
  {
   "cell_type": "markdown",
   "metadata": {},
   "source": [
    "# Parameter Tuning for XGBoost"
   ]
  },
  {
   "cell_type": "markdown",
   "metadata": {},
   "source": [
    "Following the guidelines set out here: [Complete Guide to Parameter Tuning in XGBoost](https://www.analyticsvidhya.com/blog/2016/03/complete-guide-parameter-tuning-xgboost-with-codes-python/)"
   ]
  },
  {
   "cell_type": "code",
   "execution_count": 4,
   "metadata": {
    "collapsed": true
   },
   "outputs": [],
   "source": [
    "impute = ImputeTransform(strategy=MatrixFactorization())\n",
    "clf = XGBClassifier(\n",
    "                  learning_rate = 0.1,\n",
    "                  n_estimators = 1000,\n",
    "                  max_depth = 3,\n",
    "                  objective = 'binary:logistic',\n",
    "                  n_jobs = 6,\n",
    "                  random_state=56)\n",
    "#clf = XGBClassifier(\n",
    "#                  learning_rate = 0.1,\n",
    "#                  n_estimators = 1000,\n",
    "#                  max_depth = 5,\n",
    "#                  min_child_weight = 1,\n",
    "#                  gamma = 0,\n",
    "#                  subsample = 0.8,\n",
    "#                  colsample_bytree = 0.8,\n",
    "#                  scale_pos_weight=1,\n",
    "#                  objective = 'binary:logistic',\n",
    "#                  n_jobs = -1,\n",
    "#                  random_state=56)"
   ]
  },
  {
   "cell_type": "code",
   "execution_count": 5,
   "metadata": {
    "collapsed": true
   },
   "outputs": [],
   "source": [
    "steps = [('impute_transform', impute),\n",
    "         ('xgboost', clf)]\n",
    "\n",
    "pipeline = Pipeline(steps)"
   ]
  },
  {
   "cell_type": "markdown",
   "metadata": {},
   "source": [
    "## Step 1: Fix learning rate and number of estimators for tuning tree-based parameters"
   ]
  },
  {
   "cell_type": "code",
   "execution_count": 6,
   "metadata": {
    "collapsed": true
   },
   "outputs": [],
   "source": [
    "param_test1 = {'xgboost__n_estimators': range(20,301,10)}\n",
    "\n",
    "gsearch1 = GridSearchCV(pipeline,\n",
    "                        param_grid=param_test1,\n",
    "                        scoring='roc_auc',\n",
    "                        iid=False, cv=3)"
   ]
  },
  {
   "cell_type": "code",
   "execution_count": 7,
   "metadata": {
    "collapsed": true,
    "scrolled": true
   },
   "outputs": [],
   "source": [
    "%%capture\n",
    "gsearch1.fit(X, y)"
   ]
  },
  {
   "cell_type": "code",
   "execution_count": 8,
   "metadata": {},
   "outputs": [
    {
     "name": "stdout",
     "output_type": "stream",
     "text": [
      "{'xgboost__n_estimators': 90} 0.978607842939\n"
     ]
    }
   ],
   "source": [
    "print(gsearch1.best_params_, gsearch1.best_score_)\n",
    "best_n_estimators = gsearch1.best_params_['xgboost__n_estimators']\n",
    "_ = pipeline.set_params(xgboost__n_estimators=best_n_estimators)"
   ]
  },
  {
   "cell_type": "markdown",
   "metadata": {},
   "source": [
    "## Step 2: Tune max_depth and min_child_weight"
   ]
  },
  {
   "cell_type": "code",
   "execution_count": 9,
   "metadata": {
    "collapsed": true
   },
   "outputs": [],
   "source": [
    "param_test2 = {'xgboost__max_depth': range(1,10,2),\n",
    "               'xgboost__min_child_weight': range(1,6,2)}\n",
    "\n",
    "gsearch2 = GridSearchCV(pipeline,\n",
    "                        param_grid=param_test2,\n",
    "                        scoring='roc_auc',\n",
    "                        iid=False, cv=3)"
   ]
  },
  {
   "cell_type": "code",
   "execution_count": 10,
   "metadata": {
    "collapsed": true
   },
   "outputs": [],
   "source": [
    "%%capture\n",
    "gsearch2.fit(X, y)"
   ]
  },
  {
   "cell_type": "code",
   "execution_count": 11,
   "metadata": {},
   "outputs": [
    {
     "name": "stdout",
     "output_type": "stream",
     "text": [
      "{'xgboost__max_depth': 5, 'xgboost__min_child_weight': 5} 0.977429623099\n"
     ]
    }
   ],
   "source": [
    "print(gsearch2.best_params_, gsearch2.best_score_)"
   ]
  },
  {
   "cell_type": "code",
   "execution_count": 4,
   "metadata": {
    "collapsed": true
   },
   "outputs": [],
   "source": [
    "impute = ImputeTransform(strategy=MatrixFactorization())\n",
    "clf = XGBClassifier(\n",
    "                  learning_rate = 0.1,\n",
    "                  n_estimators = 90,\n",
    "                  max_depth = 5,\n",
    "                  min_child_weight = 5,\n",
    "                  objective = 'binary:logistic',\n",
    "                  n_jobs = -1,\n",
    "                  random_state=56)"
   ]
  },
  {
   "cell_type": "code",
   "execution_count": 5,
   "metadata": {
    "collapsed": true
   },
   "outputs": [],
   "source": [
    "steps = [('impute_transform', impute),\n",
    "         ('xgboost', clf)]\n",
    "\n",
    "pipeline = Pipeline(steps)"
   ]
  },
  {
   "cell_type": "markdown",
   "metadata": {},
   "source": [
    "### Step 2b: Find optimum values"
   ]
  },
  {
   "cell_type": "code",
   "execution_count": 6,
   "metadata": {
    "collapsed": true
   },
   "outputs": [],
   "source": [
    "param_test2a = {'xgboost__max_depth': [4,5,6,7],\n",
    "                'xgboost__min_child_weight': [4,5,6]}\n",
    "gsearch2a = GridSearchCV(pipeline,\n",
    "                         param_grid=param_test2a,\n",
    "                         scoring='roc_auc',\n",
    "                         iid=False, cv=3)"
   ]
  },
  {
   "cell_type": "code",
   "execution_count": 9,
   "metadata": {
    "collapsed": true
   },
   "outputs": [],
   "source": [
    "%%capture\n",
    "gsearch2a.fit(X, y)"
   ]
  },
  {
   "cell_type": "code",
   "execution_count": 10,
   "metadata": {
    "scrolled": true
   },
   "outputs": [
    {
     "name": "stdout",
     "output_type": "stream",
     "text": [
      "{'xgboost__max_depth': 4, 'xgboost__min_child_weight': 4} 0.9760565627494762\n"
     ]
    }
   ],
   "source": [
    "print(gsearch2a.best_params_, gsearch2a.best_score_)"
   ]
  },
  {
   "cell_type": "code",
   "execution_count": 11,
   "metadata": {
    "collapsed": true
   },
   "outputs": [],
   "source": [
    "# Set the new parameters\n",
    "best_max_depth = gsearch2a.best_params_['xgboost__max_depth']\n",
    "best_child_weight = gsearch2a.best_params_['xgboost__min_child_weight']\n",
    "_ = pipeline.set_params(xgboost__max_depth=best_max_depth,\n",
    "                        xgboost__min_child_weight=best_child_weight)"
   ]
  },
  {
   "cell_type": "markdown",
   "metadata": {},
   "source": [
    "### Step 2c: Find optimum values"
   ]
  },
  {
   "cell_type": "code",
   "execution_count": 12,
   "metadata": {
    "collapsed": true
   },
   "outputs": [],
   "source": [
    "param_test2b = {'xgboost__max_depth': [3,4,5],\n",
    "                'xgboost__min_child_weight': [3,4,5]}\n",
    "gsearch2b = GridSearchCV(pipeline,\n",
    "                         param_grid=param_test2b,\n",
    "                         scoring='roc_auc',\n",
    "                         iid=False, cv=3)"
   ]
  },
  {
   "cell_type": "code",
   "execution_count": 13,
   "metadata": {
    "collapsed": true
   },
   "outputs": [],
   "source": [
    "%%capture\n",
    "gsearch2b.fit(X, y)"
   ]
  },
  {
   "cell_type": "code",
   "execution_count": 14,
   "metadata": {
    "scrolled": true
   },
   "outputs": [
    {
     "name": "stdout",
     "output_type": "stream",
     "text": [
      "{'xgboost__max_depth': 5, 'xgboost__min_child_weight': 5} 0.9760565627494762\n"
     ]
    }
   ],
   "source": [
    "print(gsearch2b.best_params_, gsearch2a.best_score_)"
   ]
  },
  {
   "cell_type": "code",
   "execution_count": 15,
   "metadata": {
    "collapsed": true
   },
   "outputs": [],
   "source": [
    "# Set the new parameters\n",
    "best_max_depth = gsearch2b.best_params_['xgboost__max_depth']\n",
    "best_child_weight = gsearch2b.best_params_['xgboost__min_child_weight']\n",
    "_ = pipeline.set_params(xgboost__max_depth=best_max_depth,\n",
    "                        xgboost__min_child_weight=best_child_weight)"
   ]
  },
  {
   "cell_type": "markdown",
   "metadata": {},
   "source": [
    "## Step 3: Tune gamma"
   ]
  },
  {
   "cell_type": "code",
   "execution_count": 16,
   "metadata": {
    "collapsed": true
   },
   "outputs": [],
   "source": [
    "param_test3 = {'xgboost__gamma': [i/10.0 for i in range(0,5)]}\n",
    "gsearch3 = GridSearchCV(pipeline,\n",
    "                        param_grid=param_test3,\n",
    "                        scoring='roc_auc',\n",
    "                        iid=False, cv=3)"
   ]
  },
  {
   "cell_type": "code",
   "execution_count": 17,
   "metadata": {
    "collapsed": true
   },
   "outputs": [],
   "source": [
    "%%capture\n",
    "gsearch3.fit(X, y)"
   ]
  },
  {
   "cell_type": "code",
   "execution_count": 18,
   "metadata": {},
   "outputs": [
    {
     "name": "stdout",
     "output_type": "stream",
     "text": [
      "{'xgboost__gamma': 0.2} 0.9765669606614488\n"
     ]
    }
   ],
   "source": [
    "print(gsearch3.best_params_, gsearch3.best_score_)"
   ]
  },
  {
   "cell_type": "code",
   "execution_count": 19,
   "metadata": {
    "collapsed": true
   },
   "outputs": [],
   "source": [
    "# Set the new parameters\n",
    "best_gamma = gsearch3.best_params_['xgboost__gamma']\n",
    "_ = pipeline.set_params(xgboost__gamma=best_max_depth)"
   ]
  },
  {
   "cell_type": "markdown",
   "metadata": {},
   "source": [
    "### Step 3b: Re-calibrate n_estimators for updated parameters"
   ]
  },
  {
   "cell_type": "code",
   "execution_count": 21,
   "metadata": {
    "collapsed": true
   },
   "outputs": [],
   "source": [
    "param_test3b = {'xgboost__n_estimators': range(40,121,10)}\n",
    "\n",
    "gsearch3b = GridSearchCV(pipeline,\n",
    "                         param_grid=param_test3b,\n",
    "                         scoring='roc_auc',\n",
    "                         iid=False, cv=3)"
   ]
  },
  {
   "cell_type": "code",
   "execution_count": 22,
   "metadata": {
    "collapsed": true
   },
   "outputs": [],
   "source": [
    "%%capture\n",
    "gsearch3b.fit(X, y)"
   ]
  },
  {
   "cell_type": "code",
   "execution_count": 23,
   "metadata": {},
   "outputs": [
    {
     "name": "stdout",
     "output_type": "stream",
     "text": [
      "{'xgboost__n_estimators': 40} 0.9791244281401762\n"
     ]
    }
   ],
   "source": [
    "print(gsearch3b.best_params_, gsearch3b.best_score_)"
   ]
  },
  {
   "cell_type": "code",
   "execution_count": 24,
   "metadata": {
    "collapsed": true
   },
   "outputs": [],
   "source": [
    "best_n_estimators = gsearch3b.best_params_['xgboost__n_estimators']\n",
    "_ = pipeline.set_params(xgboost__n_estimators=best_n_estimators)"
   ]
  },
  {
   "cell_type": "markdown",
   "metadata": {},
   "source": [
    "### Step 3c: Re-calibrate n_estimators for updated parameters"
   ]
  },
  {
   "cell_type": "code",
   "execution_count": 25,
   "metadata": {
    "collapsed": true
   },
   "outputs": [],
   "source": [
    "param_test3c = {'xgboost__n_estimators': [30, 35, 40, 45, 50, 90]}\n",
    "\n",
    "gsearch3c = GridSearchCV(pipeline,\n",
    "                         param_grid=param_test3c,\n",
    "                         scoring='roc_auc',\n",
    "                         iid=False, cv=3)"
   ]
  },
  {
   "cell_type": "code",
   "execution_count": 26,
   "metadata": {
    "collapsed": true
   },
   "outputs": [],
   "source": [
    "%%capture\n",
    "gsearch3c.fit(X, y)"
   ]
  },
  {
   "cell_type": "code",
   "execution_count": 27,
   "metadata": {},
   "outputs": [
    {
     "name": "stdout",
     "output_type": "stream",
     "text": [
      "{'xgboost__n_estimators': 45} 0.9823776419839412\n"
     ]
    }
   ],
   "source": [
    "print(gsearch3c.best_params_, gsearch3c.best_score_)"
   ]
  },
  {
   "cell_type": "code",
   "execution_count": 28,
   "metadata": {
    "collapsed": true
   },
   "outputs": [],
   "source": [
    "best_n_estimators = gsearch3c.best_params_['xgboost__n_estimators']\n",
    "_ = pipeline.set_params(xgboost__n_estimators=best_n_estimators)"
   ]
  },
  {
   "cell_type": "markdown",
   "metadata": {},
   "source": [
    "## Step 4: Tune subsample and colsample_bytree"
   ]
  },
  {
   "cell_type": "code",
   "execution_count": null,
   "metadata": {
    "collapsed": true
   },
   "outputs": [],
   "source": [
    "# skippable"
   ]
  },
  {
   "cell_type": "markdown",
   "metadata": {},
   "source": [
    "## Step 5: Tuning Regularization Parameters"
   ]
  },
  {
   "cell_type": "code",
   "execution_count": null,
   "metadata": {
    "collapsed": true
   },
   "outputs": [],
   "source": [
    "# skippable"
   ]
  },
  {
   "cell_type": "markdown",
   "metadata": {},
   "source": [
    "## Step 6: Reducing Learning Rate, Add Trees"
   ]
  },
  {
   "cell_type": "code",
   "execution_count": 7,
   "metadata": {},
   "outputs": [],
   "source": [
    "impute = ImputeTransform(strategy=MatrixFactorization())\n",
    "clf = XGBClassifier(\n",
    "                  learning_rate = 0.01,\n",
    "                  n_estimators = 45,\n",
    "                  max_depth = 5,\n",
    "                  min_child_weight = 5,\n",
    "                  gamma = 0.2,\n",
    "                  objective = 'binary:logistic',\n",
    "                  n_jobs = -1,\n",
    "                  random_state=56)\n",
    "\n",
    "steps = [('impute_transform', impute),\n",
    "         ('xgboost', clf)]\n",
    "\n",
    "pipeline = Pipeline(steps)"
   ]
  },
  {
   "cell_type": "code",
   "execution_count": 8,
   "metadata": {
    "collapsed": true
   },
   "outputs": [],
   "source": [
    "_ = pipeline.set_params(xgboost__learning_rate=0.01)"
   ]
  },
  {
   "cell_type": "code",
   "execution_count": 9,
   "metadata": {
    "collapsed": true
   },
   "outputs": [],
   "source": [
    "param_test6 = {'xgboost__n_estimators': range(30,190,10)}\n",
    "\n",
    "gsearch6 = GridSearchCV(pipeline,\n",
    "                        param_grid=param_test6,\n",
    "                        scoring='roc_auc',\n",
    "                        iid=False, cv=3)"
   ]
  },
  {
   "cell_type": "code",
   "execution_count": 10,
   "metadata": {},
   "outputs": [],
   "source": [
    "%%capture\n",
    "gsearch6.fit(X, y)"
   ]
  },
  {
   "cell_type": "code",
   "execution_count": 11,
   "metadata": {},
   "outputs": [
    {
     "name": "stdout",
     "output_type": "stream",
     "text": [
      "{'xgboost__n_estimators': 180} 0.9781366293177317\n"
     ]
    }
   ],
   "source": [
    "print(gsearch6.best_params_, gsearch6.best_score_)"
   ]
  },
  {
   "cell_type": "code",
   "execution_count": 12,
   "metadata": {
    "collapsed": true
   },
   "outputs": [],
   "source": [
    "best_n_estimators = gsearch6.best_params_['xgboost__n_estimators']\n",
    "_ = pipeline.set_params(xgboost__n_estimators=best_n_estimators)"
   ]
  },
  {
   "cell_type": "markdown",
   "metadata": {},
   "source": [
    "## Step 6b: Optimize n_estimators (again)"
   ]
  },
  {
   "cell_type": "code",
   "execution_count": 13,
   "metadata": {
    "collapsed": true
   },
   "outputs": [],
   "source": [
    "param_test6b = {'xgboost__n_estimators': range(160,210,5)}\n",
    "\n",
    "gsearch6b = GridSearchCV(pipeline,\n",
    "                        param_grid=param_test6b,\n",
    "                        scoring='roc_auc',\n",
    "                        iid=False, cv=3)"
   ]
  },
  {
   "cell_type": "code",
   "execution_count": 14,
   "metadata": {
    "collapsed": true
   },
   "outputs": [],
   "source": [
    "%%capture\n",
    "gsearch6b.fit(X, y)"
   ]
  },
  {
   "cell_type": "code",
   "execution_count": 15,
   "metadata": {},
   "outputs": [
    {
     "name": "stdout",
     "output_type": "stream",
     "text": [
      "{'xgboost__n_estimators': 190} 0.9779930436623351\n"
     ]
    }
   ],
   "source": [
    "print(gsearch6b.best_params_, gsearch6b.best_score_)"
   ]
  },
  {
   "cell_type": "code",
   "execution_count": 16,
   "metadata": {
    "collapsed": true
   },
   "outputs": [],
   "source": [
    "best_n_estimators = gsearch6b.best_params_['xgboost__n_estimators']\n",
    "_ = pipeline.set_params(xgboost__n_estimators=best_n_estimators)"
   ]
  },
  {
   "cell_type": "markdown",
   "metadata": {},
   "source": [
    "## Step 6c: Optimize n_estimators (again)"
   ]
  },
  {
   "cell_type": "code",
   "execution_count": 25,
   "metadata": {
    "collapsed": true
   },
   "outputs": [],
   "source": [
    "param_test6c = {'xgboost__n_estimators': [200, 205, 210, 215]}\n",
    "\n",
    "gsearch6c = GridSearchCV(pipeline,\n",
    "                        param_grid=param_test6c,\n",
    "                        scoring='roc_auc',\n",
    "                        iid=False, cv=3)"
   ]
  },
  {
   "cell_type": "code",
   "execution_count": 26,
   "metadata": {
    "collapsed": true
   },
   "outputs": [],
   "source": [
    "%%capture\n",
    "gsearch6c.fit(X, y)"
   ]
  },
  {
   "cell_type": "code",
   "execution_count": 27,
   "metadata": {},
   "outputs": [
    {
     "name": "stdout",
     "output_type": "stream",
     "text": [
      "{'xgboost__n_estimators': 200} 0.978182839757643\n"
     ]
    }
   ],
   "source": [
    "print(gsearch6c.best_params_, gsearch6c.best_score_)"
   ]
  },
  {
   "cell_type": "code",
   "execution_count": 28,
   "metadata": {
    "collapsed": true
   },
   "outputs": [],
   "source": [
    "best_n_estimators = gsearch6b.best_params_['xgboost__n_estimators']\n",
    "_ = pipeline.set_params(xgboost__n_estimators=best_n_estimators)"
   ]
  },
  {
   "cell_type": "markdown",
   "metadata": {},
   "source": [
    "## Step 7: Fit full model, examine feature importances"
   ]
  },
  {
   "cell_type": "code",
   "execution_count": 30,
   "metadata": {
    "scrolled": true
   },
   "outputs": [],
   "source": [
    "%%capture\n",
    "pipeline.fit(X, y)"
   ]
  },
  {
   "cell_type": "code",
   "execution_count": 31,
   "metadata": {},
   "outputs": [
    {
     "data": {
      "text/plain": [
       "<matplotlib.axes._subplots.AxesSubplot at 0x7fb88a0a4cf8>"
      ]
     },
     "execution_count": 31,
     "metadata": {},
     "output_type": "execute_result"
    },
    {
     "data": {
      "image/png": "[encoded data removed]",
      "text/plain": [
       "<matplotlib.figure.Figure at 0x7fb88a0a49e8>"
      ]
     },
     "metadata": {},
     "output_type": "display_data"
    }
   ],
   "source": [
    "feat_imp = pd.Series(pipeline.steps[1][1].feature_importances_,index=X.columns).sort_values(ascending=False)\n",
    "feat_imp.plot(kind='bar', title='Feature Importances')"
   ]
  },
  {
   "cell_type": "code",
   "execution_count": 32,
   "metadata": {},
   "outputs": [
    {
     "data": {
      "text/plain": [
       "{'impute_transform': <impute_transform.ImputeTransform at 0x7fb961690d68>,\n",
       " 'impute_transform__strategy': MatrixFactorization(fill_method='zero', l2_penalty=1e-05, learning_rate=0.001, loss='mse', max_value=None, min_improvement=0.001, min_value=None, n_imputations=1, optimization_algorithm='nadam', patience=5, rank=10, validation_frac=0.1, verbose=True),\n",
       " 'memory': None,\n",
       " 'steps': [('impute_transform',\n",
       "   <impute_transform.ImputeTransform at 0x7fb961690d68>),\n",
       "  ('xgboost',\n",
       "   XGBClassifier(base_score=0.5, booster='gbtree', colsample_bylevel=1,\n",
       "          colsample_bytree=1, gamma=0.2, learning_rate=0.01, max_delta_step=0,\n",
       "          max_depth=5, min_child_weight=5, missing=None, n_estimators=190,\n",
       "          n_jobs=-1, nthread=None, objective='binary:logistic',\n",
       "          random_state=56, reg_alpha=0, reg_lambda=1, scale_pos_weight=1,\n",
       "          seed=None, silent=True, subsample=1))],\n",
       " 'xgboost': XGBClassifier(base_score=0.5, booster='gbtree', colsample_bylevel=1,\n",
       "        colsample_bytree=1, gamma=0.2, learning_rate=0.01, max_delta_step=0,\n",
       "        max_depth=5, min_child_weight=5, missing=None, n_estimators=190,\n",
       "        n_jobs=-1, nthread=None, objective='binary:logistic',\n",
       "        random_state=56, reg_alpha=0, reg_lambda=1, scale_pos_weight=1,\n",
       "        seed=None, silent=True, subsample=1),\n",
       " 'xgboost__base_score': 0.5,\n",
       " 'xgboost__booster': 'gbtree',\n",
       " 'xgboost__colsample_bylevel': 1,\n",
       " 'xgboost__colsample_bytree': 1,\n",
       " 'xgboost__gamma': 0.2,\n",
       " 'xgboost__learning_rate': 0.01,\n",
       " 'xgboost__max_delta_step': 0,\n",
       " 'xgboost__max_depth': 5,\n",
       " 'xgboost__min_child_weight': 5,\n",
       " 'xgboost__missing': None,\n",
       " 'xgboost__n_estimators': 190,\n",
       " 'xgboost__n_jobs': -1,\n",
       " 'xgboost__nthread': None,\n",
       " 'xgboost__objective': 'binary:logistic',\n",
       " 'xgboost__random_state': 56,\n",
       " 'xgboost__reg_alpha': 0,\n",
       " 'xgboost__reg_lambda': 1,\n",
       " 'xgboost__scale_pos_weight': 1,\n",
       " 'xgboost__seed': None,\n",
       " 'xgboost__silent': True,\n",
       " 'xgboost__subsample': 1}"
      ]
     },
     "execution_count": 32,
     "metadata": {},
     "output_type": "execute_result"
    }
   ],
   "source": [
    "pipeline.get_params()"
   ]
  },
  {
   "cell_type": "code",
   "execution_count": 33,
   "metadata": {
    "collapsed": true
   },
   "outputs": [],
   "source": [
    "import pickle\n",
    "with open('xgboost_model.pkl', 'wb') as f:\n",
    "    pickle.dump(pipeline, f)"
   ]
  },
  {
   "cell_type": "code",
   "execution_count": null,
   "metadata": {
    "collapsed": true
   },
   "outputs": [],
   "source": [
    "    "
   ]
  }
 ],
 "metadata": {
  "kernelspec": {
   "display_name": "Python 3",
   "language": "python",
   "name": "python3"
  },
  "language_info": {
   "codemirror_mode": {
    "name": "ipython",
    "version": 3
   },
   "file_extension": ".py",
   "mimetype": "text/x-python",
   "name": "python",
   "nbconvert_exporter": "python",
   "pygments_lexer": "ipython3",
   "version": "3.6.3"
  }
 },
 "nbformat": 4,
 "nbformat_minor": 2
}
