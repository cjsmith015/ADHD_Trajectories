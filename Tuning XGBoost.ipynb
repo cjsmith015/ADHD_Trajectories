{
 "cells": [
  {
   "cell_type": "code",
   "execution_count": 1,
   "metadata": {},
   "outputs": [
    {
     "name": "stderr",
     "output_type": "stream",
     "text": [
      "Using TensorFlow backend.\n"
     ]
    }
   ],
   "source": [
    "# imports\n",
    "import pandas as pd\n",
    "import numpy as np\n",
    "\n",
    "from impute_transform import ImputeTransform\n",
    "#import model_metrics\n",
    "\n",
    "from xgboost import XGBClassifier\n",
    "\n",
    "from sklearn.linear_model import LogisticRegression\n",
    "from sklearn.ensemble import RandomForestClassifier, GradientBoostingClassifier\n",
    "from sklearn.pipeline import make_pipeline, Pipeline\n",
    "from sklearn.model_selection import GridSearchCV\n",
    "\n",
    "from fancyimpute import *\n",
    "\n",
    "import matplotlib.pyplot as plt\n",
    "%matplotlib inline\n",
    "plt.style.use('ggplot')"
   ]
  },
  {
   "cell_type": "code",
   "execution_count": 2,
   "metadata": {
    "collapsed": true
   },
   "outputs": [],
   "source": [
    "train_data = pd.read_csv('data/train_data.csv')"
   ]
  },
  {
   "cell_type": "code",
   "execution_count": 3,
   "metadata": {
    "collapsed": true
   },
   "outputs": [],
   "source": [
    "X = train_data.drop(columns=['DX','DXSUB'])\n",
    "y = train_data['DX'].map({3:1, 1:0})\n",
    "#X = train_data.drop(columns=['DX','DXSUB'])\n",
    "#y = train_data['DX'].map({3:1, 1:0})"
   ]
  },
  {
   "cell_type": "markdown",
   "metadata": {},
   "source": [
    "## Metrics\n",
    "The metrics for a default, cross validated XGBoost model are as follows:\n",
    "\n",
    "Test Accuracy: 0.927  \n",
    "Test Log Loss: -0.212  \n",
    "Test ROC AUC: 0.96998  \n",
    "\n",
    "The code for such classifier is here:  \n",
    "```xgb_clf = make_pipeline(ImputeTransform(strategy=MatrixFactorization()),\n",
    "                           XGBClassifier(max_depth=3, learning_rate=0.1,\n",
    "                           n_estimators=100,\n",
    "                           random_state=56, n_jobs=-1))```"
   ]
  },
  {
   "cell_type": "markdown",
   "metadata": {},
   "source": [
    "# Parameter Tuning for XGBoost"
   ]
  },
  {
   "cell_type": "markdown",
   "metadata": {},
   "source": [
    "Following the guidelines set out here: [Complete Guide to Parameter Tuning in XGBoost](https://www.analyticsvidhya.com/blog/2016/03/complete-guide-parameter-tuning-xgboost-with-codes-python/)"
   ]
  },
  {
   "cell_type": "code",
   "execution_count": 4,
   "metadata": {
    "collapsed": true
   },
   "outputs": [],
   "source": [
    "impute = ImputeTransform(strategy=MatrixFactorization())\n",
    "clf = XGBClassifier(\n",
    "                  learning_rate = 0.1,\n",
    "                  n_estimators = 1000,\n",
    "                  max_depth = 3,\n",
    "                  objective = 'binary:logistic',\n",
    "                  n_jobs = 6,\n",
    "                  random_state=56)\n",
    "#clf = XGBClassifier(\n",
    "#                  learning_rate = 0.1,\n",
    "#                  n_estimators = 1000,\n",
    "#                  max_depth = 5,\n",
    "#                  min_child_weight = 1,\n",
    "#                  gamma = 0,\n",
    "#                  subsample = 0.8,\n",
    "#                  colsample_bytree = 0.8,\n",
    "#                  scale_pos_weight=1,\n",
    "#                  objective = 'binary:logistic',\n",
    "#                  n_jobs = -1,\n",
    "#                  random_state=56)"
   ]
  },
  {
   "cell_type": "code",
   "execution_count": 5,
   "metadata": {
    "collapsed": true
   },
   "outputs": [],
   "source": [
    "steps = [('impute_transform', impute),\n",
    "         ('xgboost', clf)]\n",
    "\n",
    "pipeline = Pipeline(steps)"
   ]
  },
  {
   "cell_type": "markdown",
   "metadata": {},
   "source": [
    "## Step 1: Fix learning rate and number of estimators for tuning tree-based parameters"
   ]
  },
  {
   "cell_type": "code",
   "execution_count": 6,
   "metadata": {
    "collapsed": true
   },
   "outputs": [],
   "source": [
    "param_test1 = {'xgboost__n_estimators': range(20,301,10)}\n",
    "\n",
    "gsearch1 = GridSearchCV(pipeline,\n",
    "                        param_grid=param_test1,\n",
    "                        scoring='roc_auc',\n",
    "                        iid=False, cv=3)"
   ]
  },
  {
   "cell_type": "code",
   "execution_count": 7,
   "metadata": {
    "scrolled": true
   },
   "outputs": [],
   "source": [
    "%%capture\n",
    "gsearch1.fit(X, y)"
   ]
  },
  {
   "cell_type": "code",
   "execution_count": 8,
   "metadata": {},
   "outputs": [
    {
     "name": "stdout",
     "output_type": "stream",
     "text": [
      "{'xgboost__n_estimators': 90} 0.978607842939\n"
     ]
    }
   ],
   "source": [
    "print(gsearch1.best_params_, gsearch1.best_score_)\n",
    "best_n_estimators = gsearch1.best_params_['xgboost__n_estimators']\n",
    "_ = pipeline.set_params(xgboost__n_estimators=best_n_estimators)"
   ]
  },
  {
   "cell_type": "markdown",
   "metadata": {},
   "source": [
    "## Step 2: Tune max_depth and min_child_weight"
   ]
  },
  {
   "cell_type": "code",
   "execution_count": 9,
   "metadata": {
    "collapsed": true
   },
   "outputs": [],
   "source": [
    "param_test2 = {'xgboost__max_depth': range(1,10,2),\n",
    "               'xgboost__min_child_weight': range(1,6,2)}\n",
    "\n",
    "gsearch2 = GridSearchCV(pipeline,\n",
    "                        param_grid=param_test2,\n",
    "                        scoring='roc_auc',\n",
    "                        iid=False, cv=3)"
   ]
  },
  {
   "cell_type": "code",
   "execution_count": 10,
   "metadata": {},
   "outputs": [],
   "source": [
    "%%capture\n",
    "gsearch2.fit(X, y)"
   ]
  },
  {
   "cell_type": "code",
   "execution_count": 11,
   "metadata": {},
   "outputs": [
    {
     "name": "stdout",
     "output_type": "stream",
     "text": [
      "{'xgboost__max_depth': 5, 'xgboost__min_child_weight': 5} 0.977429623099\n"
     ]
    }
   ],
   "source": [
    "print(gsearch2.best_params_, gsearch2.best_score_)"
   ]
  },
  {
   "cell_type": "markdown",
   "metadata": {},
   "source": [
    "### Step 2b: Find optimum values"
   ]
  },
  {
   "cell_type": "code",
   "execution_count": null,
   "metadata": {
    "collapsed": true
   },
   "outputs": [],
   "source": [
    "param_test2a = {'xgboost__max_depth': [6,7,8,0],\n",
    "                'xgboost__min_child_weight': [4,5,6]}\n",
    "gsearch2a = GridSearchCV(pipeline,\n",
    "                         param_grid=param_test2a,\n",
    "                         scoring='roc_auc',\n",
    "                         iid=False, cv=3)"
   ]
  },
  {
   "cell_type": "code",
   "execution_count": null,
   "metadata": {
    "collapsed": true
   },
   "outputs": [],
   "source": [
    "%%capture\n",
    "gsearch2a.fit(X, y)"
   ]
  },
  {
   "cell_type": "code",
   "execution_count": null,
   "metadata": {
    "scrolled": true
   },
   "outputs": [],
   "source": [
    "print(gsearch2a.best_params_, gsearch2a.best_score_)"
   ]
  },
  {
   "cell_type": "code",
   "execution_count": null,
   "metadata": {
    "collapsed": true
   },
   "outputs": [],
   "source": [
    "# Set the new parameters\n",
    "best_max_depth = gsearch2a.best_params_['xgboost__max_depth']\n",
    "best_child_weight = gsearch2a.best_params_['xgboost__min_child_weight']\n",
    "_ = pipeline.set_params(xgboost__max_depth=best_max_depth,\n",
    "                        xgboost__min_child_weight=best_child_weight)"
   ]
  },
  {
   "cell_type": "markdown",
   "metadata": {},
   "source": [
    "### Step 2c: Find optimum values"
   ]
  },
  {
   "cell_type": "code",
   "execution_count": null,
   "metadata": {
    "collapsed": true
   },
   "outputs": [],
   "source": [
    "param_test2b = {'xgboost__max_depth': [4,5,6],\n",
    "                'xgboost__min_child_weight': [3,4,5]}\n",
    "gsearch2b = GridSearchCV(pipeline,\n",
    "                         param_grid=param_test2b,\n",
    "                         scoring='roc_auc',\n",
    "                         iid=False, cv=3)"
   ]
  },
  {
   "cell_type": "code",
   "execution_count": null,
   "metadata": {
    "collapsed": true
   },
   "outputs": [],
   "source": [
    "%%capture\n",
    "gsearch2b.fit(X, y)"
   ]
  },
  {
   "cell_type": "code",
   "execution_count": null,
   "metadata": {
    "scrolled": true
   },
   "outputs": [],
   "source": [
    "print(gsearch2b.best_params_, gsearch2a.best_score_)"
   ]
  },
  {
   "cell_type": "code",
   "execution_count": null,
   "metadata": {
    "collapsed": true
   },
   "outputs": [],
   "source": [
    "# Set the new parameters\n",
    "best_max_depth = gsearch2b.best_params_['xgboost__max_depth']\n",
    "best_child_weight = gsearch2b.best_params_['xgboost__min_child_weight']\n",
    "_ = pipeline.set_params(xgboost__max_depth=best_max_depth,\n",
    "                        xgboost__min_child_weight=best_child_weight)"
   ]
  },
  {
   "cell_type": "markdown",
   "metadata": {},
   "source": [
    "## Step 3: Tune gamma"
   ]
  },
  {
   "cell_type": "code",
   "execution_count": null,
   "metadata": {
    "collapsed": true
   },
   "outputs": [],
   "source": [
    "param_test3 = {'xgboost__gamma': [i/10.0 for i in range(0,5)]}\n",
    "gsearch3 = GridSearchCV(pipeline,\n",
    "                        param_grid=param_test3,\n",
    "                        scoring='roc_auc',\n",
    "                        iid=False, cv=3)"
   ]
  },
  {
   "cell_type": "code",
   "execution_count": null,
   "metadata": {
    "collapsed": true
   },
   "outputs": [],
   "source": [
    "%%capture\n",
    "gsearch3.fit(X, y)"
   ]
  },
  {
   "cell_type": "code",
   "execution_count": null,
   "metadata": {},
   "outputs": [],
   "source": [
    "print(gsearch3.best_params_, gsearch3.best_score_)"
   ]
  },
  {
   "cell_type": "code",
   "execution_count": null,
   "metadata": {
    "collapsed": true
   },
   "outputs": [],
   "source": [
    "# Set the new parameters\n",
    "best_gamma = gsearch3.best_params_['xgboost__gamma']\n",
    "_ = pipeline.set_params(xgboost__gamma=best_max_depth)"
   ]
  },
  {
   "cell_type": "markdown",
   "metadata": {},
   "source": [
    "### Step 3b: Re-calibrate n_estimators for updated parameters"
   ]
  },
  {
   "cell_type": "code",
   "execution_count": null,
   "metadata": {
    "collapsed": true
   },
   "outputs": [],
   "source": [
    "param_test3b = {'xgboost__n_estimators': range(10,101,10)}\n",
    "\n",
    "gsearch3b = GridSearchCV(pipeline,\n",
    "                         param_grid=param_test3b,\n",
    "                         scoring='roc_auc',\n",
    "                         iid=False, cv=3)"
   ]
  },
  {
   "cell_type": "code",
   "execution_count": null,
   "metadata": {
    "collapsed": true
   },
   "outputs": [],
   "source": [
    "%%capture\n",
    "gsearch3b.fit(X, y)"
   ]
  },
  {
   "cell_type": "code",
   "execution_count": null,
   "metadata": {},
   "outputs": [],
   "source": [
    "print(gsearch3b.best_params_, gsearch3b.best_score_)"
   ]
  },
  {
   "cell_type": "code",
   "execution_count": null,
   "metadata": {
    "collapsed": true
   },
   "outputs": [],
   "source": [
    "best_n_estimators = gsearch3b.best_params_['xgboost__n_estimators']\n",
    "_ = pipeline.set_params(xgboost__n_estimators=best_n_estimators)"
   ]
  },
  {
   "cell_type": "markdown",
   "metadata": {},
   "source": [
    "### Step 3c: Re-calibrate n_estimators for updated parameters"
   ]
  },
  {
   "cell_type": "code",
   "execution_count": null,
   "metadata": {
    "collapsed": true
   },
   "outputs": [],
   "source": [
    "param_test3c = {'xgboost__n_estimators': [40,45,50,55,60]}\n",
    "\n",
    "gsearch3c = GridSearchCV(pipeline,\n",
    "                         param_grid=param_test3c,\n",
    "                         scoring='roc_auc',\n",
    "                         iid=False, cv=3)"
   ]
  },
  {
   "cell_type": "code",
   "execution_count": null,
   "metadata": {
    "collapsed": true
   },
   "outputs": [],
   "source": [
    "%%capture\n",
    "gsearch3c.fit(X, y)"
   ]
  },
  {
   "cell_type": "code",
   "execution_count": null,
   "metadata": {},
   "outputs": [],
   "source": [
    "print(gsearch3c.best_params_, gsearch3c.best_score_)"
   ]
  },
  {
   "cell_type": "code",
   "execution_count": null,
   "metadata": {
    "collapsed": true
   },
   "outputs": [],
   "source": [
    "best_n_estimators = gsearch3c.best_params_['xgboost__n_estimators']\n",
    "_ = pipeline.set_params(xgboost__n_estimators=best_n_estimators)"
   ]
  },
  {
   "cell_type": "markdown",
   "metadata": {},
   "source": [
    "## Step 4: Tune subsample and colsample_bytree"
   ]
  },
  {
   "cell_type": "code",
   "execution_count": null,
   "metadata": {
    "collapsed": true
   },
   "outputs": [],
   "source": [
    "# probably skippable"
   ]
  },
  {
   "cell_type": "markdown",
   "metadata": {},
   "source": [
    "## Step 5: Tuning Regularization Parameters"
   ]
  },
  {
   "cell_type": "code",
   "execution_count": null,
   "metadata": {
    "collapsed": true
   },
   "outputs": [],
   "source": [
    "# probably skippable"
   ]
  },
  {
   "cell_type": "markdown",
   "metadata": {},
   "source": [
    "## Step 6: Reducing Learning Rate, Add Trees"
   ]
  },
  {
   "cell_type": "code",
   "execution_count": null,
   "metadata": {
    "collapsed": true
   },
   "outputs": [],
   "source": [
    "_ = pipeline.set_params(xgboost__learning_rate=0.01)"
   ]
  },
  {
   "cell_type": "code",
   "execution_count": null,
   "metadata": {
    "collapsed": true
   },
   "outputs": [],
   "source": [
    "param_test6 = {'xgboost__n_estimators': range(40,200,10)}\n",
    "\n",
    "gsearch6 = GridSearchCV(pipeline,\n",
    "                        param_grid=param_test6,\n",
    "                        scoring='roc_auc',\n",
    "                        iid=False, cv=3)"
   ]
  },
  {
   "cell_type": "code",
   "execution_count": null,
   "metadata": {
    "collapsed": true
   },
   "outputs": [],
   "source": [
    "%%capture\n",
    "gsearch6.fit(X, y)"
   ]
  },
  {
   "cell_type": "code",
   "execution_count": null,
   "metadata": {},
   "outputs": [],
   "source": [
    "print(gsearch6.best_params_, gsearch6.best_score_)"
   ]
  },
  {
   "cell_type": "code",
   "execution_count": null,
   "metadata": {
    "collapsed": true
   },
   "outputs": [],
   "source": [
    "best_n_estimators = gsearch6.best_params_['xgboost__n_estimators']\n",
    "_ = pipeline.set_params(xgboost__n_estimators=best_n_estimators)"
   ]
  },
  {
   "cell_type": "markdown",
   "metadata": {},
   "source": [
    "## Step 6b: Optimize n_estimators (again)"
   ]
  },
  {
   "cell_type": "code",
   "execution_count": null,
   "metadata": {
    "collapsed": true
   },
   "outputs": [],
   "source": [
    "param_test6b = {'xgboost__n_estimators': range(100,200,5)}\n",
    "\n",
    "gsearch6b = GridSearchCV(pipeline,\n",
    "                        param_grid=param_test6b,\n",
    "                        scoring='roc_auc',\n",
    "                        iid=False, cv=3)"
   ]
  },
  {
   "cell_type": "code",
   "execution_count": null,
   "metadata": {
    "collapsed": true
   },
   "outputs": [],
   "source": [
    "%%capture\n",
    "gsearch6b.fit(X, y)"
   ]
  },
  {
   "cell_type": "code",
   "execution_count": null,
   "metadata": {},
   "outputs": [],
   "source": [
    "print(gsearch6b.best_params_, gsearch6b.best_score_)"
   ]
  },
  {
   "cell_type": "code",
   "execution_count": null,
   "metadata": {
    "collapsed": true
   },
   "outputs": [],
   "source": [
    "best_n_estimators = gsearch6b.best_params_['xgboost__n_estimators']\n",
    "_ = pipeline.set_params(xgboost__n_estimators=best_n_estimators)"
   ]
  },
  {
   "cell_type": "markdown",
   "metadata": {},
   "source": [
    "## Step 6c: Optimize n_estimators (again)"
   ]
  },
  {
   "cell_type": "code",
   "execution_count": null,
   "metadata": {
    "collapsed": true
   },
   "outputs": [],
   "source": [
    "param_test6c = {'xgboost__n_estimators': [120, 125, 130, 135, 140, 145]}\n",
    "\n",
    "gsearch6c = GridSearchCV(pipeline,\n",
    "                        param_grid=param_test6c,\n",
    "                        scoring='roc_auc',\n",
    "                        iid=False, cv=3)"
   ]
  },
  {
   "cell_type": "code",
   "execution_count": null,
   "metadata": {
    "collapsed": true
   },
   "outputs": [],
   "source": [
    "%%capture\n",
    "gsearch6c.fit(X, y)"
   ]
  },
  {
   "cell_type": "code",
   "execution_count": null,
   "metadata": {},
   "outputs": [],
   "source": [
    "print(gsearch6c.best_params_, gsearch6c.best_score_)"
   ]
  },
  {
   "cell_type": "code",
   "execution_count": null,
   "metadata": {
    "collapsed": true
   },
   "outputs": [],
   "source": [
    "best_n_estimators = gsearch6b.best_params_['xgboost__n_estimators']\n",
    "_ = pipeline.set_params(xgboost__n_estimators=best_n_estimators)"
   ]
  },
  {
   "cell_type": "markdown",
   "metadata": {},
   "source": [
    "## Step 7: Fit full model, examine feature importances"
   ]
  },
  {
   "cell_type": "code",
   "execution_count": null,
   "metadata": {},
   "outputs": [],
   "source": [
    "pipeline.fit(X, y)"
   ]
  },
  {
   "cell_type": "code",
   "execution_count": null,
   "metadata": {
    "collapsed": true
   },
   "outputs": [],
   "source": [
    "feat_imp = pd.Series(pipeline.steps[1][1].feature_importances_,index=X.columns).sort_values(ascending=False)\n",
    "feat_imp.plot(kind='bar', title='Feature Importances')"
   ]
  },
  {
   "cell_type": "code",
   "execution_count": null,
   "metadata": {
    "collapsed": true
   },
   "outputs": [],
   "source": []
  }
 ],
 "metadata": {
  "kernelspec": {
   "display_name": "Python 3",
   "language": "python",
   "name": "python3"
  },
  "language_info": {
   "codemirror_mode": {
    "name": "ipython",
    "version": 3
   },
   "file_extension": ".py",
   "mimetype": "text/x-python",
   "name": "python",
   "nbconvert_exporter": "python",
   "pygments_lexer": "ipython3",
   "version": "3.6.3"
  }
 },
 "nbformat": 4,
 "nbformat_minor": 2
}
