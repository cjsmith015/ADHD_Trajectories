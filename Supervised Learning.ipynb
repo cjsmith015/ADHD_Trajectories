{
 "cells": [
  {
   "cell_type": "code",
   "execution_count": 3,
   "metadata": {},
   "outputs": [
    {
     "name": "stderr",
     "output_type": "stream",
     "text": [
      "/home/christie/anaconda3/envs/py36/lib/python3.6/site-packages/h5py/__init__.py:36: FutureWarning: Conversion of the second argument of issubdtype from `float` to `np.floating` is deprecated. In future, it will be treated as `np.float64 == np.dtype(float).type`.\n",
      "  from ._conv import register_converters as _register_converters\n",
      "Using TensorFlow backend.\n"
     ]
    }
   ],
   "source": [
    "import pandas as pd\n",
    "import numpy as np\n",
    "import scipy.stats as scs\n",
    "\n",
    "from impute_transform import ImputeTransform\n",
    "from supervised_functions import *\n",
    "from fancyimpute import *\n",
    "\n",
    "from sklearn.linear_model import LogisticRegression\n",
    "from sklearn.pipeline import make_pipeline\n",
    "\n",
    "import matplotlib.pyplot as plt\n",
    "import matplotlib\n",
    "%matplotlib inline\n",
    "plt.style.use('ggplot')"
   ]
  },
  {
   "cell_type": "code",
   "execution_count": 6,
   "metadata": {},
   "outputs": [],
   "source": [
    "train_data = pd.read_csv('data/train_data.csv')\n",
    "test_data = pd.read_csv('data/holdout_data.csv')"
   ]
  },
  {
   "cell_type": "markdown",
   "metadata": {},
   "source": [
    "# Supervised Learning in ADHD"
   ]
  },
  {
   "cell_type": "markdown",
   "metadata": {},
   "source": [
    "## Introduction\n",
    "\n",
    "The lab wanted to see which models were best for predicting ADHD diagnosis, and how significant the differences between them were.\n",
    "\n",
    "\n",
    "To tackle this, I picked four classifier models:\n",
    " - Logistic Regression\n",
    " - Random Forest\n",
    " - Gradient Boosting\n",
    " - XGBoost\n",
    " \n",
    " \n",
    "And examined ROC AUC and log loss scores on four datasets:\n",
    " - DX ~ All features (TMCQ + Neuropsych)\n",
    " - DXSUB ~ All features\n",
    " - DX ~ TMCQ features\n",
    " - DX ~ Neuropsych features"
   ]
  },
  {
   "cell_type": "markdown",
   "metadata": {},
   "source": [
    "---"
   ]
  },
  {
   "cell_type": "markdown",
   "metadata": {},
   "source": [
    "First, a bit of exploratory data analysis to decide how to impute values, and whether or not any of our variables are 'leaky'."
   ]
  },
  {
   "cell_type": "markdown",
   "metadata": {},
   "source": [
    "# EDA: Missing Value Imputation\n",
    "\n",
    "Missing values are common in clinical research (e.g., the participant did not complete a task or missed a question on a survey) but impact data analysis. It is not appropriate to drop subjects with any missing data because that would limit our dataset. Single imputation, where you replace missing values on a variable with one specific value, is not a good option.\n",
    "\n",
    "The Python library, [fancyimpute](https://pypi.python.org/pypi/fancyimpute), gives us some good options for dealing with this. The following section will explore which algorithm is the best option for this dataset."
   ]
  },
  {
   "cell_type": "code",
   "execution_count": 53,
   "metadata": {
    "collapsed": true
   },
   "outputs": [],
   "source": [
    "# Make all solver objects\n",
    "KNN_solver = KNN(k=5)\n",
    "softimpute_solver = SoftImpute()\n",
    "MICE_solver = MICE()\n",
    "simple_solver = SimpleFill()\n",
    "iterativeSVD_solver = IterativeSVD()\n",
    "mf_solver = MatrixFactorization()\n",
    "\n",
    "solver_list = [KNN_solver, softimpute_solver, MICE_solver,\n",
    "               simple_solver, iterativeSVD_solver, mf_solver]\n",
    "solver_names = ['KNN', 'SoftImpute', 'MICE', 'SimpleFill',\n",
    "                   'IterativeSVD', 'MatrixFactorization']"
   ]
  },
  {
   "cell_type": "code",
   "execution_count": 54,
   "metadata": {
    "collapsed": true
   },
   "outputs": [],
   "source": [
    "# Create a dataframe from the complete data in `train_data`. Then, randomly insert some NaNs for MSE testing.\n",
    "nan_inserted_data, missing_mask, complete_df = create_missing_data(train_data)"
   ]
  },
  {
   "cell_type": "code",
   "execution_count": 55,
   "metadata": {
    "collapsed": true
   },
   "outputs": [],
   "source": [
    "%%capture\n",
    "mse_df = create_mse_df(nan_inserted_data, missing_mask,\n",
    "                       complete_df, solver_list, solver_names)"
   ]
  },
  {
   "cell_type": "markdown",
   "metadata": {},
   "source": [
    "Which method had the most \"minimum MSEs\" across the columns?"
   ]
  },
  {
   "cell_type": "code",
   "execution_count": 56,
   "metadata": {},
   "outputs": [
    {
     "name": "stdout",
     "output_type": "stream",
     "text": [
      "KNN Frequency of Minimum MSE:                     4 of 35 features\n",
      "SoftImpute Frequency of Minimum MSE:              2 of 35 features\n",
      "MICE Frequency of Minimum MSE:                    2 of 35 features\n",
      "SimpleFill Frequency of Minimum MSE:              1 of 35 features\n",
      "IterativeSVD Frequency of Minimum MSE:            3 of 35 features\n",
      "MatrixFactorization Frequency of Minimum MSE:     23 of 35 features\n"
     ]
    }
   ],
   "source": [
    "min_mse(mse_df, solver_names)"
   ]
  },
  {
   "cell_type": "markdown",
   "metadata": {},
   "source": [
    "The MatrixFactorization algorithm is the best option for imputation."
   ]
  },
  {
   "cell_type": "markdown",
   "metadata": {},
   "source": [
    "---"
   ]
  },
  {
   "cell_type": "markdown",
   "metadata": {},
   "source": [
    "# EDA: Checking for Leaky Data\n",
    "\n",
    "> Leakage is a pervasive challenge in applied machine learning, causing models to over-represent their generalization error and often rendering them useless in the real world. It can caused by human or mechanical error, and can be intentional or unintentional in both cases. [Data Leakage - Kaggle](https://www.kaggle.com/wiki/Leakage)\n",
    "\n",
    "A quick check for data leakage is best practice when approaching a new dataset. I had really high ROC AUC scores so I wanted to investigate if I had any leaky data."
   ]
  },
  {
   "cell_type": "code",
   "execution_count": 17,
   "metadata": {
    "collapsed": true
   },
   "outputs": [],
   "source": [
    "log_reg_clf = make_pipeline(ImputeTransform(strategy=MatrixFactorization()),\n",
    "                    LogisticRegression(random_state=56))"
   ]
  },
  {
   "cell_type": "code",
   "execution_count": 19,
   "metadata": {
    "collapsed": true
   },
   "outputs": [],
   "source": [
    "%%capture\n",
    "scores = test_leaky_data(train_data, log_reg_clf)"
   ]
  },
  {
   "cell_type": "code",
   "execution_count": 20,
   "metadata": {},
   "outputs": [
    {
     "data": {
      "text/plain": [
       "[('STOP_SSRTAVE_Y1', 0.97188197767145135),\n",
       " ('DPRIME1_Y1', 0.97056884635832008),\n",
       " ('DPRIME2_Y1', 0.96988968633705475),\n",
       " ('SSBK_NUMCOMPLETE_Y1', 0.97125066454013831),\n",
       " ('SSFD_NUMCOMPLETE_Y1', 0.9707615629984051),\n",
       " ('V_Y1', 0.96981392876129713),\n",
       " ('Y1_CLWRD_COND1', 0.96939792663476876),\n",
       " ('Y1_CLWRD_COND2', 0.97222089314194571),\n",
       " ('Y1_DIGITS_BKWD_RS', 0.97146198830409358),\n",
       " ('Y1_DIGITS_FRWD_RS', 0.96977937267410952),\n",
       " ('Y1_TRAILS_COND2', 0.97121610845295048),\n",
       " ('Y1_TRAILS_COND3', 0.96838383838383846),\n",
       " ('CW_RES', 0.97099548112706002),\n",
       " ('TR_RES', 0.9717397660818714),\n",
       " ('Y1_TAP_SD_TOT_CLOCK', 0.97250664540138221),\n",
       " ('Y1_P_TMCQ_ACTIVCONT', 0.97014221158957992),\n",
       " ('Y1_P_TMCQ_ACTIVITY', 0.96992690058479525),\n",
       " ('Y1_P_TMCQ_AFFIL', 0.96993354598617754),\n",
       " ('Y1_P_TMCQ_ANGER', 0.97007177033492842),\n",
       " ('Y1_P_TMCQ_FEAR', 0.97251727804359367),\n",
       " ('Y1_P_TMCQ_HIP', 0.97196969696969693),\n",
       " ('Y1_P_TMCQ_IMPULS', 0.96612174375332283),\n",
       " ('Y1_P_TMCQ_INHIBIT', 0.97116959064327479),\n",
       " ('Y1_P_TMCQ_SAD', 0.97039207868155231),\n",
       " ('Y1_P_TMCQ_SHY', 0.97215311004784688),\n",
       " ('Y1_P_TMCQ_SOOTHE', 0.9689699627857522),\n",
       " ('Y1_P_TMCQ_ASSERT', 0.97057017543859647),\n",
       " ('Y1_P_TMCQ_ATTFOCUS', 0.95654439128123347),\n",
       " ('Y1_P_TMCQ_LIP', 0.97026448697501322),\n",
       " ('Y1_P_TMCQ_PERCEPT', 0.97075491759702293),\n",
       " ('Y1_P_TMCQ_DISCOMF', 0.96958798511430078),\n",
       " ('Y1_P_TMCQ_OPENNESS', 0.97350611376927176),\n",
       " ('Y1_P_TMCQ_SURGENCY', 0.97103003721424774),\n",
       " ('Y1_P_TMCQ_EFFCONT', 0.97111111111111104),\n",
       " ('Y1_P_TMCQ_NEGAFFECT', 0.97191520467836257)]"
      ]
     },
     "execution_count": 20,
     "metadata": {},
     "output_type": "execute_result"
    }
   ],
   "source": [
    "scores"
   ]
  },
  {
   "cell_type": "markdown",
   "metadata": {},
   "source": [
    "The name of column is the one that was removed. It seems like removing any one column does not drop the ROC AUC score too significantly, so none of these variables are leaky."
   ]
  },
  {
   "cell_type": "markdown",
   "metadata": {},
   "source": [
    "---"
   ]
  },
  {
   "cell_type": "markdown",
   "metadata": {},
   "source": [
    "# Models\n",
    "\n",
    "One question the ADHD Research Lab had about their data was \"Do more advanced machine learning techniques outperform logistic regression?\". To answer this question, I picked four models:\n",
    " * Logistic Regression\n",
    " * Random Forest\n",
    " * Gradient Boosting\n",
    " * XGBoost\n",
    " \n",
    "Next, I examined the performance of these models on the following datasets:\n",
    " * DX ~ TMCQ & neuro features\n",
    " * DXSUB ~ TMCQ & neuro features\n",
    " * DX ~ TMCQ features only\n",
    " * DX ~ Neuro features only\n",
    " \n",
    "I used k-fold cross-validation (k=10) on these models and datasets, and examined these metrics:\n",
    " * ROC AUC\n",
    " * Log Loss\n",
    " \n",
    "*Notes:*\n",
    "The metrics below are obtained from models using the **defaults** in sklearn and xgboost. None of the models are tuned at this point.\n",
    "Due to the lengthy computation time this process requires, I have run model_metrics.py on the different datasets and obtained CSVs for each. "
   ]
  },
  {
   "cell_type": "code",
   "execution_count": 3,
   "metadata": {
    "collapsed": true
   },
   "outputs": [],
   "source": [
    "roc_auc = pd.read_csv('final_csvs/ROC_AUC.csv', index_col=0)\n",
    "log_loss = pd.read_csv('final_csvs/Log_Loss.csv', index_col=0)\n",
    "\n",
    "model_dict = {\n",
    "              'Logistic Regression': {'name': 'LogReg', 'linestyle': 'solid', 'marker': 'o', 'color':'#ff9000'},\n",
    "              'Random Forest': {'name': 'RandomForest', 'linestyle': 'solid', 'marker': 'o', 'color':'#56B4E9'},\n",
    "              'Gradient Boosting': {'name': 'GradientBoosting', 'linestyle': 'solid', 'marker': 'o', 'color':'#009E73'},\n",
    "              'XGBoost': {'name': 'XGB', 'linestyle': 'solid', 'marker': 'o', 'color':'#CC79A7'}\n",
    "              }\n",
    "\n",
    "metric_dict = {\n",
    "                'ROC_AUC':\n",
    "                    {'Title': 'ROC AUC by Model',\n",
    "                     'ylabel': 'ROC AUC Score',\n",
    "                     'dataframe': roc_auc,\n",
    "                     'col_names': ['DX~All', 'DXSUB~All', 'DX~TMCQ', 'DX~Neuro']},\n",
    "                'LogLoss':\n",
    "                    {'Title': 'Log Loss by Model',\n",
    "                     'ylabel': 'abs(Log loss) Score',\n",
    "                     'dataframe': -log_loss,\n",
    "                     'col_names': ['DX~All', 'DXSUB~All', 'DX~TMCQ', 'DX~Neuro']},\n",
    "               }"
   ]
  },
  {
   "cell_type": "markdown",
   "metadata": {},
   "source": [
    "## Model Metrics"
   ]
  },
  {
   "cell_type": "code",
   "execution_count": 4,
   "metadata": {
    "scrolled": false
   },
   "outputs": [
    {
     "data": {
      "image/png": "[encoded data removed]",
      "text/plain": [
       "<matplotlib.figure.Figure at 0x7f583781bb38>"
      ]
     },
     "metadata": {},
     "output_type": "display_data"
    }
   ],
   "source": [
    "fig, axs = plt.subplots(2,1, figsize=(10,13))\n",
    "_ = create_metric_graph(model_dict, metric_dict, axs)"
   ]
  },
  {
   "cell_type": "markdown",
   "metadata": {},
   "source": [
    "Recall:\n",
    " * Higher ROC AUC score == **Better** Performance\n",
    " * Higher abs(Log Loss) score == **Worse** Performance\n",
    " \n",
    "We can conclude a few things from these graphs:\n",
    " * Random Forest has the worst performance in terms of log loss\n",
    " * The datasets DX~All and DX~TMCQ have good general performance, across models. The models have a harder time predicting DXSUB~All and DX~Neuro."
   ]
  },
  {
   "cell_type": "markdown",
   "metadata": {
    "collapsed": true
   },
   "source": [
    "## Significance of Differences"
   ]
  },
  {
   "cell_type": "markdown",
   "metadata": {},
   "source": [
    "There seems to be some difference in models, but we need to see if it's statistically significant. To do this, I ran Mann-Whitney U tests combination of model metric within a dataset to see if the differences were statistically significant. I used Benjamini-Hochberg FDR control to deal with the problem of multiple testing. The FDR is set at 0.05. I picked this method over the Bonferroni correction because I didn't see the need for as stringent a control that the Bonferonni provides."
   ]
  },
  {
   "cell_type": "code",
   "execution_count": 33,
   "metadata": {
    "collapsed": true
   },
   "outputs": [],
   "source": [
    "DX_all = pd.read_csv('final_csvs/DX_All.csv')\n",
    "DXSUB_all = pd.read_csv('final_csvs/DXSUB_All.csv')\n",
    "DX_tmcq = pd.read_csv('final_csvs/DX_TMCQ.csv')\n",
    "DX_neuro = pd.read_csv('final_csvs/DX_Neuro.csv')"
   ]
  },
  {
   "cell_type": "code",
   "execution_count": 38,
   "metadata": {},
   "outputs": [
    {
     "data": {
      "text/html": [
       "<div>\n",
       "<style scoped>\n",
       "    .dataframe tbody tr th:only-of-type {\n",
       "        vertical-align: middle;\n",
       "    }\n",
       "\n",
       "    .dataframe tbody tr th {\n",
       "        vertical-align: top;\n",
       "    }\n",
       "\n",
       "    .dataframe thead th {\n",
       "        text-align: right;\n",
       "    }\n",
       "</style>\n",
       "<table border=\"1\" class=\"dataframe\">\n",
       "  <thead>\n",
       "    <tr style=\"text-align: right;\">\n",
       "      <th></th>\n",
       "      <th>p-val</th>\n",
       "      <th>rank</th>\n",
       "      <th>(i/m)Q</th>\n",
       "      <th>sig?</th>\n",
       "    </tr>\n",
       "  </thead>\n",
       "  <tbody>\n",
       "    <tr>\n",
       "      <th>RandomForest_ROCAUC_GradientBoosting_ROCAUC</th>\n",
       "      <td>0.070083</td>\n",
       "      <td>1</td>\n",
       "      <td>0.004167</td>\n",
       "      <td>False</td>\n",
       "    </tr>\n",
       "    <tr>\n",
       "      <th>LogReg_ROCAUC_RandomForest_ROCAUC</th>\n",
       "      <td>0.070233</td>\n",
       "      <td>2</td>\n",
       "      <td>0.008333</td>\n",
       "      <td>False</td>\n",
       "    </tr>\n",
       "    <tr>\n",
       "      <th>RandomForest_ROCAUC_XGB_ROCAUC</th>\n",
       "      <td>0.075387</td>\n",
       "      <td>3</td>\n",
       "      <td>0.012500</td>\n",
       "      <td>False</td>\n",
       "    </tr>\n",
       "    <tr>\n",
       "      <th>LogReg_LogLoss_RandomForest_LogLoss</th>\n",
       "      <td>0.136518</td>\n",
       "      <td>4</td>\n",
       "      <td>0.016667</td>\n",
       "      <td>False</td>\n",
       "    </tr>\n",
       "    <tr>\n",
       "      <th>RandomForest_LogLoss_GradientBoosting_LogLoss</th>\n",
       "      <td>0.153745</td>\n",
       "      <td>5</td>\n",
       "      <td>0.020833</td>\n",
       "      <td>False</td>\n",
       "    </tr>\n",
       "    <tr>\n",
       "      <th>RandomForest_LogLoss_XGB_LogLoss</th>\n",
       "      <td>0.172352</td>\n",
       "      <td>6</td>\n",
       "      <td>0.025000</td>\n",
       "      <td>False</td>\n",
       "    </tr>\n",
       "    <tr>\n",
       "      <th>LogReg_LogLoss_GradientBoosting_LogLoss</th>\n",
       "      <td>0.285375</td>\n",
       "      <td>7</td>\n",
       "      <td>0.029167</td>\n",
       "      <td>False</td>\n",
       "    </tr>\n",
       "    <tr>\n",
       "      <th>GradientBoosting_LogLoss_XGB_LogLoss</th>\n",
       "      <td>0.285375</td>\n",
       "      <td>8</td>\n",
       "      <td>0.033333</td>\n",
       "      <td>False</td>\n",
       "    </tr>\n",
       "    <tr>\n",
       "      <th>LogReg_ROCAUC_XGB_ROCAUC</th>\n",
       "      <td>0.425053</td>\n",
       "      <td>9</td>\n",
       "      <td>0.037500</td>\n",
       "      <td>False</td>\n",
       "    </tr>\n",
       "    <tr>\n",
       "      <th>LogReg_ROCAUC_GradientBoosting_ROCAUC</th>\n",
       "      <td>0.454827</td>\n",
       "      <td>10</td>\n",
       "      <td>0.041667</td>\n",
       "      <td>False</td>\n",
       "    </tr>\n",
       "    <tr>\n",
       "      <th>GradientBoosting_ROCAUC_XGB_ROCAUC</th>\n",
       "      <td>0.484925</td>\n",
       "      <td>11</td>\n",
       "      <td>0.045833</td>\n",
       "      <td>False</td>\n",
       "    </tr>\n",
       "    <tr>\n",
       "      <th>LogReg_LogLoss_XGB_LogLoss</th>\n",
       "      <td>0.484925</td>\n",
       "      <td>12</td>\n",
       "      <td>0.050000</td>\n",
       "      <td>False</td>\n",
       "    </tr>\n",
       "  </tbody>\n",
       "</table>\n",
       "</div>"
      ],
      "text/plain": [
       "                                                  p-val  rank    (i/m)Q   sig?\n",
       "RandomForest_ROCAUC_GradientBoosting_ROCAUC    0.070083     1  0.004167  False\n",
       "LogReg_ROCAUC_RandomForest_ROCAUC              0.070233     2  0.008333  False\n",
       "RandomForest_ROCAUC_XGB_ROCAUC                 0.075387     3  0.012500  False\n",
       "LogReg_LogLoss_RandomForest_LogLoss            0.136518     4  0.016667  False\n",
       "RandomForest_LogLoss_GradientBoosting_LogLoss  0.153745     5  0.020833  False\n",
       "RandomForest_LogLoss_XGB_LogLoss               0.172352     6  0.025000  False\n",
       "LogReg_LogLoss_GradientBoosting_LogLoss        0.285375     7  0.029167  False\n",
       "GradientBoosting_LogLoss_XGB_LogLoss           0.285375     8  0.033333  False\n",
       "LogReg_ROCAUC_XGB_ROCAUC                       0.425053     9  0.037500  False\n",
       "LogReg_ROCAUC_GradientBoosting_ROCAUC          0.454827    10  0.041667  False\n",
       "GradientBoosting_ROCAUC_XGB_ROCAUC             0.484925    11  0.045833  False\n",
       "LogReg_LogLoss_XGB_LogLoss                     0.484925    12  0.050000  False"
      ]
     },
     "execution_count": 38,
     "metadata": {},
     "output_type": "execute_result"
    }
   ],
   "source": [
    "run_mannwhitneyu_all(DX_all)"
   ]
  },
  {
   "cell_type": "code",
   "execution_count": 39,
   "metadata": {
    "scrolled": true
   },
   "outputs": [
    {
     "data": {
      "text/html": [
       "<div>\n",
       "<style scoped>\n",
       "    .dataframe tbody tr th:only-of-type {\n",
       "        vertical-align: middle;\n",
       "    }\n",
       "\n",
       "    .dataframe tbody tr th {\n",
       "        vertical-align: top;\n",
       "    }\n",
       "\n",
       "    .dataframe thead th {\n",
       "        text-align: right;\n",
       "    }\n",
       "</style>\n",
       "<table border=\"1\" class=\"dataframe\">\n",
       "  <thead>\n",
       "    <tr style=\"text-align: right;\">\n",
       "      <th></th>\n",
       "      <th>p-val</th>\n",
       "      <th>rank</th>\n",
       "      <th>(i/m)Q</th>\n",
       "      <th>sig?</th>\n",
       "    </tr>\n",
       "  </thead>\n",
       "  <tbody>\n",
       "    <tr>\n",
       "      <th>LogReg_LogLoss_RandomForest_LogLoss</th>\n",
       "      <td>0.000091</td>\n",
       "      <td>1</td>\n",
       "      <td>0.004167</td>\n",
       "      <td>True</td>\n",
       "    </tr>\n",
       "    <tr>\n",
       "      <th>RandomForest_LogLoss_GradientBoosting_LogLoss</th>\n",
       "      <td>0.000091</td>\n",
       "      <td>2</td>\n",
       "      <td>0.008333</td>\n",
       "      <td>True</td>\n",
       "    </tr>\n",
       "    <tr>\n",
       "      <th>RandomForest_LogLoss_XGB_LogLoss</th>\n",
       "      <td>0.000091</td>\n",
       "      <td>3</td>\n",
       "      <td>0.012500</td>\n",
       "      <td>True</td>\n",
       "    </tr>\n",
       "    <tr>\n",
       "      <th>LogReg_ROCAUC_XGB_ROCAUC</th>\n",
       "      <td>0.060612</td>\n",
       "      <td>4</td>\n",
       "      <td>0.016667</td>\n",
       "      <td>False</td>\n",
       "    </tr>\n",
       "    <tr>\n",
       "      <th>LogReg_ROCAUC_GradientBoosting_ROCAUC</th>\n",
       "      <td>0.080986</td>\n",
       "      <td>5</td>\n",
       "      <td>0.020833</td>\n",
       "      <td>False</td>\n",
       "    </tr>\n",
       "    <tr>\n",
       "      <th>RandomForest_ROCAUC_XGB_ROCAUC</th>\n",
       "      <td>0.136518</td>\n",
       "      <td>6</td>\n",
       "      <td>0.025000</td>\n",
       "      <td>False</td>\n",
       "    </tr>\n",
       "    <tr>\n",
       "      <th>GradientBoosting_LogLoss_XGB_LogLoss</th>\n",
       "      <td>0.136518</td>\n",
       "      <td>7</td>\n",
       "      <td>0.029167</td>\n",
       "      <td>False</td>\n",
       "    </tr>\n",
       "    <tr>\n",
       "      <th>LogReg_LogLoss_XGB_LogLoss</th>\n",
       "      <td>0.192337</td>\n",
       "      <td>8</td>\n",
       "      <td>0.033333</td>\n",
       "      <td>False</td>\n",
       "    </tr>\n",
       "    <tr>\n",
       "      <th>RandomForest_ROCAUC_GradientBoosting_ROCAUC</th>\n",
       "      <td>0.202751</td>\n",
       "      <td>9</td>\n",
       "      <td>0.037500</td>\n",
       "      <td>False</td>\n",
       "    </tr>\n",
       "    <tr>\n",
       "      <th>LogReg_LogLoss_GradientBoosting_LogLoss</th>\n",
       "      <td>0.213678</td>\n",
       "      <td>10</td>\n",
       "      <td>0.041667</td>\n",
       "      <td>False</td>\n",
       "    </tr>\n",
       "    <tr>\n",
       "      <th>LogReg_ROCAUC_RandomForest_ROCAUC</th>\n",
       "      <td>0.311588</td>\n",
       "      <td>11</td>\n",
       "      <td>0.045833</td>\n",
       "      <td>False</td>\n",
       "    </tr>\n",
       "    <tr>\n",
       "      <th>GradientBoosting_ROCAUC_XGB_ROCAUC</th>\n",
       "      <td>0.410265</td>\n",
       "      <td>12</td>\n",
       "      <td>0.050000</td>\n",
       "      <td>False</td>\n",
       "    </tr>\n",
       "  </tbody>\n",
       "</table>\n",
       "</div>"
      ],
      "text/plain": [
       "                                                  p-val  rank    (i/m)Q   sig?\n",
       "LogReg_LogLoss_RandomForest_LogLoss            0.000091     1  0.004167   True\n",
       "RandomForest_LogLoss_GradientBoosting_LogLoss  0.000091     2  0.008333   True\n",
       "RandomForest_LogLoss_XGB_LogLoss               0.000091     3  0.012500   True\n",
       "LogReg_ROCAUC_XGB_ROCAUC                       0.060612     4  0.016667  False\n",
       "LogReg_ROCAUC_GradientBoosting_ROCAUC          0.080986     5  0.020833  False\n",
       "RandomForest_ROCAUC_XGB_ROCAUC                 0.136518     6  0.025000  False\n",
       "GradientBoosting_LogLoss_XGB_LogLoss           0.136518     7  0.029167  False\n",
       "LogReg_LogLoss_XGB_LogLoss                     0.192337     8  0.033333  False\n",
       "RandomForest_ROCAUC_GradientBoosting_ROCAUC    0.202751     9  0.037500  False\n",
       "LogReg_LogLoss_GradientBoosting_LogLoss        0.213678    10  0.041667  False\n",
       "LogReg_ROCAUC_RandomForest_ROCAUC              0.311588    11  0.045833  False\n",
       "GradientBoosting_ROCAUC_XGB_ROCAUC             0.410265    12  0.050000  False"
      ]
     },
     "execution_count": 39,
     "metadata": {},
     "output_type": "execute_result"
    }
   ],
   "source": [
    "run_mannwhitneyu_all(DXSUB_all)"
   ]
  },
  {
   "cell_type": "markdown",
   "metadata": {},
   "source": [
    "Random Forest had significantly worse log loss than all the other models on this dataset."
   ]
  },
  {
   "cell_type": "code",
   "execution_count": 40,
   "metadata": {},
   "outputs": [
    {
     "data": {
      "text/html": [
       "<div>\n",
       "<style scoped>\n",
       "    .dataframe tbody tr th:only-of-type {\n",
       "        vertical-align: middle;\n",
       "    }\n",
       "\n",
       "    .dataframe tbody tr th {\n",
       "        vertical-align: top;\n",
       "    }\n",
       "\n",
       "    .dataframe thead th {\n",
       "        text-align: right;\n",
       "    }\n",
       "</style>\n",
       "<table border=\"1\" class=\"dataframe\">\n",
       "  <thead>\n",
       "    <tr style=\"text-align: right;\">\n",
       "      <th></th>\n",
       "      <th>p-val</th>\n",
       "      <th>rank</th>\n",
       "      <th>(i/m)Q</th>\n",
       "      <th>sig?</th>\n",
       "    </tr>\n",
       "  </thead>\n",
       "  <tbody>\n",
       "    <tr>\n",
       "      <th>LogReg_ROCAUC_RandomForest_ROCAUC</th>\n",
       "      <td>0.070233</td>\n",
       "      <td>1</td>\n",
       "      <td>0.004167</td>\n",
       "      <td>False</td>\n",
       "    </tr>\n",
       "    <tr>\n",
       "      <th>LogReg_LogLoss_RandomForest_LogLoss</th>\n",
       "      <td>0.070233</td>\n",
       "      <td>2</td>\n",
       "      <td>0.008333</td>\n",
       "      <td>False</td>\n",
       "    </tr>\n",
       "    <tr>\n",
       "      <th>LogReg_LogLoss_GradientBoosting_LogLoss</th>\n",
       "      <td>0.070233</td>\n",
       "      <td>3</td>\n",
       "      <td>0.012500</td>\n",
       "      <td>False</td>\n",
       "    </tr>\n",
       "    <tr>\n",
       "      <th>LogReg_LogLoss_XGB_LogLoss</th>\n",
       "      <td>0.106147</td>\n",
       "      <td>4</td>\n",
       "      <td>0.016667</td>\n",
       "      <td>False</td>\n",
       "    </tr>\n",
       "    <tr>\n",
       "      <th>RandomForest_ROCAUC_XGB_ROCAUC</th>\n",
       "      <td>0.144778</td>\n",
       "      <td>5</td>\n",
       "      <td>0.020833</td>\n",
       "      <td>False</td>\n",
       "    </tr>\n",
       "    <tr>\n",
       "      <th>LogReg_ROCAUC_GradientBoosting_ROCAUC</th>\n",
       "      <td>0.153745</td>\n",
       "      <td>6</td>\n",
       "      <td>0.025000</td>\n",
       "      <td>False</td>\n",
       "    </tr>\n",
       "    <tr>\n",
       "      <th>LogReg_ROCAUC_XGB_ROCAUC</th>\n",
       "      <td>0.213417</td>\n",
       "      <td>7</td>\n",
       "      <td>0.029167</td>\n",
       "      <td>False</td>\n",
       "    </tr>\n",
       "    <tr>\n",
       "      <th>RandomForest_LogLoss_XGB_LogLoss</th>\n",
       "      <td>0.213678</td>\n",
       "      <td>8</td>\n",
       "      <td>0.033333</td>\n",
       "      <td>False</td>\n",
       "    </tr>\n",
       "    <tr>\n",
       "      <th>RandomForest_ROCAUC_GradientBoosting_ROCAUC</th>\n",
       "      <td>0.224761</td>\n",
       "      <td>9</td>\n",
       "      <td>0.037500</td>\n",
       "      <td>False</td>\n",
       "    </tr>\n",
       "    <tr>\n",
       "      <th>RandomForest_LogLoss_GradientBoosting_LogLoss</th>\n",
       "      <td>0.260261</td>\n",
       "      <td>10</td>\n",
       "      <td>0.041667</td>\n",
       "      <td>False</td>\n",
       "    </tr>\n",
       "    <tr>\n",
       "      <th>GradientBoosting_LogLoss_XGB_LogLoss</th>\n",
       "      <td>0.366865</td>\n",
       "      <td>11</td>\n",
       "      <td>0.045833</td>\n",
       "      <td>False</td>\n",
       "    </tr>\n",
       "    <tr>\n",
       "      <th>GradientBoosting_ROCAUC_XGB_ROCAUC</th>\n",
       "      <td>0.484891</td>\n",
       "      <td>12</td>\n",
       "      <td>0.050000</td>\n",
       "      <td>False</td>\n",
       "    </tr>\n",
       "  </tbody>\n",
       "</table>\n",
       "</div>"
      ],
      "text/plain": [
       "                                                  p-val  rank    (i/m)Q   sig?\n",
       "LogReg_ROCAUC_RandomForest_ROCAUC              0.070233     1  0.004167  False\n",
       "LogReg_LogLoss_RandomForest_LogLoss            0.070233     2  0.008333  False\n",
       "LogReg_LogLoss_GradientBoosting_LogLoss        0.070233     3  0.012500  False\n",
       "LogReg_LogLoss_XGB_LogLoss                     0.106147     4  0.016667  False\n",
       "RandomForest_ROCAUC_XGB_ROCAUC                 0.144778     5  0.020833  False\n",
       "LogReg_ROCAUC_GradientBoosting_ROCAUC          0.153745     6  0.025000  False\n",
       "LogReg_ROCAUC_XGB_ROCAUC                       0.213417     7  0.029167  False\n",
       "RandomForest_LogLoss_XGB_LogLoss               0.213678     8  0.033333  False\n",
       "RandomForest_ROCAUC_GradientBoosting_ROCAUC    0.224761     9  0.037500  False\n",
       "RandomForest_LogLoss_GradientBoosting_LogLoss  0.260261    10  0.041667  False\n",
       "GradientBoosting_LogLoss_XGB_LogLoss           0.366865    11  0.045833  False\n",
       "GradientBoosting_ROCAUC_XGB_ROCAUC             0.484891    12  0.050000  False"
      ]
     },
     "execution_count": 40,
     "metadata": {},
     "output_type": "execute_result"
    }
   ],
   "source": [
    "run_mannwhitneyu_all(DX_tmcq)"
   ]
  },
  {
   "cell_type": "code",
   "execution_count": 41,
   "metadata": {
    "scrolled": true
   },
   "outputs": [
    {
     "data": {
      "text/html": [
       "<div>\n",
       "<style scoped>\n",
       "    .dataframe tbody tr th:only-of-type {\n",
       "        vertical-align: middle;\n",
       "    }\n",
       "\n",
       "    .dataframe tbody tr th {\n",
       "        vertical-align: top;\n",
       "    }\n",
       "\n",
       "    .dataframe thead th {\n",
       "        text-align: right;\n",
       "    }\n",
       "</style>\n",
       "<table border=\"1\" class=\"dataframe\">\n",
       "  <thead>\n",
       "    <tr style=\"text-align: right;\">\n",
       "      <th></th>\n",
       "      <th>p-val</th>\n",
       "      <th>rank</th>\n",
       "      <th>(i/m)Q</th>\n",
       "      <th>sig?</th>\n",
       "    </tr>\n",
       "  </thead>\n",
       "  <tbody>\n",
       "    <tr>\n",
       "      <th>LogReg_LogLoss_RandomForest_LogLoss</th>\n",
       "      <td>0.002293</td>\n",
       "      <td>1</td>\n",
       "      <td>0.004167</td>\n",
       "      <td>True</td>\n",
       "    </tr>\n",
       "    <tr>\n",
       "      <th>LogReg_ROCAUC_RandomForest_ROCAUC</th>\n",
       "      <td>0.007010</td>\n",
       "      <td>2</td>\n",
       "      <td>0.008333</td>\n",
       "      <td>True</td>\n",
       "    </tr>\n",
       "    <tr>\n",
       "      <th>RandomForest_LogLoss_GradientBoosting_LogLoss</th>\n",
       "      <td>0.044487</td>\n",
       "      <td>3</td>\n",
       "      <td>0.012500</td>\n",
       "      <td>False</td>\n",
       "    </tr>\n",
       "    <tr>\n",
       "      <th>LogReg_ROCAUC_XGB_ROCAUC</th>\n",
       "      <td>0.052055</td>\n",
       "      <td>4</td>\n",
       "      <td>0.016667</td>\n",
       "      <td>False</td>\n",
       "    </tr>\n",
       "    <tr>\n",
       "      <th>RandomForest_ROCAUC_GradientBoosting_ROCAUC</th>\n",
       "      <td>0.052055</td>\n",
       "      <td>5</td>\n",
       "      <td>0.020833</td>\n",
       "      <td>False</td>\n",
       "    </tr>\n",
       "    <tr>\n",
       "      <th>LogReg_LogLoss_GradientBoosting_LogLoss</th>\n",
       "      <td>0.052055</td>\n",
       "      <td>6</td>\n",
       "      <td>0.025000</td>\n",
       "      <td>False</td>\n",
       "    </tr>\n",
       "    <tr>\n",
       "      <th>LogReg_LogLoss_XGB_LogLoss</th>\n",
       "      <td>0.052055</td>\n",
       "      <td>7</td>\n",
       "      <td>0.029167</td>\n",
       "      <td>False</td>\n",
       "    </tr>\n",
       "    <tr>\n",
       "      <th>RandomForest_ROCAUC_XGB_ROCAUC</th>\n",
       "      <td>0.060612</td>\n",
       "      <td>8</td>\n",
       "      <td>0.033333</td>\n",
       "      <td>False</td>\n",
       "    </tr>\n",
       "    <tr>\n",
       "      <th>RandomForest_LogLoss_XGB_LogLoss</th>\n",
       "      <td>0.070233</td>\n",
       "      <td>9</td>\n",
       "      <td>0.037500</td>\n",
       "      <td>False</td>\n",
       "    </tr>\n",
       "    <tr>\n",
       "      <th>LogReg_ROCAUC_GradientBoosting_ROCAUC</th>\n",
       "      <td>0.106147</td>\n",
       "      <td>10</td>\n",
       "      <td>0.041667</td>\n",
       "      <td>False</td>\n",
       "    </tr>\n",
       "    <tr>\n",
       "      <th>GradientBoosting_ROCAUC_XGB_ROCAUC</th>\n",
       "      <td>0.366865</td>\n",
       "      <td>11</td>\n",
       "      <td>0.045833</td>\n",
       "      <td>False</td>\n",
       "    </tr>\n",
       "    <tr>\n",
       "      <th>GradientBoosting_LogLoss_XGB_LogLoss</th>\n",
       "      <td>0.454861</td>\n",
       "      <td>12</td>\n",
       "      <td>0.050000</td>\n",
       "      <td>False</td>\n",
       "    </tr>\n",
       "  </tbody>\n",
       "</table>\n",
       "</div>"
      ],
      "text/plain": [
       "                                                  p-val  rank    (i/m)Q   sig?\n",
       "LogReg_LogLoss_RandomForest_LogLoss            0.002293     1  0.004167   True\n",
       "LogReg_ROCAUC_RandomForest_ROCAUC              0.007010     2  0.008333   True\n",
       "RandomForest_LogLoss_GradientBoosting_LogLoss  0.044487     3  0.012500  False\n",
       "LogReg_ROCAUC_XGB_ROCAUC                       0.052055     4  0.016667  False\n",
       "RandomForest_ROCAUC_GradientBoosting_ROCAUC    0.052055     5  0.020833  False\n",
       "LogReg_LogLoss_GradientBoosting_LogLoss        0.052055     6  0.025000  False\n",
       "LogReg_LogLoss_XGB_LogLoss                     0.052055     7  0.029167  False\n",
       "RandomForest_ROCAUC_XGB_ROCAUC                 0.060612     8  0.033333  False\n",
       "RandomForest_LogLoss_XGB_LogLoss               0.070233     9  0.037500  False\n",
       "LogReg_ROCAUC_GradientBoosting_ROCAUC          0.106147    10  0.041667  False\n",
       "GradientBoosting_ROCAUC_XGB_ROCAUC             0.366865    11  0.045833  False\n",
       "GradientBoosting_LogLoss_XGB_LogLoss           0.454861    12  0.050000  False"
      ]
     },
     "execution_count": 41,
     "metadata": {},
     "output_type": "execute_result"
    }
   ],
   "source": [
    "run_mannwhitneyu_all(DX_neuro)"
   ]
  },
  {
   "cell_type": "markdown",
   "metadata": {},
   "source": [
    "Random Forest had significantly worse LogLoss and ROCAUC when compared to Logistic Regression."
   ]
  },
  {
   "cell_type": "markdown",
   "metadata": {},
   "source": [
    "So, all the models are on the same page (with exception of Random Forest in the DXSUB_All and DX_Neuro dataset). We can conclude that it'd be sufficient to perform logistic regression on each dataset."
   ]
  },
  {
   "cell_type": "markdown",
   "metadata": {},
   "source": [
    "---"
   ]
  },
  {
   "cell_type": "markdown",
   "metadata": {},
   "source": [
    "# Tuning the Models"
   ]
  },
  {
   "cell_type": "markdown",
   "metadata": {
    "collapsed": true
   },
   "source": [
    "Prior to running the statistical tests, I decided to try tuning the XGBoost model since it seemed to be the best model. I now know that the models are not significantly different in performance, and a logistic regression is sufficient. \n",
    "\n",
    "For details on parameter tuning for XGBoost, check out `scratch/Tuning XGBoost.ipynb`."
   ]
  },
  {
   "cell_type": "markdown",
   "metadata": {},
   "source": [
    "# Testing on the Holdout Set"
   ]
  },
  {
   "cell_type": "markdown",
   "metadata": {},
   "source": [
    "I wanted to check the ROC AUC scores and log loss of the datasets when trained on the training data and tested on the hold-out set."
   ]
  },
  {
   "cell_type": "code",
   "execution_count": null,
   "metadata": {},
   "outputs": [],
   "source": []
  }
 ],
 "metadata": {
  "kernelspec": {
   "display_name": "Python 3",
   "language": "python",
   "name": "python3"
  },
  "language_info": {
   "codemirror_mode": {
    "name": "ipython",
    "version": 3
   },
   "file_extension": ".py",
   "mimetype": "text/x-python",
   "name": "python",
   "nbconvert_exporter": "python",
   "pygments_lexer": "ipython3",
   "version": "3.6.4"
  }
 },
 "nbformat": 4,
 "nbformat_minor": 2
}
