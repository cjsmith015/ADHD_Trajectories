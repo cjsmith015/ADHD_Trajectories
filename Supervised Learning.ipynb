{
 "cells": [
  {
   "cell_type": "code",
   "execution_count": 34,
   "metadata": {},
   "outputs": [],
   "source": [
    "import pandas as pd\n",
    "import numpy as np\n",
    "\n",
    "from impute_transform import ImputeTransform\n",
    "from supervised_functions import *\n",
    "from fancyimpute import *\n",
    "\n",
    "import matplotlib.pyplot as plt\n",
    "import matplotlib\n",
    "%matplotlib inline\n",
    "plt.style.use('ggplot')"
   ]
  },
  {
   "cell_type": "code",
   "execution_count": 6,
   "metadata": {
    "collapsed": true
   },
   "outputs": [],
   "source": [
    "train_data = pd.read_csv('data/train_data.csv')"
   ]
  },
  {
   "cell_type": "markdown",
   "metadata": {},
   "source": [
    "# Supervised Learning in ADHD"
   ]
  },
  {
   "cell_type": "markdown",
   "metadata": {},
   "source": [
    "## Introduction"
   ]
  },
  {
   "cell_type": "markdown",
   "metadata": {},
   "source": [
    "## Overview of Methods\n",
    " - EDA: Missing Value Imputation\n",
    " - Model Metrics\n",
    " - Tuning The Models"
   ]
  },
  {
   "cell_type": "markdown",
   "metadata": {},
   "source": [
    "## Overview of Results (?)"
   ]
  },
  {
   "cell_type": "markdown",
   "metadata": {},
   "source": [
    "---"
   ]
  },
  {
   "cell_type": "markdown",
   "metadata": {},
   "source": [
    "# EDA: Missing Value Imputation\n",
    "\n",
    "Missing values are common in clinical research (e.g., the participant did not complete a task or missed a question on a survey) but impact data analysis. It is not appropriate to drop subjects with any missing data because that would limit our dataset. Single imputation, where you replace missing values on a variable with one specific value, is not a good option.\n",
    "\n",
    "The Python library, [fancyimpute](https://pypi.python.org/pypi/fancyimpute), gives us some good options for dealing with this. The following section will explore which algorithm is the best option for this dataset."
   ]
  },
  {
   "cell_type": "code",
   "execution_count": 53,
   "metadata": {
    "collapsed": true
   },
   "outputs": [],
   "source": [
    "# Make all solver objects\n",
    "KNN_solver = KNN(k=5)\n",
    "softimpute_solver = SoftImpute()\n",
    "MICE_solver = MICE()\n",
    "simple_solver = SimpleFill()\n",
    "iterativeSVD_solver = IterativeSVD()\n",
    "mf_solver = MatrixFactorization()\n",
    "\n",
    "solver_list = [KNN_solver, softimpute_solver, MICE_solver,\n",
    "               simple_solver, iterativeSVD_solver, mf_solver]\n",
    "solver_names = ['KNN', 'SoftImpute', 'MICE', 'SimpleFill',\n",
    "                   'IterativeSVD', 'MatrixFactorization']"
   ]
  },
  {
   "cell_type": "code",
   "execution_count": 54,
   "metadata": {},
   "outputs": [],
   "source": [
    "# Create a dataframe from the complete data in `train_data`. Then, randomly insert some NaNs for MSE testing.\n",
    "nan_inserted_data, missing_mask, complete_df = create_missing_data(train_data)"
   ]
  },
  {
   "cell_type": "code",
   "execution_count": 55,
   "metadata": {},
   "outputs": [],
   "source": [
    "%%capture\n",
    "mse_df = create_mse_df(nan_inserted_data, missing_mask,\n",
    "                       complete_df, solver_list, solver_names)"
   ]
  },
  {
   "cell_type": "markdown",
   "metadata": {},
   "source": [
    "Which method had the most \"minimum MSEs\" across the columns?"
   ]
  },
  {
   "cell_type": "code",
   "execution_count": 56,
   "metadata": {},
   "outputs": [
    {
     "name": "stdout",
     "output_type": "stream",
     "text": [
      "KNN Frequency of Minimum MSE:                     4 of 35 features\n",
      "SoftImpute Frequency of Minimum MSE:              2 of 35 features\n",
      "MICE Frequency of Minimum MSE:                    2 of 35 features\n",
      "SimpleFill Frequency of Minimum MSE:              1 of 35 features\n",
      "IterativeSVD Frequency of Minimum MSE:            3 of 35 features\n",
      "MatrixFactorization Frequency of Minimum MSE:     23 of 35 features\n"
     ]
    }
   ],
   "source": [
    "min_mse(mse_df, solver_names)"
   ]
  },
  {
   "cell_type": "markdown",
   "metadata": {},
   "source": [
    "The MatrixFactorization algorithm is the best option for imputation."
   ]
  },
  {
   "cell_type": "markdown",
   "metadata": {},
   "source": [
    "---"
   ]
  },
  {
   "cell_type": "markdown",
   "metadata": {},
   "source": [
    "# EDA: Checking for Leaky Data\n",
    "\n",
    "> Leakage is a pervasive challenge in applied machine learning, causing models to over-represent their generalization error and often rendering them useless in the real world. It can caused by human or mechanical error, and can be intentional or unintentional in both cases. [Data Leakage - Kaggle](https://www.kaggle.com/wiki/Leakage)\n",
    "\n",
    "A quick check for data leakage is best practice when approaching a new dataset."
   ]
  },
  {
   "cell_type": "code",
   "execution_count": 57,
   "metadata": {
    "collapsed": true
   },
   "outputs": [],
   "source": [
    "# do the things"
   ]
  },
  {
   "cell_type": "markdown",
   "metadata": {},
   "source": [
    "---"
   ]
  },
  {
   "cell_type": "markdown",
   "metadata": {},
   "source": [
    "# Models\n",
    "\n",
    "One question the ADHD Research Lab had about their data was \"Do more advanced machine learning techniques outperform logistic regression?\". To answer this question, I picked four models:\n",
    " * Logistic Regression\n",
    " * Random Forest\n",
    " * Gradient Boosting\n",
    " * XGBoost\n",
    " \n",
    "Next, I examined the performance of these models on the following datasets:\n",
    " * DX ~ TMCQ & neuro features\n",
    " * DXSUB ~ TMCQ & neuro features\n",
    " * DX ~ TMCQ features only\n",
    " * DX ~ Neuro features only\n",
    " \n",
    "I used k-fold cross-validation (k=10) on these models and datasets, and examined these metrics:\n",
    " * ROC AUC\n",
    " * Log Loss\n",
    " \n",
    "*Notes:*\n",
    "The metrics below are obtained from models using the **defaults** in sklearn and xgboost. None of the models are tuned at this point.\n",
    "Due to the lengthy computation time this process requires, I have run model_metrics.py on the different datasets and obtained CSVs for each. "
   ]
  },
  {
   "cell_type": "code",
   "execution_count": 63,
   "metadata": {
    "collapsed": true
   },
   "outputs": [],
   "source": [
    "all_feat_dx_10 = pd.read_csv('csv_10/all_dx.csv', index_col=0)\n",
    "all_feat_dxsub_10 = pd.read_csv('csv_10/all_dxsub.csv', index_col=0)\n",
    "tmcq_dx_10 = pd.read_csv('csv_10/tmcq_dx.csv', index_col=0)\n",
    "neuro_dx_10 = pd.read_csv('csv_10/neuro_dx.csv', index_col=0)\n",
    "\n",
    "dataset_dict = {'dataset_list': [all_feat_dx_10, all_feat_dxsub_10,\n",
    "                tmcq_dx_10, neuro_dx_10],\n",
    "                'dataset_name': ['DX ~ All', 'DXSUB ~ All', 'DX ~ TMCQ', 'DX ~ Neuro'],\n",
    "                'model_names': ['LogReg', 'RandomForest', 'GradientBoosting', 'XGB'],\n",
    "                'metrics_col': ['test_roc_auc', 'test_neg_log_loss'],\n",
    "                'metric_names': ['ROC AUC', 'Log Loss']}"
   ]
  },
  {
   "cell_type": "markdown",
   "metadata": {},
   "source": [
    "## Model Metrics"
   ]
  },
  {
   "cell_type": "code",
   "execution_count": 64,
   "metadata": {},
   "outputs": [
    {
     "data": {
      "text/html": [
       "<div>\n",
       "<style scoped>\n",
       "    .dataframe tbody tr th:only-of-type {\n",
       "        vertical-align: middle;\n",
       "    }\n",
       "\n",
       "    .dataframe tbody tr th {\n",
       "        vertical-align: top;\n",
       "    }\n",
       "\n",
       "    .dataframe thead th {\n",
       "        text-align: right;\n",
       "    }\n",
       "</style>\n",
       "<table border=\"1\" class=\"dataframe\">\n",
       "  <thead>\n",
       "    <tr style=\"text-align: right;\">\n",
       "      <th></th>\n",
       "      <th>fit_time</th>\n",
       "      <th>score_time</th>\n",
       "      <th>test_accuracy</th>\n",
       "      <th>test_neg_log_loss</th>\n",
       "      <th>test_roc_auc</th>\n",
       "      <th>train_accuracy</th>\n",
       "      <th>train_neg_log_loss</th>\n",
       "      <th>train_roc_auc</th>\n",
       "    </tr>\n",
       "  </thead>\n",
       "  <tbody>\n",
       "    <tr>\n",
       "      <th>LogReg</th>\n",
       "      <td>9.058308</td>\n",
       "      <td>8.478089</td>\n",
       "      <td>0.917131</td>\n",
       "      <td>-0.202948</td>\n",
       "      <td>0.971099</td>\n",
       "      <td>0.946380</td>\n",
       "      <td>-0.142721</td>\n",
       "      <td>0.986179</td>\n",
       "    </tr>\n",
       "    <tr>\n",
       "      <th>RandomForest</th>\n",
       "      <td>14.021144</td>\n",
       "      <td>19.927122</td>\n",
       "      <td>0.920437</td>\n",
       "      <td>-0.331953</td>\n",
       "      <td>0.957167</td>\n",
       "      <td>0.990786</td>\n",
       "      <td>-0.080075</td>\n",
       "      <td>0.998981</td>\n",
       "    </tr>\n",
       "    <tr>\n",
       "      <th>GradientBoosting</th>\n",
       "      <td>18.169289</td>\n",
       "      <td>32.666833</td>\n",
       "      <td>0.938689</td>\n",
       "      <td>-0.217764</td>\n",
       "      <td>0.972176</td>\n",
       "      <td>0.996683</td>\n",
       "      <td>-0.031348</td>\n",
       "      <td>0.999453</td>\n",
       "    </tr>\n",
       "    <tr>\n",
       "      <th>XGB</th>\n",
       "      <td>22.968352</td>\n",
       "      <td>47.107814</td>\n",
       "      <td>0.932049</td>\n",
       "      <td>-0.204403</td>\n",
       "      <td>0.971385</td>\n",
       "      <td>0.995578</td>\n",
       "      <td>-0.044542</td>\n",
       "      <td>0.999283</td>\n",
       "    </tr>\n",
       "  </tbody>\n",
       "</table>\n",
       "</div>"
      ],
      "text/plain": [
       "                   fit_time  score_time  test_accuracy  test_neg_log_loss  \\\n",
       "LogReg             9.058308    8.478089       0.917131          -0.202948   \n",
       "RandomForest      14.021144   19.927122       0.920437          -0.331953   \n",
       "GradientBoosting  18.169289   32.666833       0.938689          -0.217764   \n",
       "XGB               22.968352   47.107814       0.932049          -0.204403   \n",
       "\n",
       "                  test_roc_auc  train_accuracy  train_neg_log_loss  \\\n",
       "LogReg                0.971099        0.946380           -0.142721   \n",
       "RandomForest          0.957167        0.990786           -0.080075   \n",
       "GradientBoosting      0.972176        0.996683           -0.031348   \n",
       "XGB                   0.971385        0.995578           -0.044542   \n",
       "\n",
       "                  train_roc_auc  \n",
       "LogReg                 0.986179  \n",
       "RandomForest           0.998981  \n",
       "GradientBoosting       0.999453  \n",
       "XGB                    0.999283  "
      ]
     },
     "execution_count": 64,
     "metadata": {},
     "output_type": "execute_result"
    }
   ],
   "source": [
    "all_feat_dx_10"
   ]
  },
  {
   "cell_type": "code",
   "execution_count": 62,
   "metadata": {},
   "outputs": [
    {
     "data": {
      "image/png": "[encoded data removed]",
      "text/plain": [
       "<matplotlib.figure.Figure at 0x7f80966c2748>"
      ]
     },
     "metadata": {},
     "output_type": "display_data"
    }
   ],
   "source": [
    "fig, axs = plt.subplots(2,1, figsize=(10,13))"
   ]
  },
  {
   "cell_type": "code",
   "execution_count": null,
   "metadata": {
    "collapsed": true
   },
   "outputs": [],
   "source": []
  },
  {
   "cell_type": "code",
   "execution_count": null,
   "metadata": {
    "collapsed": true
   },
   "outputs": [],
   "source": []
  },
  {
   "cell_type": "code",
   "execution_count": null,
   "metadata": {
    "collapsed": true
   },
   "outputs": [],
   "source": []
  },
  {
   "cell_type": "markdown",
   "metadata": {},
   "source": [
    "---"
   ]
  },
  {
   "cell_type": "markdown",
   "metadata": {},
   "source": [
    "# Tuning the Models"
   ]
  },
  {
   "cell_type": "code",
   "execution_count": null,
   "metadata": {
    "collapsed": true
   },
   "outputs": [],
   "source": []
  },
  {
   "cell_type": "code",
   "execution_count": null,
   "metadata": {
    "collapsed": true
   },
   "outputs": [],
   "source": []
  },
  {
   "cell_type": "code",
   "execution_count": null,
   "metadata": {
    "collapsed": true
   },
   "outputs": [],
   "source": []
  },
  {
   "cell_type": "code",
   "execution_count": null,
   "metadata": {
    "collapsed": true
   },
   "outputs": [],
   "source": []
  }
 ],
 "metadata": {
  "kernelspec": {
   "display_name": "Python 3",
   "language": "python",
   "name": "python3"
  },
  "language_info": {
   "codemirror_mode": {
    "name": "ipython",
    "version": 3
   },
   "file_extension": ".py",
   "mimetype": "text/x-python",
   "name": "python",
   "nbconvert_exporter": "python",
   "pygments_lexer": "ipython3",
   "version": "3.6.3"
  }
 },
 "nbformat": 4,
 "nbformat_minor": 2
}
